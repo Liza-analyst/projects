{
 "cells": [
  {
   "cell_type": "markdown",
   "metadata": {},
   "source": [
    "# Исследование объявлений о продаже квартир\n",
    "\n",
    "В распоряжении данные сервиса Яндекс.Недвижимость — архив объявлений о продаже квартир в Санкт-Петербурге и соседних населённых пунктов за несколько лет. Задача проекта — установить параметры, так как это позволит построить автоматизированную систему: она отследит аномалии и мошенническую деятельность. \n",
    "\n",
    "По каждой квартире на продажу доступны два вида данных. Первые вписаны пользователем, вторые — получены автоматически на основе картографических данных. "
   ]
  },
  {
   "cell_type": "markdown",
   "metadata": {},
   "source": [
    "### Общая информация."
   ]
  },
  {
   "cell_type": "code",
   "execution_count": 1,
   "metadata": {},
   "outputs": [
    {
     "ename": "FileNotFoundError",
     "evalue": "[Errno 2] No such file or directory: '/datasets/real_estate_data.csv'",
     "output_type": "error",
     "traceback": [
      "\u001b[0;31m---------------------------------------------------------------------------\u001b[0m",
      "\u001b[0;31mFileNotFoundError\u001b[0m                         Traceback (most recent call last)",
      "Input \u001b[0;32mIn [1]\u001b[0m, in \u001b[0;36m<cell line: 5>\u001b[0;34m()\u001b[0m\n\u001b[1;32m      3\u001b[0m \u001b[38;5;28;01mimport\u001b[39;00m \u001b[38;5;21;01mmatplotlib\u001b[39;00m\u001b[38;5;21;01m.\u001b[39;00m\u001b[38;5;21;01mpyplot\u001b[39;00m \u001b[38;5;28;01mas\u001b[39;00m \u001b[38;5;21;01mplt\u001b[39;00m\n\u001b[1;32m      4\u001b[0m \u001b[38;5;28;01mimport\u001b[39;00m \u001b[38;5;21;01mseaborn\u001b[39;00m \u001b[38;5;28;01mas\u001b[39;00m \u001b[38;5;21;01msns\u001b[39;00m\n\u001b[0;32m----> 5\u001b[0m data \u001b[38;5;241m=\u001b[39m \u001b[43mpd\u001b[49m\u001b[38;5;241;43m.\u001b[39;49m\u001b[43mread_csv\u001b[49m\u001b[43m(\u001b[49m\u001b[38;5;124;43m'\u001b[39;49m\u001b[38;5;124;43m/datasets/real_estate_data.csv\u001b[39;49m\u001b[38;5;124;43m'\u001b[39;49m\u001b[43m,\u001b[49m\u001b[43m \u001b[49m\u001b[43msep\u001b[49m\u001b[38;5;241;43m=\u001b[39;49m\u001b[38;5;124;43m'\u001b[39;49m\u001b[38;5;130;43;01m\\t\u001b[39;49;00m\u001b[38;5;124;43m'\u001b[39;49m\u001b[43m)\u001b[49m\n\u001b[1;32m      6\u001b[0m pd\u001b[38;5;241m.\u001b[39mset_option(\u001b[38;5;124m'\u001b[39m\u001b[38;5;124mdisplay.max_columns\u001b[39m\u001b[38;5;124m'\u001b[39m, \u001b[38;5;28;01mNone\u001b[39;00m)\n\u001b[1;32m      7\u001b[0m data\n",
      "File \u001b[0;32m~/opt/anaconda3/lib/python3.9/site-packages/pandas/util/_decorators.py:311\u001b[0m, in \u001b[0;36mdeprecate_nonkeyword_arguments.<locals>.decorate.<locals>.wrapper\u001b[0;34m(*args, **kwargs)\u001b[0m\n\u001b[1;32m    305\u001b[0m \u001b[38;5;28;01mif\u001b[39;00m \u001b[38;5;28mlen\u001b[39m(args) \u001b[38;5;241m>\u001b[39m num_allow_args:\n\u001b[1;32m    306\u001b[0m     warnings\u001b[38;5;241m.\u001b[39mwarn(\n\u001b[1;32m    307\u001b[0m         msg\u001b[38;5;241m.\u001b[39mformat(arguments\u001b[38;5;241m=\u001b[39marguments),\n\u001b[1;32m    308\u001b[0m         \u001b[38;5;167;01mFutureWarning\u001b[39;00m,\n\u001b[1;32m    309\u001b[0m         stacklevel\u001b[38;5;241m=\u001b[39mstacklevel,\n\u001b[1;32m    310\u001b[0m     )\n\u001b[0;32m--> 311\u001b[0m \u001b[38;5;28;01mreturn\u001b[39;00m \u001b[43mfunc\u001b[49m\u001b[43m(\u001b[49m\u001b[38;5;241;43m*\u001b[39;49m\u001b[43margs\u001b[49m\u001b[43m,\u001b[49m\u001b[43m \u001b[49m\u001b[38;5;241;43m*\u001b[39;49m\u001b[38;5;241;43m*\u001b[39;49m\u001b[43mkwargs\u001b[49m\u001b[43m)\u001b[49m\n",
      "File \u001b[0;32m~/opt/anaconda3/lib/python3.9/site-packages/pandas/io/parsers/readers.py:680\u001b[0m, in \u001b[0;36mread_csv\u001b[0;34m(filepath_or_buffer, sep, delimiter, header, names, index_col, usecols, squeeze, prefix, mangle_dupe_cols, dtype, engine, converters, true_values, false_values, skipinitialspace, skiprows, skipfooter, nrows, na_values, keep_default_na, na_filter, verbose, skip_blank_lines, parse_dates, infer_datetime_format, keep_date_col, date_parser, dayfirst, cache_dates, iterator, chunksize, compression, thousands, decimal, lineterminator, quotechar, quoting, doublequote, escapechar, comment, encoding, encoding_errors, dialect, error_bad_lines, warn_bad_lines, on_bad_lines, delim_whitespace, low_memory, memory_map, float_precision, storage_options)\u001b[0m\n\u001b[1;32m    665\u001b[0m kwds_defaults \u001b[38;5;241m=\u001b[39m _refine_defaults_read(\n\u001b[1;32m    666\u001b[0m     dialect,\n\u001b[1;32m    667\u001b[0m     delimiter,\n\u001b[0;32m   (...)\u001b[0m\n\u001b[1;32m    676\u001b[0m     defaults\u001b[38;5;241m=\u001b[39m{\u001b[38;5;124m\"\u001b[39m\u001b[38;5;124mdelimiter\u001b[39m\u001b[38;5;124m\"\u001b[39m: \u001b[38;5;124m\"\u001b[39m\u001b[38;5;124m,\u001b[39m\u001b[38;5;124m\"\u001b[39m},\n\u001b[1;32m    677\u001b[0m )\n\u001b[1;32m    678\u001b[0m kwds\u001b[38;5;241m.\u001b[39mupdate(kwds_defaults)\n\u001b[0;32m--> 680\u001b[0m \u001b[38;5;28;01mreturn\u001b[39;00m \u001b[43m_read\u001b[49m\u001b[43m(\u001b[49m\u001b[43mfilepath_or_buffer\u001b[49m\u001b[43m,\u001b[49m\u001b[43m \u001b[49m\u001b[43mkwds\u001b[49m\u001b[43m)\u001b[49m\n",
      "File \u001b[0;32m~/opt/anaconda3/lib/python3.9/site-packages/pandas/io/parsers/readers.py:575\u001b[0m, in \u001b[0;36m_read\u001b[0;34m(filepath_or_buffer, kwds)\u001b[0m\n\u001b[1;32m    572\u001b[0m _validate_names(kwds\u001b[38;5;241m.\u001b[39mget(\u001b[38;5;124m\"\u001b[39m\u001b[38;5;124mnames\u001b[39m\u001b[38;5;124m\"\u001b[39m, \u001b[38;5;28;01mNone\u001b[39;00m))\n\u001b[1;32m    574\u001b[0m \u001b[38;5;66;03m# Create the parser.\u001b[39;00m\n\u001b[0;32m--> 575\u001b[0m parser \u001b[38;5;241m=\u001b[39m \u001b[43mTextFileReader\u001b[49m\u001b[43m(\u001b[49m\u001b[43mfilepath_or_buffer\u001b[49m\u001b[43m,\u001b[49m\u001b[43m \u001b[49m\u001b[38;5;241;43m*\u001b[39;49m\u001b[38;5;241;43m*\u001b[39;49m\u001b[43mkwds\u001b[49m\u001b[43m)\u001b[49m\n\u001b[1;32m    577\u001b[0m \u001b[38;5;28;01mif\u001b[39;00m chunksize \u001b[38;5;129;01mor\u001b[39;00m iterator:\n\u001b[1;32m    578\u001b[0m     \u001b[38;5;28;01mreturn\u001b[39;00m parser\n",
      "File \u001b[0;32m~/opt/anaconda3/lib/python3.9/site-packages/pandas/io/parsers/readers.py:933\u001b[0m, in \u001b[0;36mTextFileReader.__init__\u001b[0;34m(self, f, engine, **kwds)\u001b[0m\n\u001b[1;32m    930\u001b[0m     \u001b[38;5;28mself\u001b[39m\u001b[38;5;241m.\u001b[39moptions[\u001b[38;5;124m\"\u001b[39m\u001b[38;5;124mhas_index_names\u001b[39m\u001b[38;5;124m\"\u001b[39m] \u001b[38;5;241m=\u001b[39m kwds[\u001b[38;5;124m\"\u001b[39m\u001b[38;5;124mhas_index_names\u001b[39m\u001b[38;5;124m\"\u001b[39m]\n\u001b[1;32m    932\u001b[0m \u001b[38;5;28mself\u001b[39m\u001b[38;5;241m.\u001b[39mhandles: IOHandles \u001b[38;5;241m|\u001b[39m \u001b[38;5;28;01mNone\u001b[39;00m \u001b[38;5;241m=\u001b[39m \u001b[38;5;28;01mNone\u001b[39;00m\n\u001b[0;32m--> 933\u001b[0m \u001b[38;5;28mself\u001b[39m\u001b[38;5;241m.\u001b[39m_engine \u001b[38;5;241m=\u001b[39m \u001b[38;5;28;43mself\u001b[39;49m\u001b[38;5;241;43m.\u001b[39;49m\u001b[43m_make_engine\u001b[49m\u001b[43m(\u001b[49m\u001b[43mf\u001b[49m\u001b[43m,\u001b[49m\u001b[43m \u001b[49m\u001b[38;5;28;43mself\u001b[39;49m\u001b[38;5;241;43m.\u001b[39;49m\u001b[43mengine\u001b[49m\u001b[43m)\u001b[49m\n",
      "File \u001b[0;32m~/opt/anaconda3/lib/python3.9/site-packages/pandas/io/parsers/readers.py:1217\u001b[0m, in \u001b[0;36mTextFileReader._make_engine\u001b[0;34m(self, f, engine)\u001b[0m\n\u001b[1;32m   1213\u001b[0m     mode \u001b[38;5;241m=\u001b[39m \u001b[38;5;124m\"\u001b[39m\u001b[38;5;124mrb\u001b[39m\u001b[38;5;124m\"\u001b[39m\n\u001b[1;32m   1214\u001b[0m \u001b[38;5;66;03m# error: No overload variant of \"get_handle\" matches argument types\u001b[39;00m\n\u001b[1;32m   1215\u001b[0m \u001b[38;5;66;03m# \"Union[str, PathLike[str], ReadCsvBuffer[bytes], ReadCsvBuffer[str]]\"\u001b[39;00m\n\u001b[1;32m   1216\u001b[0m \u001b[38;5;66;03m# , \"str\", \"bool\", \"Any\", \"Any\", \"Any\", \"Any\", \"Any\"\u001b[39;00m\n\u001b[0;32m-> 1217\u001b[0m \u001b[38;5;28mself\u001b[39m\u001b[38;5;241m.\u001b[39mhandles \u001b[38;5;241m=\u001b[39m \u001b[43mget_handle\u001b[49m\u001b[43m(\u001b[49m\u001b[43m  \u001b[49m\u001b[38;5;66;43;03m# type: ignore[call-overload]\u001b[39;49;00m\n\u001b[1;32m   1218\u001b[0m \u001b[43m    \u001b[49m\u001b[43mf\u001b[49m\u001b[43m,\u001b[49m\n\u001b[1;32m   1219\u001b[0m \u001b[43m    \u001b[49m\u001b[43mmode\u001b[49m\u001b[43m,\u001b[49m\n\u001b[1;32m   1220\u001b[0m \u001b[43m    \u001b[49m\u001b[43mencoding\u001b[49m\u001b[38;5;241;43m=\u001b[39;49m\u001b[38;5;28;43mself\u001b[39;49m\u001b[38;5;241;43m.\u001b[39;49m\u001b[43moptions\u001b[49m\u001b[38;5;241;43m.\u001b[39;49m\u001b[43mget\u001b[49m\u001b[43m(\u001b[49m\u001b[38;5;124;43m\"\u001b[39;49m\u001b[38;5;124;43mencoding\u001b[39;49m\u001b[38;5;124;43m\"\u001b[39;49m\u001b[43m,\u001b[49m\u001b[43m \u001b[49m\u001b[38;5;28;43;01mNone\u001b[39;49;00m\u001b[43m)\u001b[49m\u001b[43m,\u001b[49m\n\u001b[1;32m   1221\u001b[0m \u001b[43m    \u001b[49m\u001b[43mcompression\u001b[49m\u001b[38;5;241;43m=\u001b[39;49m\u001b[38;5;28;43mself\u001b[39;49m\u001b[38;5;241;43m.\u001b[39;49m\u001b[43moptions\u001b[49m\u001b[38;5;241;43m.\u001b[39;49m\u001b[43mget\u001b[49m\u001b[43m(\u001b[49m\u001b[38;5;124;43m\"\u001b[39;49m\u001b[38;5;124;43mcompression\u001b[39;49m\u001b[38;5;124;43m\"\u001b[39;49m\u001b[43m,\u001b[49m\u001b[43m \u001b[49m\u001b[38;5;28;43;01mNone\u001b[39;49;00m\u001b[43m)\u001b[49m\u001b[43m,\u001b[49m\n\u001b[1;32m   1222\u001b[0m \u001b[43m    \u001b[49m\u001b[43mmemory_map\u001b[49m\u001b[38;5;241;43m=\u001b[39;49m\u001b[38;5;28;43mself\u001b[39;49m\u001b[38;5;241;43m.\u001b[39;49m\u001b[43moptions\u001b[49m\u001b[38;5;241;43m.\u001b[39;49m\u001b[43mget\u001b[49m\u001b[43m(\u001b[49m\u001b[38;5;124;43m\"\u001b[39;49m\u001b[38;5;124;43mmemory_map\u001b[39;49m\u001b[38;5;124;43m\"\u001b[39;49m\u001b[43m,\u001b[49m\u001b[43m \u001b[49m\u001b[38;5;28;43;01mFalse\u001b[39;49;00m\u001b[43m)\u001b[49m\u001b[43m,\u001b[49m\n\u001b[1;32m   1223\u001b[0m \u001b[43m    \u001b[49m\u001b[43mis_text\u001b[49m\u001b[38;5;241;43m=\u001b[39;49m\u001b[43mis_text\u001b[49m\u001b[43m,\u001b[49m\n\u001b[1;32m   1224\u001b[0m \u001b[43m    \u001b[49m\u001b[43merrors\u001b[49m\u001b[38;5;241;43m=\u001b[39;49m\u001b[38;5;28;43mself\u001b[39;49m\u001b[38;5;241;43m.\u001b[39;49m\u001b[43moptions\u001b[49m\u001b[38;5;241;43m.\u001b[39;49m\u001b[43mget\u001b[49m\u001b[43m(\u001b[49m\u001b[38;5;124;43m\"\u001b[39;49m\u001b[38;5;124;43mencoding_errors\u001b[39;49m\u001b[38;5;124;43m\"\u001b[39;49m\u001b[43m,\u001b[49m\u001b[43m \u001b[49m\u001b[38;5;124;43m\"\u001b[39;49m\u001b[38;5;124;43mstrict\u001b[39;49m\u001b[38;5;124;43m\"\u001b[39;49m\u001b[43m)\u001b[49m\u001b[43m,\u001b[49m\n\u001b[1;32m   1225\u001b[0m \u001b[43m    \u001b[49m\u001b[43mstorage_options\u001b[49m\u001b[38;5;241;43m=\u001b[39;49m\u001b[38;5;28;43mself\u001b[39;49m\u001b[38;5;241;43m.\u001b[39;49m\u001b[43moptions\u001b[49m\u001b[38;5;241;43m.\u001b[39;49m\u001b[43mget\u001b[49m\u001b[43m(\u001b[49m\u001b[38;5;124;43m\"\u001b[39;49m\u001b[38;5;124;43mstorage_options\u001b[39;49m\u001b[38;5;124;43m\"\u001b[39;49m\u001b[43m,\u001b[49m\u001b[43m \u001b[49m\u001b[38;5;28;43;01mNone\u001b[39;49;00m\u001b[43m)\u001b[49m\u001b[43m,\u001b[49m\n\u001b[1;32m   1226\u001b[0m \u001b[43m\u001b[49m\u001b[43m)\u001b[49m\n\u001b[1;32m   1227\u001b[0m \u001b[38;5;28;01massert\u001b[39;00m \u001b[38;5;28mself\u001b[39m\u001b[38;5;241m.\u001b[39mhandles \u001b[38;5;129;01mis\u001b[39;00m \u001b[38;5;129;01mnot\u001b[39;00m \u001b[38;5;28;01mNone\u001b[39;00m\n\u001b[1;32m   1228\u001b[0m f \u001b[38;5;241m=\u001b[39m \u001b[38;5;28mself\u001b[39m\u001b[38;5;241m.\u001b[39mhandles\u001b[38;5;241m.\u001b[39mhandle\n",
      "File \u001b[0;32m~/opt/anaconda3/lib/python3.9/site-packages/pandas/io/common.py:789\u001b[0m, in \u001b[0;36mget_handle\u001b[0;34m(path_or_buf, mode, encoding, compression, memory_map, is_text, errors, storage_options)\u001b[0m\n\u001b[1;32m    784\u001b[0m \u001b[38;5;28;01melif\u001b[39;00m \u001b[38;5;28misinstance\u001b[39m(handle, \u001b[38;5;28mstr\u001b[39m):\n\u001b[1;32m    785\u001b[0m     \u001b[38;5;66;03m# Check whether the filename is to be opened in binary mode.\u001b[39;00m\n\u001b[1;32m    786\u001b[0m     \u001b[38;5;66;03m# Binary mode does not support 'encoding' and 'newline'.\u001b[39;00m\n\u001b[1;32m    787\u001b[0m     \u001b[38;5;28;01mif\u001b[39;00m ioargs\u001b[38;5;241m.\u001b[39mencoding \u001b[38;5;129;01mand\u001b[39;00m \u001b[38;5;124m\"\u001b[39m\u001b[38;5;124mb\u001b[39m\u001b[38;5;124m\"\u001b[39m \u001b[38;5;129;01mnot\u001b[39;00m \u001b[38;5;129;01min\u001b[39;00m ioargs\u001b[38;5;241m.\u001b[39mmode:\n\u001b[1;32m    788\u001b[0m         \u001b[38;5;66;03m# Encoding\u001b[39;00m\n\u001b[0;32m--> 789\u001b[0m         handle \u001b[38;5;241m=\u001b[39m \u001b[38;5;28;43mopen\u001b[39;49m\u001b[43m(\u001b[49m\n\u001b[1;32m    790\u001b[0m \u001b[43m            \u001b[49m\u001b[43mhandle\u001b[49m\u001b[43m,\u001b[49m\n\u001b[1;32m    791\u001b[0m \u001b[43m            \u001b[49m\u001b[43mioargs\u001b[49m\u001b[38;5;241;43m.\u001b[39;49m\u001b[43mmode\u001b[49m\u001b[43m,\u001b[49m\n\u001b[1;32m    792\u001b[0m \u001b[43m            \u001b[49m\u001b[43mencoding\u001b[49m\u001b[38;5;241;43m=\u001b[39;49m\u001b[43mioargs\u001b[49m\u001b[38;5;241;43m.\u001b[39;49m\u001b[43mencoding\u001b[49m\u001b[43m,\u001b[49m\n\u001b[1;32m    793\u001b[0m \u001b[43m            \u001b[49m\u001b[43merrors\u001b[49m\u001b[38;5;241;43m=\u001b[39;49m\u001b[43merrors\u001b[49m\u001b[43m,\u001b[49m\n\u001b[1;32m    794\u001b[0m \u001b[43m            \u001b[49m\u001b[43mnewline\u001b[49m\u001b[38;5;241;43m=\u001b[39;49m\u001b[38;5;124;43m\"\u001b[39;49m\u001b[38;5;124;43m\"\u001b[39;49m\u001b[43m,\u001b[49m\n\u001b[1;32m    795\u001b[0m \u001b[43m        \u001b[49m\u001b[43m)\u001b[49m\n\u001b[1;32m    796\u001b[0m     \u001b[38;5;28;01melse\u001b[39;00m:\n\u001b[1;32m    797\u001b[0m         \u001b[38;5;66;03m# Binary mode\u001b[39;00m\n\u001b[1;32m    798\u001b[0m         handle \u001b[38;5;241m=\u001b[39m \u001b[38;5;28mopen\u001b[39m(handle, ioargs\u001b[38;5;241m.\u001b[39mmode)\n",
      "\u001b[0;31mFileNotFoundError\u001b[0m: [Errno 2] No such file or directory: '/datasets/real_estate_data.csv'"
     ]
    }
   ],
   "source": [
    "import pandas as pd\n",
    "#подключаем библиотеки для построения графиков\n",
    "import matplotlib.pyplot as plt\n",
    "import seaborn as sns\n",
    "data = pd.read_csv('/datasets/real_estate_data.csv', sep='\\t')\n",
    "pd.set_option('display.max_columns', None)\n",
    "data"
   ]
  },
  {
   "cell_type": "code",
   "execution_count": null,
   "metadata": {},
   "outputs": [],
   "source": [
    "data.hist(figsize = (15,20));"
   ]
  },
  {
   "cell_type": "markdown",
   "metadata": {},
   "source": [
    "Вызывают подозрения гистограммы по столбцам: Высота потолков, цена объекта, расстояние до центра города, расстояние до парка около 3000 м, расстояние до водоема около 3000м."
   ]
  },
  {
   "cell_type": "markdown",
   "metadata": {},
   "source": [
    "### Предобработка данных"
   ]
  },
  {
   "cell_type": "markdown",
   "metadata": {},
   "source": [
    "Определение в каких стобцах есть пропуски можно методом isna().sum() или методом value_counts(). В каждом столбце. Также можно еще проверить сколько вообще строк в таблице методом shape() потом вызвать методом info() посмотреть в каких столбцах есть пропуски чтобы заранее знать."
   ]
  },
  {
   "cell_type": "code",
   "execution_count": null,
   "metadata": {
    "scrolled": true
   },
   "outputs": [],
   "source": [
    "data.info() \n",
    "data.shape"
   ]
  },
  {
   "cell_type": "code",
   "execution_count": null,
   "metadata": {},
   "outputs": [],
   "source": [
    "data.isnull().sum() #изучаем количество пропусков"
   ]
  },
  {
   "cell_type": "markdown",
   "metadata": {},
   "source": [
    "Пропуски есть в столбцах: ceiling_height,floors_total ,living_area, is_apartment,kitchen_area,balcony, airports_nearest,cityCenters_nearest,parks_around3000,parks_nearest,ponds_around3000,ponds_nearest ,days_exposition. ceiling_height - неизвестно как сейчас обработать floors_total - неизвестно как сейчас обработать living_area - Обработать среднее значение."
   ]
  },
  {
   "cell_type": "markdown",
   "metadata": {},
   "source": [
    "***Столбец Ceiling_height***"
   ]
  },
  {
   "cell_type": "markdown",
   "metadata": {},
   "source": [
    "С помощью цикла уберем выделяющиеся значения делением на 10."
   ]
  },
  {
   "cell_type": "code",
   "execution_count": null,
   "metadata": {},
   "outputs": [],
   "source": [
    "for i in data['ceiling_height']:\n",
    "        if i > 10 and i in data['ceiling_height']:\n",
    "            i = i // 10\n",
    "data['ceiling_height'].sort_values(ascending=False)"
   ]
  },
  {
   "cell_type": "code",
   "execution_count": null,
   "metadata": {},
   "outputs": [],
   "source": [
    "data['ceiling_height'] = data['ceiling_height'].fillna(data['ceiling_height'].median()) #Замена пустых значений на медианное значение высоты потолка\n",
    "data['ceiling_height'].isnull().sum() #проверка остались ли пустые значения"
   ]
  },
  {
   "cell_type": "markdown",
   "metadata": {},
   "source": [
    "***Столбец floors_total***"
   ]
  },
  {
   "cell_type": "markdown",
   "metadata": {},
   "source": [
    "Здесь нельзя вставить ни медианное, ни среднее значение, так как количество этажей во всем доме либо есть, либо его нет. Тогда где пропуски, нужно удалить эти строки (эти пустые значения) методом dropna()"
   ]
  },
  {
   "cell_type": "code",
   "execution_count": null,
   "metadata": {},
   "outputs": [],
   "source": [
    "data = data.dropna(subset = ['floors_total']) #удаляем значения NaN"
   ]
  },
  {
   "cell_type": "code",
   "execution_count": null,
   "metadata": {},
   "outputs": [],
   "source": [
    "data['floors_total'].isnull().sum() #проверка, что удалились все пропуски"
   ]
  },
  {
   "cell_type": "markdown",
   "metadata": {},
   "source": [
    "***Столбец is_apartment.*** Подразумевается, что человек, когда отвечал на вопрос: \"Это апартаменты?\", пропуском он подразумевал False"
   ]
  },
  {
   "cell_type": "code",
   "execution_count": null,
   "metadata": {},
   "outputs": [],
   "source": [
    "data['is_apartment'] = data['is_apartment'].fillna(False)\n",
    "data['is_apartment'].isnull().sum() #проверка, что заменили все пропуски"
   ]
  },
  {
   "cell_type": "markdown",
   "metadata": {},
   "source": [
    "***Столбец living_area***"
   ]
  },
  {
   "cell_type": "markdown",
   "metadata": {},
   "source": [
    "Жилая площадь не должна быть меньше 6.00 по гос.стандарту."
   ]
  },
  {
   "cell_type": "code",
   "execution_count": null,
   "metadata": {},
   "outputs": [],
   "source": [
    "data.query('living_area > 6') # находим срез удовлятворяющей  условию гос.стандарта (минимальная жилая плошадь 6.00)"
   ]
  },
  {
   "cell_type": "code",
   "execution_count": null,
   "metadata": {},
   "outputs": [],
   "source": [
    "data['living_area'].sort_values() #проверка, что убрались значения, неудовлетворяющие нашему условию"
   ]
  },
  {
   "cell_type": "markdown",
   "metadata": {},
   "source": [
    "***Столбец kitchen_area***"
   ]
  },
  {
   "cell_type": "markdown",
   "metadata": {},
   "source": [
    "Площадь кухни не может быть меньше 4.50 метров по гос.стандарту"
   ]
  },
  {
   "cell_type": "code",
   "execution_count": null,
   "metadata": {},
   "outputs": [],
   "source": [
    "data = data.query('kitchen_area >4.50') # находим срез удовлятворяющий условию гос.стандарта"
   ]
  },
  {
   "cell_type": "code",
   "execution_count": null,
   "metadata": {},
   "outputs": [],
   "source": [
    "data['kitchen_area'].sort_values() # проверяем что нет значений, которые меньшe 4.5"
   ]
  },
  {
   "cell_type": "markdown",
   "metadata": {},
   "source": [
    "***Столбец balcony*** Нужно заполнить пустые значения медианным значением площади балкона."
   ]
  },
  {
   "cell_type": "code",
   "execution_count": null,
   "metadata": {},
   "outputs": [],
   "source": [
    "data['balcony'] = data['balcony'].fillna(0)"
   ]
  },
  {
   "cell_type": "code",
   "execution_count": null,
   "metadata": {},
   "outputs": [],
   "source": [
    "data['balcony'].head()"
   ]
  },
  {
   "cell_type": "code",
   "execution_count": null,
   "metadata": {},
   "outputs": [],
   "source": [
    "data.info() #проверка что заменили все значения и не удалили ничего лишнего."
   ]
  },
  {
   "cell_type": "markdown",
   "metadata": {},
   "source": [
    "Удалилось с изначального датафрейма где-то 2831 строчек, которые не подходили по каким-то критериям"
   ]
  },
  {
   "cell_type": "code",
   "execution_count": null,
   "metadata": {},
   "outputs": [],
   "source": [
    "data.isnull().sum()"
   ]
  },
  {
   "cell_type": "markdown",
   "metadata": {},
   "source": [
    "***Столбец locality_name***"
   ]
  },
  {
   "cell_type": "markdown",
   "metadata": {},
   "source": [
    "Сначала удалим пропуски, где не написано название поселка."
   ]
  },
  {
   "cell_type": "code",
   "execution_count": null,
   "metadata": {},
   "outputs": [],
   "source": [
    "data = data.dropna(subset = ['locality_name'])\n",
    "data['locality_name'].isnull().sum() #проверка, что удалили пустые значения"
   ]
  },
  {
   "cell_type": "code",
   "execution_count": null,
   "metadata": {},
   "outputs": [],
   "source": [
    "data['locality_name'].unique() #посмотрим все варианты уникальных значений"
   ]
  },
  {
   "cell_type": "code",
   "execution_count": null,
   "metadata": {},
   "outputs": [],
   "source": [
    "#функция распределяющая все названия на поселки, села, деревни, пгт, садовые товарищества и прочие(тут города и модет названия поселков где не указано типа)\n",
    "def type_locality_name(locality):\n",
    "    if 'посёлок' in locality:\n",
    "        return 'поселок'\n",
    "    if 'поселок' in locality:\n",
    "        return 'поселок'\n",
    "    if 'поселок при железнодорожной станции' in locality or 'посёлок при железнодорожной станции' in locality:\n",
    "        return 'поселок'\n",
    "    if 'деревня' in locality:\n",
    "        return 'деревня'\n",
    "    if 'село' in locality:\n",
    "        return 'село'\n",
    "    if 'посёлок городского типа'  in locality or 'поселок городского типа' in locality:\n",
    "        return 'пгт'\n",
    "    if 'городской посёлок' in locality or 'городской поселок' in locality:\n",
    "        return 'пгт'\n",
    "    if 'садовое товарищество' in locality or 'садовое некоммерческое товарищество' in locality:\n",
    "        return 'садовое товарищество'\n",
    "    else:\n",
    "        return 'прочие'"
   ]
  },
  {
   "cell_type": "code",
   "execution_count": null,
   "metadata": {},
   "outputs": [],
   "source": [
    "data['locality_type'] = data['locality_name'].apply(type_locality_name)"
   ]
  },
  {
   "cell_type": "code",
   "execution_count": null,
   "metadata": {},
   "outputs": [],
   "source": [
    "data.head()"
   ]
  },
  {
   "cell_type": "code",
   "execution_count": null,
   "metadata": {},
   "outputs": [],
   "source": [
    "# Поменяем в столбце с названиями типы поселков и е на ё сначала\n",
    "# Нам нужно убрать название поселка, города и т.д. \n",
    "data['locality_name'] = data['locality_name'].replace('|'.join(['посёлок ', 'поселок ','городского ','типа ','деревня ']), '', regex=True)"
   ]
  },
  {
   "cell_type": "code",
   "execution_count": null,
   "metadata": {},
   "outputs": [],
   "source": [
    "data['locality_name'].value_counts()"
   ]
  },
  {
   "cell_type": "markdown",
   "metadata": {},
   "source": [
    "Заполним пропуски в картографических данных \"-1\", что будет означать что здесь пропуск."
   ]
  },
  {
   "cell_type": "markdown",
   "metadata": {},
   "source": [
    "***Столбец airports_nearest***"
   ]
  },
  {
   "cell_type": "code",
   "execution_count": null,
   "metadata": {},
   "outputs": [],
   "source": [
    "data['airports_nearest'] = data['airports_nearest'].fillna(-1)"
   ]
  },
  {
   "cell_type": "markdown",
   "metadata": {},
   "source": [
    "***Столбец cityCenters_nearest***"
   ]
  },
  {
   "cell_type": "code",
   "execution_count": null,
   "metadata": {},
   "outputs": [],
   "source": [
    "data['cityCenters_nearest'] = data['cityCenters_nearest'].fillna(-1)"
   ]
  },
  {
   "cell_type": "markdown",
   "metadata": {},
   "source": [
    "***Столбец parks_around3000***"
   ]
  },
  {
   "cell_type": "code",
   "execution_count": null,
   "metadata": {},
   "outputs": [],
   "source": [
    "data['parks_around3000'] = data['parks_around3000'].fillna(-1)"
   ]
  },
  {
   "cell_type": "markdown",
   "metadata": {},
   "source": [
    "***Столбец parks_nearest***"
   ]
  },
  {
   "cell_type": "code",
   "execution_count": null,
   "metadata": {},
   "outputs": [],
   "source": [
    "data['parks_nearest'] = data['parks_nearest'].fillna(-1)"
   ]
  },
  {
   "cell_type": "markdown",
   "metadata": {},
   "source": [
    "***Столбец ponds_around3000***"
   ]
  },
  {
   "cell_type": "code",
   "execution_count": null,
   "metadata": {},
   "outputs": [],
   "source": [
    "data['ponds_around3000'] = data['ponds_around3000'].fillna(-1)"
   ]
  },
  {
   "cell_type": "markdown",
   "metadata": {},
   "source": [
    "***Столбец ponds_nearest***"
   ]
  },
  {
   "cell_type": "code",
   "execution_count": null,
   "metadata": {},
   "outputs": [],
   "source": [
    "data['ponds_nearest'] = data['ponds_nearest'].fillna(-1)"
   ]
  },
  {
   "cell_type": "markdown",
   "metadata": {},
   "source": [
    "Тоже заполним столбец \"сколько дней было размещено объявление (от публикации до снятия)\" -1, что покажет что квартира еще не продана."
   ]
  },
  {
   "cell_type": "markdown",
   "metadata": {},
   "source": [
    "***Столбец days_exposition***"
   ]
  },
  {
   "cell_type": "code",
   "execution_count": null,
   "metadata": {},
   "outputs": [],
   "source": [
    "data['days_exposition'] = data['days_exposition'].fillna(-1)"
   ]
  },
  {
   "cell_type": "code",
   "execution_count": null,
   "metadata": {},
   "outputs": [],
   "source": [
    "data"
   ]
  },
  {
   "cell_type": "markdown",
   "metadata": {},
   "source": [
    "Поменяем типы данных. Столбец first_day_exposition с строки в тип дат. Столбец floors_total с вещественных в целый. Столбец balcony с вещественных в целый."
   ]
  },
  {
   "cell_type": "code",
   "execution_count": null,
   "metadata": {},
   "outputs": [],
   "source": [
    "data['first_day_exposition'] = pd.to_datetime(data['first_day_exposition'], format = '%Y-%m-%dT%H:%M:%S')\n",
    "data['floors_total'] = data['floors_total'].astype('int')\n",
    "data['balcony'] = data['balcony'].astype('int')"
   ]
  },
  {
   "cell_type": "code",
   "execution_count": null,
   "metadata": {},
   "outputs": [],
   "source": [
    "data.info()"
   ]
  },
  {
   "cell_type": "code",
   "execution_count": null,
   "metadata": {},
   "outputs": [],
   "source": [
    "data.describe()"
   ]
  },
  {
   "cell_type": "code",
   "execution_count": null,
   "metadata": {},
   "outputs": [],
   "source": [
    "#код ревьюера\n",
    "data['total_area'].hist(bins=30);"
   ]
  },
  {
   "cell_type": "markdown",
   "metadata": {},
   "source": [
    "***Total_area***"
   ]
  },
  {
   "cell_type": "markdown",
   "metadata": {},
   "source": [
    "Считаем аномальными квартиры, которые больше 250 кв.м"
   ]
  },
  {
   "cell_type": "code",
   "execution_count": null,
   "metadata": {},
   "outputs": [],
   "source": [
    "data = data.query('total_area <= 250')\n",
    "data['total_area'].sort_values(ascending=False) #проверка, что нет значений больше 250"
   ]
  },
  {
   "cell_type": "markdown",
   "metadata": {},
   "source": [
    "***Ceiling_height***"
   ]
  },
  {
   "cell_type": "code",
   "execution_count": null,
   "metadata": {},
   "outputs": [],
   "source": [
    "data['ceiling_height'].hist(bins=15);\n"
   ]
  },
  {
   "cell_type": "markdown",
   "metadata": {},
   "source": [
    "Считаем аномальными квартиры, у которых потолок выше 6м"
   ]
  },
  {
   "cell_type": "code",
   "execution_count": null,
   "metadata": {},
   "outputs": [],
   "source": [
    "data = data.query('ceiling_height <= 6')\n",
    "data['total_area'].sort_values(ascending=False) #проверка, что нет значений больше 6"
   ]
  },
  {
   "cell_type": "markdown",
   "metadata": {},
   "source": [
    "***Rooms***"
   ]
  },
  {
   "cell_type": "code",
   "execution_count": null,
   "metadata": {},
   "outputs": [],
   "source": [
    "data['rooms'].hist(bins=30);"
   ]
  },
  {
   "cell_type": "markdown",
   "metadata": {},
   "source": [
    "Аномальными значениями можно считать квартиры, где комнат больше 7."
   ]
  },
  {
   "cell_type": "code",
   "execution_count": null,
   "metadata": {},
   "outputs": [],
   "source": [
    "data = data.query('rooms <= 7')\n",
    "data['rooms'].sort_values(ascending=False) #проверка, что нет значений больше 7"
   ]
  },
  {
   "cell_type": "markdown",
   "metadata": {},
   "source": [
    "Завершилась предработка данных. Из исходной таблицы удалила 2831 строку. Они не подходили по описанию и по заданной мной параметрам. Также обрабботала все неявные дубликаты и заполнила пропуски, соответсвующими значениями. "
   ]
  },
  {
   "cell_type": "markdown",
   "metadata": {},
   "source": [
    "### Добавьте в таблицу новые столбцы со следующими параметрами"
   ]
  },
  {
   "cell_type": "markdown",
   "metadata": {},
   "source": [
    "Добавление столбца: цена одного квадратного метра\n",
    "Цена 1 м кв= last_price/total_area"
   ]
  },
  {
   "cell_type": "code",
   "execution_count": null,
   "metadata": {},
   "outputs": [],
   "source": [
    "data['metres_price'] = data['last_price'] / data['total_area']"
   ]
  },
  {
   "cell_type": "code",
   "execution_count": null,
   "metadata": {},
   "outputs": [],
   "source": [
    "data['metres_price'].head()"
   ]
  },
  {
   "cell_type": "markdown",
   "metadata": {},
   "source": [
    "Добавление столбца: день недели публикации объявления (0 — понедельник, 1 — вторник и так далее). Через функцию. Метод dayofweek возвращает номер дня недели."
   ]
  },
  {
   "cell_type": "code",
   "execution_count": null,
   "metadata": {},
   "outputs": [],
   "source": [
    "def day_of_week(days):\n",
    "    if days.dayofweek == 0:\n",
    "        return \"понедельник\" \n",
    "    elif days.dayofweek == 1:\n",
    "        return \"вторник\"\n",
    "    elif days.dayofweek == 2:\n",
    "        return \"среда\"\n",
    "    elif days.dayofweek == 3:\n",
    "        return \"четверг\"\n",
    "    elif days.dayofweek == 4:\n",
    "        return \"пятница\"\n",
    "    elif days.dayofweek == 5:\n",
    "        return \"суббота\"\n",
    "    elif days.dayofweek == 6:\n",
    "        return \"воскресенье\"\n",
    "data['day_of_week'] = data['first_day_exposition'].apply(day_of_week)"
   ]
  },
  {
   "cell_type": "code",
   "execution_count": null,
   "metadata": {},
   "outputs": [],
   "source": [
    "data.head(25)"
   ]
  },
  {
   "cell_type": "markdown",
   "metadata": {},
   "source": [
    "Добавление столбца: месяц публикации объявления. По аналогии с днем недели"
   ]
  },
  {
   "cell_type": "code",
   "execution_count": null,
   "metadata": {},
   "outputs": [],
   "source": [
    "def name_month(months):\n",
    "    if months.month == 1:\n",
    "        return \"январь\" \n",
    "    elif months.month == 2:\n",
    "        return \"февраль\" \n",
    "    elif months.month == 3:\n",
    "        return \"март\"\n",
    "    elif months.month == 4:\n",
    "        return \"апрель\"\n",
    "    elif months.month == 5:\n",
    "        return \"май\"\n",
    "    elif months.month == 6:\n",
    "        return \"июнь\"\n",
    "    elif months.month == 7:\n",
    "        return \"июль\"\n",
    "    elif months.month == 8:\n",
    "        return \"август\"\n",
    "    elif months.month == 9:\n",
    "        return \"сентябрь\"\n",
    "    elif months.month == 10:\n",
    "        return \"октябрь\"\n",
    "    elif months.month == 11:\n",
    "        return \"ноябрь\"\n",
    "    elif months.month == 12:\n",
    "        return \"декабрь\"\n",
    "data['months_name'] = data['first_day_exposition'].apply(name_month)"
   ]
  },
  {
   "cell_type": "markdown",
   "metadata": {},
   "source": [
    "Добавление столбца: год публикации объявления"
   ]
  },
  {
   "cell_type": "code",
   "execution_count": null,
   "metadata": {},
   "outputs": [],
   "source": [
    "data['years'] = data['first_day_exposition'].dt.year"
   ]
  },
  {
   "cell_type": "code",
   "execution_count": null,
   "metadata": {},
   "outputs": [],
   "source": [
    "data"
   ]
  },
  {
   "cell_type": "markdown",
   "metadata": {},
   "source": [
    "Добавление столбца: тип этажа квартиры (значения — «первый», «последний», «другой»). С помощью функции"
   ]
  },
  {
   "cell_type": "code",
   "execution_count": null,
   "metadata": {},
   "outputs": [],
   "source": [
    "data['floors_total'].sort_values(ascending=False) "
   ]
  },
  {
   "cell_type": "markdown",
   "metadata": {},
   "source": [
    "Максимальный этаж 60"
   ]
  },
  {
   "cell_type": "code",
   "execution_count": null,
   "metadata": {},
   "outputs": [],
   "source": [
    "data['floor'].unique()"
   ]
  },
  {
   "cell_type": "code",
   "execution_count": null,
   "metadata": {},
   "outputs": [],
   "source": [
    "data['floors_total'].unique()"
   ]
  },
  {
   "cell_type": "code",
   "execution_count": null,
   "metadata": {},
   "outputs": [],
   "source": [
    "def type_of_floor(floor, total):\n",
    "    if floor == 1:\n",
    "        return \"первый\"\n",
    "    elif floor == total:\n",
    "        return \"последний\"\n",
    "    else:\n",
    "        return \"другой\""
   ]
  },
  {
   "cell_type": "code",
   "execution_count": null,
   "metadata": {},
   "outputs": [],
   "source": [
    "data['type_of_floor'] = data.apply(lambda x: type_of_floor(x['floor'], x['floors_total']), axis=1)"
   ]
  },
  {
   "cell_type": "markdown",
   "metadata": {},
   "source": [
    "Добавление столбца: расстояние до центра города в километрах"
   ]
  },
  {
   "cell_type": "code",
   "execution_count": null,
   "metadata": {},
   "outputs": [],
   "source": [
    "data['cityCenters_nearest_km'] = (data['cityCenters_nearest'] / 1000).round()"
   ]
  },
  {
   "cell_type": "code",
   "execution_count": null,
   "metadata": {},
   "outputs": [],
   "source": [
    "data.head(50)"
   ]
  },
  {
   "cell_type": "markdown",
   "metadata": {},
   "source": [
    "### Проведите исследовательский анализ данных"
   ]
  },
  {
   "cell_type": "markdown",
   "metadata": {},
   "source": [
    "Найдем взаимость с каждым из данных параметров."
   ]
  },
  {
   "cell_type": "markdown",
   "metadata": {},
   "source": [
    "Сначала рассмотрим каждый параметр по отдельности. Построим для него гистограмму. Применим метод describe(), чтобы узнать минимум, максимум, \"усы\", выбросы. Построим гистограмму, диаграмму размаха. \n"
   ]
  },
  {
   "cell_type": "markdown",
   "metadata": {},
   "source": [
    "#### Рассмотрим сначала каждый параметр по отдельности. А потом их зависимости."
   ]
  },
  {
   "cell_type": "markdown",
   "metadata": {},
   "source": [
    "Общая площадь объекта"
   ]
  },
  {
   "cell_type": "code",
   "execution_count": null,
   "metadata": {},
   "outputs": [],
   "source": [
    "data['total_area'].describe()"
   ]
  },
  {
   "cell_type": "code",
   "execution_count": null,
   "metadata": {},
   "outputs": [],
   "source": [
    "data.boxplot('total_area');"
   ]
  },
  {
   "cell_type": "code",
   "execution_count": null,
   "metadata": {},
   "outputs": [],
   "source": [
    "data['total_area'].hist(bins=100); #строим гистограмму"
   ]
  },
  {
   "cell_type": "markdown",
   "metadata": {},
   "source": [
    "Большее количество квартир собрано в начале, т. есть у них площадь примерно медианное значение. И таких кватртир большинство"
   ]
  },
  {
   "cell_type": "markdown",
   "metadata": {},
   "source": [
    "Жилая площадь"
   ]
  },
  {
   "cell_type": "code",
   "execution_count": null,
   "metadata": {},
   "outputs": [],
   "source": [
    "data['living_area'].describe();"
   ]
  },
  {
   "cell_type": "code",
   "execution_count": null,
   "metadata": {},
   "outputs": [],
   "source": [
    "data.boxplot('living_area');"
   ]
  },
  {
   "cell_type": "code",
   "execution_count": null,
   "metadata": {},
   "outputs": [],
   "source": [
    "data['living_area'].hist(bins=30);"
   ]
  },
  {
   "cell_type": "markdown",
   "metadata": {},
   "source": [
    "Анологично общей площади, большинство квартир име/т медианное значение жилой площади, так же уществуют и выбросы."
   ]
  },
  {
   "cell_type": "markdown",
   "metadata": {},
   "source": [
    "Площадь кухни"
   ]
  },
  {
   "cell_type": "code",
   "execution_count": null,
   "metadata": {},
   "outputs": [],
   "source": [
    "data['kitchen_area'].describe();"
   ]
  },
  {
   "cell_type": "code",
   "execution_count": null,
   "metadata": {},
   "outputs": [],
   "source": [
    "data.boxplot('kitchen_area');"
   ]
  },
  {
   "cell_type": "code",
   "execution_count": null,
   "metadata": {},
   "outputs": [],
   "source": [
    "data['kitchen_area'].hist(bins=40);"
   ]
  },
  {
   "cell_type": "markdown",
   "metadata": {},
   "source": [
    "Большенство кватрир имеют среднюю площадь кухни, есть и те, которые выбиваются, но их значительно меньше"
   ]
  },
  {
   "cell_type": "markdown",
   "metadata": {},
   "source": [
    "Цена объекта"
   ]
  },
  {
   "cell_type": "code",
   "execution_count": null,
   "metadata": {},
   "outputs": [],
   "source": [
    "data['last_price'] = data['last_price'] / 1000000"
   ]
  },
  {
   "cell_type": "code",
   "execution_count": null,
   "metadata": {},
   "outputs": [],
   "source": [
    "data['last_price'].describe()"
   ]
  },
  {
   "cell_type": "code",
   "execution_count": null,
   "metadata": {},
   "outputs": [],
   "source": [
    "data.boxplot('last_price');"
   ]
  },
  {
   "cell_type": "code",
   "execution_count": null,
   "metadata": {},
   "outputs": [],
   "source": [
    "data['last_price'].hist(bins=100);"
   ]
  },
  {
   "cell_type": "markdown",
   "metadata": {},
   "source": [
    "Цены на квартиры абсолютно разные, но чаще встречаемая цена это около 5 млн. Че выше цена, тем меньше представленных объектов"
   ]
  },
  {
   "cell_type": "markdown",
   "metadata": {},
   "source": [
    "Количество комнат"
   ]
  },
  {
   "cell_type": "code",
   "execution_count": null,
   "metadata": {},
   "outputs": [],
   "source": [
    "data['rooms'].describe()"
   ]
  },
  {
   "cell_type": "code",
   "execution_count": null,
   "metadata": {},
   "outputs": [],
   "source": [
    "data.boxplot('rooms');"
   ]
  },
  {
   "cell_type": "code",
   "execution_count": null,
   "metadata": {},
   "outputs": [],
   "source": [
    "data['rooms'].hist(bins=50);"
   ]
  },
  {
   "cell_type": "markdown",
   "metadata": {},
   "source": [
    "Почти одинаковое количество наиболее встречаемях однокомнатных и двухклмнатных квартир. Далше идут трешки, и чем больше комнат, тем меньше представвленных квартир."
   ]
  },
  {
   "cell_type": "markdown",
   "metadata": {},
   "source": [
    "Высота потолков"
   ]
  },
  {
   "cell_type": "code",
   "execution_count": null,
   "metadata": {},
   "outputs": [],
   "source": [
    "data['ceiling_height'].describe()"
   ]
  },
  {
   "cell_type": "code",
   "execution_count": null,
   "metadata": {},
   "outputs": [],
   "source": [
    "data.boxplot('ceiling_height');"
   ]
  },
  {
   "cell_type": "code",
   "execution_count": null,
   "metadata": {},
   "outputs": [],
   "source": [
    "data['ceiling_height'].hist(bins=20);"
   ]
  },
  {
   "cell_type": "markdown",
   "metadata": {},
   "source": [
    "В основном в квартирах высота потолка где-то 3 м. Все, что выше 7 м, выбросы"
   ]
  },
  {
   "cell_type": "code",
   "execution_count": null,
   "metadata": {},
   "outputs": [],
   "source": [
    "data['floor'].describe()"
   ]
  },
  {
   "cell_type": "code",
   "execution_count": null,
   "metadata": {},
   "outputs": [],
   "source": [
    "data.boxplot('floor');"
   ]
  },
  {
   "cell_type": "code",
   "execution_count": null,
   "metadata": {},
   "outputs": [],
   "source": [
    "data['floor'].hist(bins=40);"
   ]
  },
  {
   "cell_type": "markdown",
   "metadata": {},
   "source": [
    "Большинство квартир на 2-3 этаже. Чем выше этаж, тем меньше представленных квартир"
   ]
  },
  {
   "cell_type": "markdown",
   "metadata": {},
   "source": [
    "Тип этажа квартиры («первый», «последний», «другой»)"
   ]
  },
  {
   "cell_type": "code",
   "execution_count": null,
   "metadata": {},
   "outputs": [],
   "source": [
    "data['type_of_floor'].describe()"
   ]
  },
  {
   "cell_type": "code",
   "execution_count": null,
   "metadata": {},
   "outputs": [],
   "source": [
    "data['type_of_floor'].hist(bins=40);"
   ]
  },
  {
   "cell_type": "markdown",
   "metadata": {},
   "source": [
    "Большее количество квартир находятся на средних этажах."
   ]
  },
  {
   "cell_type": "markdown",
   "metadata": {},
   "source": [
    "Общее количество этажей в доме"
   ]
  },
  {
   "cell_type": "code",
   "execution_count": null,
   "metadata": {},
   "outputs": [],
   "source": [
    "data['floors_total'].describe()"
   ]
  },
  {
   "cell_type": "code",
   "execution_count": null,
   "metadata": {},
   "outputs": [],
   "source": [
    "data.boxplot('floors_total');"
   ]
  },
  {
   "cell_type": "code",
   "execution_count": null,
   "metadata": {},
   "outputs": [],
   "source": [
    "data['floors_total'].hist(bins=40);"
   ]
  },
  {
   "cell_type": "markdown",
   "metadata": {},
   "source": [
    "В домах, мног квартир на пятом этаже, потом на 9. Чем больше этаже в доме, тем меньше квартир."
   ]
  },
  {
   "cell_type": "markdown",
   "metadata": {},
   "source": [
    "Расстояние до центра города в метрах"
   ]
  },
  {
   "cell_type": "code",
   "execution_count": null,
   "metadata": {},
   "outputs": [],
   "source": [
    "data['cityCenters_nearest'].describe();"
   ]
  },
  {
   "cell_type": "code",
   "execution_count": null,
   "metadata": {},
   "outputs": [],
   "source": [
    "data.boxplot('cityCenters_nearest');"
   ]
  },
  {
   "cell_type": "code",
   "execution_count": null,
   "metadata": {},
   "outputs": [],
   "source": [
    "data['cityCenters_nearest'].hist(bins=40);"
   ]
  },
  {
   "cell_type": "markdown",
   "metadata": {},
   "source": [
    "Есть квартиры,которые находятся в центре, их большинство. Также находятся объекты  в 10-20 км от центра"
   ]
  },
  {
   "cell_type": "markdown",
   "metadata": {},
   "source": [
    "Расстояние до ближайшего аэропорта"
   ]
  },
  {
   "cell_type": "code",
   "execution_count": null,
   "metadata": {},
   "outputs": [],
   "source": [
    "data['airports_nearest'].describe()"
   ]
  },
  {
   "cell_type": "code",
   "execution_count": null,
   "metadata": {},
   "outputs": [],
   "source": [
    "data.boxplot('airports_nearest');"
   ]
  },
  {
   "cell_type": "code",
   "execution_count": null,
   "metadata": {},
   "outputs": [],
   "source": [
    "data['airports_nearest'].hist(bins=40);"
   ]
  },
  {
   "cell_type": "markdown",
   "metadata": {},
   "source": [
    "Помним, что 0 мы обозначали пропуски. Среднее расстояние до аэропорта где то 20 км"
   ]
  },
  {
   "cell_type": "markdown",
   "metadata": {},
   "source": [
    "Расстояние до ближайшего парка"
   ]
  },
  {
   "cell_type": "code",
   "execution_count": null,
   "metadata": {},
   "outputs": [],
   "source": [
    "data['parks_nearest'].describe()"
   ]
  },
  {
   "cell_type": "code",
   "execution_count": null,
   "metadata": {},
   "outputs": [],
   "source": [
    "data.boxplot('parks_nearest');"
   ]
  },
  {
   "cell_type": "code",
   "execution_count": null,
   "metadata": {},
   "outputs": [],
   "source": [
    "data['parks_nearest'].hist(bins=40);"
   ]
  },
  {
   "cell_type": "markdown",
   "metadata": {},
   "source": [
    "В среднем объекты расположены в 500 м от парка. И чем больше расстояние от парка, тем менше представляемых квартир"
   ]
  },
  {
   "cell_type": "markdown",
   "metadata": {},
   "source": [
    "День публикации объявления"
   ]
  },
  {
   "cell_type": "code",
   "execution_count": null,
   "metadata": {},
   "outputs": [],
   "source": [
    "data['day_of_week'].describe()"
   ]
  },
  {
   "cell_type": "code",
   "execution_count": null,
   "metadata": {},
   "outputs": [],
   "source": [
    "data['day_of_week'].hist(bins=7, figsize=(12,10));"
   ]
  },
  {
   "cell_type": "markdown",
   "metadata": {},
   "source": [
    "В четверг выставили большее количество квартир. А в вс меньшее. В выходные мало кто выставляет на продажу, чем в простые дни."
   ]
  },
  {
   "cell_type": "markdown",
   "metadata": {},
   "source": [
    "месяц публикации объявления"
   ]
  },
  {
   "cell_type": "code",
   "execution_count": null,
   "metadata": {},
   "outputs": [],
   "source": [
    "data['months_name'].describe()"
   ]
  },
  {
   "cell_type": "code",
   "execution_count": null,
   "metadata": {},
   "outputs": [],
   "source": [
    "data['months_name'].hist(bins=12, figsize=(12,10));\n"
   ]
  },
  {
   "cell_type": "markdown",
   "metadata": {},
   "source": [
    "В марте было высталвено больше всего объявлений. А в декабре и мае наименьшее количество"
   ]
  },
  {
   "cell_type": "markdown",
   "metadata": {},
   "source": [
    "Теперь изучим, как быстро продавались квартиры"
   ]
  },
  {
   "cell_type": "code",
   "execution_count": null,
   "metadata": {},
   "outputs": [],
   "source": [
    "data[data['days_exposition'] == -1]['days_exposition'].count() "
   ]
  },
  {
   "cell_type": "code",
   "execution_count": null,
   "metadata": {},
   "outputs": [],
   "source": [
    "data[data['days_exposition'] != -1]['days_exposition'].mean()"
   ]
  },
  {
   "cell_type": "code",
   "execution_count": null,
   "metadata": {},
   "outputs": [],
   "source": [
    "data[data['days_exposition'] != -1]['days_exposition'].median()"
   ]
  },
  {
   "cell_type": "code",
   "execution_count": null,
   "metadata": {},
   "outputs": [],
   "source": [
    "data[data['days_exposition'] != -1]['days_exposition'].max()"
   ]
  },
  {
   "cell_type": "code",
   "execution_count": null,
   "metadata": {},
   "outputs": [],
   "source": [
    "data[data['days_exposition'] != -1]['days_exposition'].min()"
   ]
  },
  {
   "cell_type": "code",
   "execution_count": null,
   "metadata": {},
   "outputs": [],
   "source": [
    "data[data['days_exposition'] != -1]['days_exposition'].hist(bins=50);"
   ]
  },
  {
   "cell_type": "code",
   "execution_count": null,
   "metadata": {},
   "outputs": [],
   "source": [
    "data[data['days_exposition'] != -1]['days_exposition'].hist(bins=50, range=(1, 102));"
   ]
  },
  {
   "cell_type": "code",
   "execution_count": null,
   "metadata": {},
   "outputs": [],
   "source": [
    "data[data['days_exposition'] != -1]['days_exposition'].hist(bins=50, range=(102, 1580));"
   ]
  },
  {
   "cell_type": "markdown",
   "metadata": {},
   "source": [
    "В среднем объявление находится на сайте около 110-150 дней. До медианного значения есть два пика, это 45-50 дней и 60 дней. В общем объявления убывают по количеству до 100 дней, потом самы пик, самое большое количество объявлений, а потом они уже резко убывают. Самыми быстрыми можно считать до 20 дней, самыми долгими после 1200 дней, так как их очень мало."
   ]
  },
  {
   "cell_type": "markdown",
   "metadata": {},
   "source": [
    "Изучим зависимости цены от данных параметров"
   ]
  },
  {
   "cell_type": "code",
   "execution_count": null,
   "metadata": {},
   "outputs": [],
   "source": [
    "data.pivot_table(index = 'total_area', values='last_price').plot();"
   ]
  },
  {
   "cell_type": "code",
   "execution_count": null,
   "metadata": {},
   "outputs": [],
   "source": [
    "data.pivot_table(index = 'total_area', values='last_price').hist(bins=6);"
   ]
  },
  {
   "cell_type": "code",
   "execution_count": null,
   "metadata": {},
   "outputs": [],
   "source": [
    "data.plot(x = 'total_area', y='last_price', kind='scatter', grid=True);"
   ]
  },
  {
   "cell_type": "markdown",
   "metadata": {},
   "source": [
    "Чем больше площадь, тем больше цена."
   ]
  },
  {
   "cell_type": "markdown",
   "metadata": {},
   "source": [
    "Жилая площадь от цены"
   ]
  },
  {
   "cell_type": "code",
   "execution_count": null,
   "metadata": {},
   "outputs": [],
   "source": [
    "data.pivot_table(index = 'living_area', values='last_price').plot();"
   ]
  },
  {
   "cell_type": "code",
   "execution_count": null,
   "metadata": {},
   "outputs": [],
   "source": [
    "data.pivot_table(index = 'living_area', values='last_price').hist(bins=20);"
   ]
  },
  {
   "cell_type": "code",
   "execution_count": null,
   "metadata": {},
   "outputs": [],
   "source": [
    "data.plot(x = 'living_area', y='last_price', kind='scatter', grid=True);"
   ]
  },
  {
   "cell_type": "markdown",
   "metadata": {},
   "source": [
    "На графиках видно, что нет прямой зависимоси жилой площади от цены"
   ]
  },
  {
   "cell_type": "markdown",
   "metadata": {},
   "source": [
    "Площадь кухни и цена"
   ]
  },
  {
   "cell_type": "code",
   "execution_count": null,
   "metadata": {},
   "outputs": [],
   "source": [
    "data.pivot_table(index = 'kitchen_area', values='last_price').plot();"
   ]
  },
  {
   "cell_type": "code",
   "execution_count": null,
   "metadata": {},
   "outputs": [],
   "source": [
    "data.pivot_table(index = 'kitchen_area', values='last_price').hist(bins=20);"
   ]
  },
  {
   "cell_type": "code",
   "execution_count": null,
   "metadata": {},
   "outputs": [],
   "source": [
    "data.plot(x = 'kitchen_area', y='last_price', kind='scatter', grid=True);"
   ]
  },
  {
   "cell_type": "markdown",
   "metadata": {},
   "source": [
    "Не видно прямой зависимости от стоимости и пощади кухни"
   ]
  },
  {
   "cell_type": "markdown",
   "metadata": {},
   "source": [
    "Количество комнат и цена"
   ]
  },
  {
   "cell_type": "code",
   "execution_count": null,
   "metadata": {},
   "outputs": [],
   "source": [
    "data.pivot_table(index = 'rooms', values='last_price').plot();"
   ]
  },
  {
   "cell_type": "code",
   "execution_count": null,
   "metadata": {},
   "outputs": [],
   "source": [
    "data.pivot_table(index = 'rooms', values='last_price').hist(bins=20);"
   ]
  },
  {
   "cell_type": "code",
   "execution_count": null,
   "metadata": {},
   "outputs": [],
   "source": [
    "data.plot(x = 'rooms', y='last_price', kind='scatter', grid=True);"
   ]
  },
  {
   "cell_type": "markdown",
   "metadata": {},
   "source": [
    "Нет явной зависимости от числа комнат и цены"
   ]
  },
  {
   "cell_type": "code",
   "execution_count": null,
   "metadata": {},
   "outputs": [],
   "source": [
    "data[['total_area', 'last_price', 'living_area', 'kitchen_area', 'rooms']].corr()"
   ]
  },
  {
   "cell_type": "code",
   "execution_count": null,
   "metadata": {},
   "outputs": [],
   "source": [
    "data.pivot_table(index = 'type_of_floor', values='last_price').plot();"
   ]
  },
  {
   "cell_type": "code",
   "execution_count": null,
   "metadata": {},
   "outputs": [],
   "source": [
    "data.pivot_table(index = 'type_of_floor', values='last_price').plot.bar();"
   ]
  },
  {
   "cell_type": "markdown",
   "metadata": {},
   "source": [
    "Чем выше этаж, тем больше стоимость"
   ]
  },
  {
   "cell_type": "markdown",
   "metadata": {},
   "source": [
    "День недели и цена"
   ]
  },
  {
   "cell_type": "code",
   "execution_count": null,
   "metadata": {},
   "outputs": [],
   "source": [
    "data.pivot_table(index = 'day_of_week', values='last_price').plot();"
   ]
  },
  {
   "cell_type": "code",
   "execution_count": null,
   "metadata": {},
   "outputs": [],
   "source": [
    "data.pivot_table(index = 'day_of_week', values='last_price').plot(kind='bar',figsize=(12,10));"
   ]
  },
  {
   "cell_type": "markdown",
   "metadata": {},
   "source": [
    "В пятницу были самые худшие продажи"
   ]
  },
  {
   "cell_type": "markdown",
   "metadata": {},
   "source": [
    "Месяц и цена"
   ]
  },
  {
   "cell_type": "code",
   "execution_count": null,
   "metadata": {},
   "outputs": [],
   "source": [
    "data.pivot_table(index = 'months_name',values='last_price').plot(figsize=(12,10), grid=True);"
   ]
  },
  {
   "cell_type": "code",
   "execution_count": null,
   "metadata": {},
   "outputs": [],
   "source": [
    "data.pivot_table(index = 'months_name',values='last_price').plot(kind='bar', figsize=(12,10), grid=True);"
   ]
  },
  {
   "cell_type": "markdown",
   "metadata": {},
   "source": [
    "Хуже продаются квартиры в октябре"
   ]
  },
  {
   "cell_type": "markdown",
   "metadata": {},
   "source": [
    "Год и цена"
   ]
  },
  {
   "cell_type": "code",
   "execution_count": null,
   "metadata": {},
   "outputs": [],
   "source": [
    "data.pivot_table(index = 'years',values='last_price').plot(kind='bar', figsize=(12,10), grid=True);"
   ]
  },
  {
   "cell_type": "code",
   "execution_count": null,
   "metadata": {},
   "outputs": [],
   "source": [
    "data.pivot_table(index = 'years',values='last_price').plot( figsize=(12,10), grid=True);"
   ]
  },
  {
   "cell_type": "markdown",
   "metadata": {},
   "source": [
    "Наибольшее количество продаж было в 2014 году, а дальше все начало снижаться"
   ]
  },
  {
   "cell_type": "markdown",
   "metadata": {},
   "source": [
    "Найдем наиболее чаще встречаемых населенных пунктов, и найдем там среднюю цену кв м в каждом таком населенном пункте"
   ]
  },
  {
   "cell_type": "code",
   "execution_count": null,
   "metadata": {},
   "outputs": [],
   "source": [
    "data['locality_name'].value_counts().head(10) "
   ]
  },
  {
   "cell_type": "markdown",
   "metadata": {},
   "source": [
    "Нашли топ 10 частовстречаемых объявлений"
   ]
  },
  {
   "cell_type": "code",
   "execution_count": null,
   "metadata": {},
   "outputs": [],
   "source": [
    "#создадим отдельный датафрейм в котором найдем эти города\n",
    "sr = data.query('(locality_name == \"Санкт-Петербург\") or (locality_name == \"Мурино\")  or (locality_name == \"Шушары\") or (locality_name == \"Кудрово\" ) or (locality_name == \"Всеволожск\" ) or (locality_name == \"Пушкин\") or (locality_name == \"Колпино\") or (locality_name == \"Гатчина\") or (locality_name == \"Парголово\") or (locality_name == \"Петергоф\")') #############)\n",
    "res = sr.pivot_table(index='locality_name', values='metres_price', aggfunc='mean')\n",
    "res"
   ]
  },
  {
   "cell_type": "code",
   "execution_count": null,
   "metadata": {},
   "outputs": [],
   "source": [
    "print(res.min())\n",
    "res.max()"
   ]
  },
  {
   "cell_type": "code",
   "execution_count": null,
   "metadata": {},
   "outputs": [],
   "source": [
    "res.value_counts()"
   ]
  },
  {
   "cell_type": "markdown",
   "metadata": {},
   "source": [
    "Топ 1 - Санкт-Петербург\n",
    "Топ10 - Гатчина\n",
    "Минимальная цена из 10 чатовстречаемых городов в Гатчине, максимальная в Санкт_петербурге"
   ]
  },
  {
   "cell_type": "markdown",
   "metadata": {},
   "source": [
    "Санкт-Петербург"
   ]
  },
  {
   "cell_type": "code",
   "execution_count": null,
   "metadata": {},
   "outputs": [],
   "source": [
    "saint = data.query('locality_name == \"Санкт-Петербург\"')\n",
    "print(saint.pivot_table(index='cityCenters_nearest_km',values='last_price', aggfunc='mean'))\n",
    "saint.pivot_table(index='cityCenters_nearest_km',values='last_price', aggfunc='mean').plot();"
   ]
  },
  {
   "cell_type": "markdown",
   "metadata": {},
   "source": [
    "Видно, что чем дальше от центра находится квартира, тем она дешевле."
   ]
  },
  {
   "cell_type": "markdown",
   "metadata": {},
   "source": [
    "Центр города приблизително заканчивается на 5 км"
   ]
  },
  {
   "cell_type": "markdown",
   "metadata": {},
   "source": [
    "Центр города приблизително заканчивается после 6-7км"
   ]
  },
  {
   "cell_type": "markdown",
   "metadata": {},
   "source": [
    "### Общий вывод"
   ]
  },
  {
   "cell_type": "markdown",
   "metadata": {},
   "source": [
    "# Вывод"
   ]
  },
  {
   "cell_type": "markdown",
   "metadata": {},
   "source": [
    "Я сделала предработку данных и нашла интересные зависимости на рынке:\n",
    "- В предработке данных я уменьшила изначальную таблицу где-то на 10%. \n",
    "- Убрала пропущенные значения (сколько этажей в здании ) и аномальные значения, не соответсвующие гос.стандартам. Такие как:площадь кухни меньше 4.50 метра; жилая площадь меньше 7.00; общая площадь больше 250 и т.д. Также заполнила картографические пропуски значением -1, что означает пропущенное значение. Поменяла тип данных в некоторых столбцах, чтобы в дальнейшем с ними было удобней раотать. Так завершилась предработка данных. \n",
    "- Дальше я добавила несколько столбцов, которые помогут в дальнейшем исследовании проверить некоторые зависимости. \n",
    "- Зависимость между общей площадью и ценой объекта достаточно явная. Чем больше площадь, тем больше цена объекта. \n",
    "- Также достаточно явная зависимость наблюдается между на каком этаже находится квартира и ценой объекта. Чем выше находится квартира, тем больше цена. \n",
    "- Еще некоторые интересные зависимости: \n",
    "    - Самый худший днем недели для начала продаж является пятница. Потом уже идут выходные дни. Как ни странно  самый худший месяц это октябрь, а год 2018. \n",
    "    - Самым благоприятным из предоставленных считается понедельник в декабре в 2014 году. \n",
    "    - Из 10 самых встречаемых объектов является Санкт-Петербург, также в этом городе самая большая цена за квадратный метр. \n",
    "    - Интересная зависимость, что чем дальше от центра города находится квартира, тем  цена меньше. \n",
    "    \n",
    "В итоге я выявила интересные зависимости на рынке недвижимости.\n"
   ]
  }
 ],
 "metadata": {
  "ExecuteTimeLog": [
   {
    "duration": 581,
    "start_time": "2022-11-24T17:03:58.074Z"
   },
   {
    "duration": 2307,
    "start_time": "2022-11-24T17:04:14.547Z"
   },
   {
    "duration": 17,
    "start_time": "2022-11-24T17:04:56.579Z"
   },
   {
    "duration": 135,
    "start_time": "2022-11-24T17:24:53.439Z"
   },
   {
    "duration": 1939,
    "start_time": "2022-11-24T17:24:53.576Z"
   },
   {
    "duration": 24,
    "start_time": "2022-11-24T17:24:55.517Z"
   },
   {
    "duration": 9,
    "start_time": "2022-11-24T17:24:55.543Z"
   },
   {
    "duration": 26,
    "start_time": "2022-11-24T17:24:55.554Z"
   },
   {
    "duration": 10,
    "start_time": "2022-11-24T17:24:55.582Z"
   },
   {
    "duration": 21,
    "start_time": "2022-11-24T17:24:55.593Z"
   },
   {
    "duration": 5,
    "start_time": "2022-11-24T17:24:55.615Z"
   },
   {
    "duration": 31,
    "start_time": "2022-11-24T17:24:55.622Z"
   },
   {
    "duration": 58,
    "start_time": "2022-11-24T17:24:55.654Z"
   },
   {
    "duration": 7,
    "start_time": "2022-11-24T17:24:55.713Z"
   },
   {
    "duration": 12,
    "start_time": "2022-11-24T17:24:55.722Z"
   },
   {
    "duration": 11,
    "start_time": "2022-11-24T17:24:55.735Z"
   },
   {
    "duration": 10,
    "start_time": "2022-11-24T17:24:55.749Z"
   },
   {
    "duration": 15,
    "start_time": "2022-11-24T17:24:55.760Z"
   },
   {
    "duration": 28,
    "start_time": "2022-11-24T17:24:55.776Z"
   },
   {
    "duration": 19,
    "start_time": "2022-11-24T17:24:55.805Z"
   },
   {
    "duration": 22,
    "start_time": "2022-11-24T17:24:55.825Z"
   },
   {
    "duration": 16,
    "start_time": "2022-11-24T17:24:55.849Z"
   },
   {
    "duration": 8,
    "start_time": "2022-11-24T17:24:55.867Z"
   },
   {
    "duration": 25,
    "start_time": "2022-11-24T17:24:55.877Z"
   },
   {
    "duration": 37,
    "start_time": "2022-11-24T17:24:55.903Z"
   },
   {
    "duration": 30,
    "start_time": "2022-11-24T17:24:55.942Z"
   },
   {
    "duration": 20,
    "start_time": "2022-11-24T17:24:55.973Z"
   },
   {
    "duration": 9,
    "start_time": "2022-11-24T17:24:55.995Z"
   },
   {
    "duration": 4,
    "start_time": "2022-11-24T17:24:56.005Z"
   },
   {
    "duration": 5,
    "start_time": "2022-11-24T17:24:56.011Z"
   },
   {
    "duration": 20,
    "start_time": "2022-11-24T17:24:56.018Z"
   },
   {
    "duration": 5,
    "start_time": "2022-11-24T17:24:56.040Z"
   },
   {
    "duration": 7,
    "start_time": "2022-11-24T17:24:56.046Z"
   },
   {
    "duration": 5,
    "start_time": "2022-11-24T17:24:56.054Z"
   },
   {
    "duration": 5,
    "start_time": "2022-11-24T17:24:56.060Z"
   },
   {
    "duration": 7,
    "start_time": "2022-11-24T17:24:56.067Z"
   },
   {
    "duration": 9,
    "start_time": "2022-11-24T17:24:56.075Z"
   },
   {
    "duration": 4,
    "start_time": "2022-11-24T17:24:56.085Z"
   },
   {
    "duration": 8,
    "start_time": "2022-11-24T17:24:56.091Z"
   },
   {
    "duration": 38,
    "start_time": "2022-11-24T17:24:56.100Z"
   },
   {
    "duration": 4,
    "start_time": "2022-11-24T17:24:56.140Z"
   },
   {
    "duration": 44,
    "start_time": "2022-11-24T17:24:56.145Z"
   },
   {
    "duration": 10,
    "start_time": "2022-11-24T17:24:56.191Z"
   },
   {
    "duration": 34,
    "start_time": "2022-11-24T17:24:56.205Z"
   },
   {
    "duration": 4,
    "start_time": "2022-11-24T17:24:56.241Z"
   },
   {
    "duration": 10,
    "start_time": "2022-11-24T17:24:56.246Z"
   },
   {
    "duration": 64,
    "start_time": "2022-11-24T17:24:56.257Z"
   },
   {
    "duration": 50,
    "start_time": "2022-11-24T17:24:56.322Z"
   },
   {
    "duration": 67,
    "start_time": "2022-11-24T17:24:56.374Z"
   },
   {
    "duration": 5,
    "start_time": "2022-11-24T17:24:56.443Z"
   },
   {
    "duration": 51,
    "start_time": "2022-11-24T17:24:56.449Z"
   },
   {
    "duration": 6,
    "start_time": "2022-11-24T17:24:56.502Z"
   },
   {
    "duration": 5,
    "start_time": "2022-11-24T17:24:56.509Z"
   },
   {
    "duration": 25,
    "start_time": "2022-11-24T17:24:56.516Z"
   },
   {
    "duration": 6,
    "start_time": "2022-11-24T17:24:56.542Z"
   },
   {
    "duration": 341,
    "start_time": "2022-11-24T17:24:56.549Z"
   },
   {
    "duration": 4,
    "start_time": "2022-11-24T17:24:56.892Z"
   },
   {
    "duration": 62,
    "start_time": "2022-11-24T17:24:56.898Z"
   },
   {
    "duration": 1303,
    "start_time": "2022-11-26T09:09:54.832Z"
   },
   {
    "duration": 199,
    "start_time": "2022-11-26T09:10:07.740Z"
   },
   {
    "duration": 1716,
    "start_time": "2022-11-26T09:10:07.941Z"
   },
   {
    "duration": 16,
    "start_time": "2022-11-26T09:10:09.659Z"
   },
   {
    "duration": 9,
    "start_time": "2022-11-26T09:10:09.676Z"
   },
   {
    "duration": 10,
    "start_time": "2022-11-26T09:10:09.687Z"
   },
   {
    "duration": 7,
    "start_time": "2022-11-26T09:10:09.698Z"
   },
   {
    "duration": 8,
    "start_time": "2022-11-26T09:10:09.707Z"
   },
   {
    "duration": 5,
    "start_time": "2022-11-26T09:10:09.716Z"
   },
   {
    "duration": 12,
    "start_time": "2022-11-26T09:10:09.722Z"
   },
   {
    "duration": 78,
    "start_time": "2022-11-26T09:10:09.735Z"
   },
   {
    "duration": 8,
    "start_time": "2022-11-26T09:10:09.815Z"
   },
   {
    "duration": 8,
    "start_time": "2022-11-26T09:10:09.825Z"
   },
   {
    "duration": 13,
    "start_time": "2022-11-26T09:10:09.835Z"
   },
   {
    "duration": 4,
    "start_time": "2022-11-26T09:10:09.852Z"
   },
   {
    "duration": 6,
    "start_time": "2022-11-26T09:10:09.877Z"
   },
   {
    "duration": 15,
    "start_time": "2022-11-26T09:10:09.884Z"
   },
   {
    "duration": 7,
    "start_time": "2022-11-26T09:10:09.900Z"
   },
   {
    "duration": 10,
    "start_time": "2022-11-26T09:10:09.908Z"
   },
   {
    "duration": 9,
    "start_time": "2022-11-26T09:10:09.919Z"
   },
   {
    "duration": 5,
    "start_time": "2022-11-26T09:10:09.929Z"
   },
   {
    "duration": 51,
    "start_time": "2022-11-26T09:10:09.935Z"
   },
   {
    "duration": 23,
    "start_time": "2022-11-26T09:10:09.987Z"
   },
   {
    "duration": 31,
    "start_time": "2022-11-26T09:10:10.011Z"
   },
   {
    "duration": 14,
    "start_time": "2022-11-26T09:10:10.044Z"
   },
   {
    "duration": 23,
    "start_time": "2022-11-26T09:10:10.060Z"
   },
   {
    "duration": 6,
    "start_time": "2022-11-26T09:10:10.084Z"
   },
   {
    "duration": 7,
    "start_time": "2022-11-26T09:10:10.091Z"
   },
   {
    "duration": 7,
    "start_time": "2022-11-26T09:10:10.099Z"
   },
   {
    "duration": 4,
    "start_time": "2022-11-26T09:10:10.107Z"
   },
   {
    "duration": 4,
    "start_time": "2022-11-26T09:10:10.113Z"
   },
   {
    "duration": 4,
    "start_time": "2022-11-26T09:10:10.119Z"
   },
   {
    "duration": 5,
    "start_time": "2022-11-26T09:10:10.124Z"
   },
   {
    "duration": 50,
    "start_time": "2022-11-26T09:10:10.130Z"
   },
   {
    "duration": 4,
    "start_time": "2022-11-26T09:10:10.181Z"
   },
   {
    "duration": 8,
    "start_time": "2022-11-26T09:10:10.186Z"
   },
   {
    "duration": 6,
    "start_time": "2022-11-26T09:10:10.195Z"
   },
   {
    "duration": 9,
    "start_time": "2022-11-26T09:10:10.202Z"
   },
   {
    "duration": 5,
    "start_time": "2022-11-26T09:10:10.212Z"
   },
   {
    "duration": 67,
    "start_time": "2022-11-26T09:10:10.218Z"
   },
   {
    "duration": 9,
    "start_time": "2022-11-26T09:10:10.286Z"
   },
   {
    "duration": 12,
    "start_time": "2022-11-26T09:10:10.299Z"
   },
   {
    "duration": 3,
    "start_time": "2022-11-26T09:10:10.312Z"
   },
   {
    "duration": 11,
    "start_time": "2022-11-26T09:10:10.316Z"
   },
   {
    "duration": 82,
    "start_time": "2022-11-26T09:10:10.328Z"
   },
   {
    "duration": 36,
    "start_time": "2022-11-26T09:10:10.411Z"
   },
   {
    "duration": 89,
    "start_time": "2022-11-26T09:10:10.448Z"
   },
   {
    "duration": 5,
    "start_time": "2022-11-26T09:10:10.539Z"
   },
   {
    "duration": 57,
    "start_time": "2022-11-26T09:10:10.545Z"
   },
   {
    "duration": 5,
    "start_time": "2022-11-26T09:10:10.603Z"
   },
   {
    "duration": 4,
    "start_time": "2022-11-26T09:10:10.610Z"
   },
   {
    "duration": 5,
    "start_time": "2022-11-26T09:10:10.615Z"
   },
   {
    "duration": 4,
    "start_time": "2022-11-26T09:10:10.621Z"
   },
   {
    "duration": 261,
    "start_time": "2022-11-26T09:10:10.626Z"
   },
   {
    "duration": 4,
    "start_time": "2022-11-26T09:10:10.888Z"
   },
   {
    "duration": 48,
    "start_time": "2022-11-26T09:10:10.893Z"
   },
   {
    "duration": 3,
    "start_time": "2022-11-26T09:10:10.942Z"
   },
   {
    "duration": 129,
    "start_time": "2022-11-26T09:21:24.750Z"
   },
   {
    "duration": 1746,
    "start_time": "2022-11-26T09:21:24.882Z"
   },
   {
    "duration": 14,
    "start_time": "2022-11-26T09:21:26.629Z"
   },
   {
    "duration": 8,
    "start_time": "2022-11-26T09:21:26.644Z"
   },
   {
    "duration": 29,
    "start_time": "2022-11-26T09:21:26.654Z"
   },
   {
    "duration": 7,
    "start_time": "2022-11-26T09:21:26.689Z"
   },
   {
    "duration": 6,
    "start_time": "2022-11-26T09:21:26.697Z"
   },
   {
    "duration": 6,
    "start_time": "2022-11-26T09:21:26.704Z"
   },
   {
    "duration": 7,
    "start_time": "2022-11-26T09:21:26.711Z"
   },
   {
    "duration": 59,
    "start_time": "2022-11-26T09:21:26.720Z"
   },
   {
    "duration": 7,
    "start_time": "2022-11-26T09:21:26.781Z"
   },
   {
    "duration": 23,
    "start_time": "2022-11-26T09:21:26.790Z"
   },
   {
    "duration": 7,
    "start_time": "2022-11-26T09:21:26.815Z"
   },
   {
    "duration": 3,
    "start_time": "2022-11-26T09:21:26.825Z"
   },
   {
    "duration": 12,
    "start_time": "2022-11-26T09:21:26.830Z"
   },
   {
    "duration": 19,
    "start_time": "2022-11-26T09:21:26.844Z"
   },
   {
    "duration": 19,
    "start_time": "2022-11-26T09:21:26.864Z"
   },
   {
    "duration": 10,
    "start_time": "2022-11-26T09:21:26.884Z"
   },
   {
    "duration": 7,
    "start_time": "2022-11-26T09:21:26.896Z"
   },
   {
    "duration": 5,
    "start_time": "2022-11-26T09:21:26.904Z"
   },
   {
    "duration": 13,
    "start_time": "2022-11-26T09:21:26.910Z"
   },
   {
    "duration": 23,
    "start_time": "2022-11-26T09:21:26.924Z"
   },
   {
    "duration": 55,
    "start_time": "2022-11-26T09:21:26.948Z"
   },
   {
    "duration": 9,
    "start_time": "2022-11-26T09:21:27.005Z"
   },
   {
    "duration": 6,
    "start_time": "2022-11-26T09:21:27.015Z"
   },
   {
    "duration": 4,
    "start_time": "2022-11-26T09:21:27.023Z"
   },
   {
    "duration": 16,
    "start_time": "2022-11-26T09:21:27.028Z"
   },
   {
    "duration": 9,
    "start_time": "2022-11-26T09:21:27.045Z"
   },
   {
    "duration": 23,
    "start_time": "2022-11-26T09:21:27.055Z"
   },
   {
    "duration": 4,
    "start_time": "2022-11-26T09:21:27.080Z"
   },
   {
    "duration": 9,
    "start_time": "2022-11-26T09:21:27.085Z"
   },
   {
    "duration": 9,
    "start_time": "2022-11-26T09:21:27.095Z"
   },
   {
    "duration": 6,
    "start_time": "2022-11-26T09:21:27.106Z"
   },
   {
    "duration": 3,
    "start_time": "2022-11-26T09:21:27.114Z"
   },
   {
    "duration": 9,
    "start_time": "2022-11-26T09:21:27.119Z"
   },
   {
    "duration": 7,
    "start_time": "2022-11-26T09:21:27.130Z"
   },
   {
    "duration": 13,
    "start_time": "2022-11-26T09:21:27.138Z"
   },
   {
    "duration": 25,
    "start_time": "2022-11-26T09:21:27.153Z"
   },
   {
    "duration": 40,
    "start_time": "2022-11-26T09:21:27.179Z"
   },
   {
    "duration": 9,
    "start_time": "2022-11-26T09:21:27.220Z"
   },
   {
    "duration": 13,
    "start_time": "2022-11-26T09:21:27.233Z"
   },
   {
    "duration": 3,
    "start_time": "2022-11-26T09:21:27.247Z"
   },
   {
    "duration": 27,
    "start_time": "2022-11-26T09:21:27.251Z"
   },
   {
    "duration": 53,
    "start_time": "2022-11-26T09:21:27.280Z"
   },
   {
    "duration": 46,
    "start_time": "2022-11-26T09:21:27.334Z"
   },
   {
    "duration": 142,
    "start_time": "2022-11-26T09:21:27.381Z"
   },
   {
    "duration": 4,
    "start_time": "2022-11-26T09:21:27.525Z"
   },
   {
    "duration": 52,
    "start_time": "2022-11-26T09:21:27.530Z"
   },
   {
    "duration": 6,
    "start_time": "2022-11-26T09:21:27.583Z"
   },
   {
    "duration": 5,
    "start_time": "2022-11-26T09:21:27.591Z"
   },
   {
    "duration": 13,
    "start_time": "2022-11-26T09:21:27.597Z"
   },
   {
    "duration": 6,
    "start_time": "2022-11-26T09:21:27.611Z"
   },
   {
    "duration": 236,
    "start_time": "2022-11-26T09:21:27.618Z"
   },
   {
    "duration": 5,
    "start_time": "2022-11-26T09:21:27.855Z"
   },
   {
    "duration": 50,
    "start_time": "2022-11-26T09:21:27.861Z"
   },
   {
    "duration": 5,
    "start_time": "2022-11-26T09:21:27.913Z"
   },
   {
    "duration": 14,
    "start_time": "2022-11-26T09:21:27.919Z"
   },
   {
    "duration": 103,
    "start_time": "2022-11-26T09:21:27.935Z"
   },
   {
    "duration": 198,
    "start_time": "2022-11-26T09:21:28.040Z"
   },
   {
    "duration": 10,
    "start_time": "2022-11-26T09:21:28.240Z"
   },
   {
    "duration": 134,
    "start_time": "2022-11-26T09:21:28.252Z"
   },
   {
    "duration": 154,
    "start_time": "2022-11-26T09:21:28.388Z"
   },
   {
    "duration": 8,
    "start_time": "2022-11-26T09:21:28.543Z"
   },
   {
    "duration": 100,
    "start_time": "2022-11-26T09:21:28.553Z"
   },
   {
    "duration": 152,
    "start_time": "2022-11-26T09:21:28.655Z"
   },
   {
    "duration": 8,
    "start_time": "2022-11-26T09:21:28.808Z"
   },
   {
    "duration": 127,
    "start_time": "2022-11-26T09:21:28.818Z"
   },
   {
    "duration": 207,
    "start_time": "2022-11-26T09:21:28.947Z"
   },
   {
    "duration": 7,
    "start_time": "2022-11-26T09:21:29.156Z"
   },
   {
    "duration": 226,
    "start_time": "2022-11-26T09:21:29.165Z"
   },
   {
    "duration": 171,
    "start_time": "2022-11-26T09:21:29.393Z"
   },
   {
    "duration": 14,
    "start_time": "2022-11-26T09:21:29.566Z"
   },
   {
    "duration": 110,
    "start_time": "2022-11-26T09:21:29.582Z"
   },
   {
    "duration": 135,
    "start_time": "2022-11-26T09:21:29.694Z"
   },
   {
    "duration": 8,
    "start_time": "2022-11-26T09:21:29.830Z"
   },
   {
    "duration": 109,
    "start_time": "2022-11-26T09:21:29.839Z"
   },
   {
    "duration": 162,
    "start_time": "2022-11-26T09:21:29.949Z"
   },
   {
    "duration": 9,
    "start_time": "2022-11-26T09:21:30.113Z"
   },
   {
    "duration": 168,
    "start_time": "2022-11-26T09:21:30.123Z"
   },
   {
    "duration": 9,
    "start_time": "2022-11-26T09:21:30.293Z"
   },
   {
    "duration": 130,
    "start_time": "2022-11-26T09:21:30.303Z"
   },
   {
    "duration": 146,
    "start_time": "2022-11-26T09:21:30.434Z"
   },
   {
    "duration": 7,
    "start_time": "2022-11-26T09:21:30.582Z"
   },
   {
    "duration": 117,
    "start_time": "2022-11-26T09:21:30.590Z"
   },
   {
    "duration": 154,
    "start_time": "2022-11-26T09:21:30.709Z"
   },
   {
    "duration": 14,
    "start_time": "2022-11-26T09:21:30.865Z"
   },
   {
    "duration": 111,
    "start_time": "2022-11-26T09:21:30.881Z"
   },
   {
    "duration": 149,
    "start_time": "2022-11-26T09:21:30.993Z"
   },
   {
    "duration": 8,
    "start_time": "2022-11-26T09:21:31.143Z"
   },
   {
    "duration": 118,
    "start_time": "2022-11-26T09:21:31.152Z"
   },
   {
    "duration": 175,
    "start_time": "2022-11-26T09:21:31.277Z"
   },
   {
    "duration": 9,
    "start_time": "2022-11-26T09:21:31.454Z"
   },
   {
    "duration": 135,
    "start_time": "2022-11-26T09:21:31.465Z"
   },
   {
    "duration": 8,
    "start_time": "2022-11-26T09:21:31.601Z"
   },
   {
    "duration": 143,
    "start_time": "2022-11-26T09:21:31.610Z"
   },
   {
    "duration": 282,
    "start_time": "2022-11-26T09:21:31.754Z"
   },
   {
    "duration": 4,
    "start_time": "2022-11-26T09:21:32.037Z"
   },
   {
    "duration": 8,
    "start_time": "2022-11-26T09:21:32.042Z"
   },
   {
    "duration": 5,
    "start_time": "2022-11-26T09:21:32.051Z"
   },
   {
    "duration": 4,
    "start_time": "2022-11-26T09:21:32.078Z"
   },
   {
    "duration": 153,
    "start_time": "2022-11-26T09:21:32.084Z"
   },
   {
    "duration": 154,
    "start_time": "2022-11-26T09:21:32.238Z"
   },
   {
    "duration": 144,
    "start_time": "2022-11-26T11:05:44.550Z"
   },
   {
    "duration": 1676,
    "start_time": "2022-11-26T11:05:44.696Z"
   },
   {
    "duration": 14,
    "start_time": "2022-11-26T11:05:46.377Z"
   },
   {
    "duration": 8,
    "start_time": "2022-11-26T11:05:46.393Z"
   },
   {
    "duration": 10,
    "start_time": "2022-11-26T11:05:46.403Z"
   },
   {
    "duration": 6,
    "start_time": "2022-11-26T11:05:46.415Z"
   },
   {
    "duration": 6,
    "start_time": "2022-11-26T11:05:46.423Z"
   },
   {
    "duration": 4,
    "start_time": "2022-11-26T11:05:46.430Z"
   },
   {
    "duration": 44,
    "start_time": "2022-11-26T11:05:46.435Z"
   },
   {
    "duration": 41,
    "start_time": "2022-11-26T11:05:46.481Z"
   },
   {
    "duration": 7,
    "start_time": "2022-11-26T11:05:46.523Z"
   },
   {
    "duration": 6,
    "start_time": "2022-11-26T11:05:46.531Z"
   },
   {
    "duration": 10,
    "start_time": "2022-11-26T11:05:46.539Z"
   },
   {
    "duration": 28,
    "start_time": "2022-11-26T11:05:46.550Z"
   },
   {
    "duration": 5,
    "start_time": "2022-11-26T11:05:46.579Z"
   },
   {
    "duration": 21,
    "start_time": "2022-11-26T11:05:46.586Z"
   },
   {
    "duration": 7,
    "start_time": "2022-11-26T11:05:46.608Z"
   },
   {
    "duration": 8,
    "start_time": "2022-11-26T11:05:46.617Z"
   },
   {
    "duration": 7,
    "start_time": "2022-11-26T11:05:46.627Z"
   },
   {
    "duration": 5,
    "start_time": "2022-11-26T11:05:46.635Z"
   },
   {
    "duration": 41,
    "start_time": "2022-11-26T11:05:46.641Z"
   },
   {
    "duration": 24,
    "start_time": "2022-11-26T11:05:46.684Z"
   },
   {
    "duration": 30,
    "start_time": "2022-11-26T11:05:46.709Z"
   },
   {
    "duration": 10,
    "start_time": "2022-11-26T11:05:46.741Z"
   },
   {
    "duration": 26,
    "start_time": "2022-11-26T11:05:46.753Z"
   },
   {
    "duration": 4,
    "start_time": "2022-11-26T11:05:46.780Z"
   },
   {
    "duration": 6,
    "start_time": "2022-11-26T11:05:46.786Z"
   },
   {
    "duration": 8,
    "start_time": "2022-11-26T11:05:46.799Z"
   },
   {
    "duration": 5,
    "start_time": "2022-11-26T11:05:46.809Z"
   },
   {
    "duration": 4,
    "start_time": "2022-11-26T11:05:46.816Z"
   },
   {
    "duration": 4,
    "start_time": "2022-11-26T11:05:46.822Z"
   },
   {
    "duration": 7,
    "start_time": "2022-11-26T11:05:46.827Z"
   },
   {
    "duration": 6,
    "start_time": "2022-11-26T11:05:46.835Z"
   },
   {
    "duration": 3,
    "start_time": "2022-11-26T11:05:46.878Z"
   },
   {
    "duration": 6,
    "start_time": "2022-11-26T11:05:46.882Z"
   },
   {
    "duration": 9,
    "start_time": "2022-11-26T11:05:46.889Z"
   },
   {
    "duration": 10,
    "start_time": "2022-11-26T11:05:46.900Z"
   },
   {
    "duration": 4,
    "start_time": "2022-11-26T11:05:46.911Z"
   },
   {
    "duration": 37,
    "start_time": "2022-11-26T11:05:46.917Z"
   },
   {
    "duration": 25,
    "start_time": "2022-11-26T11:05:46.956Z"
   },
   {
    "duration": 15,
    "start_time": "2022-11-26T11:05:46.983Z"
   },
   {
    "duration": 4,
    "start_time": "2022-11-26T11:05:46.999Z"
   },
   {
    "duration": 7,
    "start_time": "2022-11-26T11:05:47.004Z"
   },
   {
    "duration": 226,
    "start_time": "2022-11-26T11:05:47.013Z"
   },
   {
    "duration": 39,
    "start_time": "2022-11-26T11:05:47.241Z"
   },
   {
    "duration": 55,
    "start_time": "2022-11-26T11:05:47.282Z"
   },
   {
    "duration": 5,
    "start_time": "2022-11-26T11:05:47.338Z"
   },
   {
    "duration": 56,
    "start_time": "2022-11-26T11:05:47.344Z"
   },
   {
    "duration": 5,
    "start_time": "2022-11-26T11:05:47.402Z"
   },
   {
    "duration": 3,
    "start_time": "2022-11-26T11:05:47.409Z"
   },
   {
    "duration": 6,
    "start_time": "2022-11-26T11:05:47.413Z"
   },
   {
    "duration": 4,
    "start_time": "2022-11-26T11:05:47.420Z"
   },
   {
    "duration": 259,
    "start_time": "2022-11-26T11:05:47.425Z"
   },
   {
    "duration": 4,
    "start_time": "2022-11-26T11:05:47.685Z"
   },
   {
    "duration": 45,
    "start_time": "2022-11-26T11:05:47.691Z"
   },
   {
    "duration": 3,
    "start_time": "2022-11-26T11:05:47.737Z"
   },
   {
    "duration": 16,
    "start_time": "2022-11-26T11:05:47.742Z"
   },
   {
    "duration": 125,
    "start_time": "2022-11-26T11:05:47.759Z"
   },
   {
    "duration": 198,
    "start_time": "2022-11-26T11:05:47.885Z"
   },
   {
    "duration": 11,
    "start_time": "2022-11-26T11:05:48.084Z"
   },
   {
    "duration": 124,
    "start_time": "2022-11-26T11:05:48.096Z"
   },
   {
    "duration": 157,
    "start_time": "2022-11-26T11:05:48.221Z"
   },
   {
    "duration": 10,
    "start_time": "2022-11-26T11:05:48.379Z"
   },
   {
    "duration": 110,
    "start_time": "2022-11-26T11:05:48.391Z"
   },
   {
    "duration": 148,
    "start_time": "2022-11-26T11:05:48.503Z"
   },
   {
    "duration": 9,
    "start_time": "2022-11-26T11:05:48.652Z"
   },
   {
    "duration": 117,
    "start_time": "2022-11-26T11:05:48.662Z"
   },
   {
    "duration": 203,
    "start_time": "2022-11-26T11:05:48.781Z"
   },
   {
    "duration": 9,
    "start_time": "2022-11-26T11:05:48.986Z"
   },
   {
    "duration": 133,
    "start_time": "2022-11-26T11:05:48.997Z"
   },
   {
    "duration": 186,
    "start_time": "2022-11-26T11:05:49.132Z"
   },
   {
    "duration": 9,
    "start_time": "2022-11-26T11:05:49.319Z"
   },
   {
    "duration": 113,
    "start_time": "2022-11-26T11:05:49.329Z"
   },
   {
    "duration": 149,
    "start_time": "2022-11-26T11:05:49.444Z"
   },
   {
    "duration": 11,
    "start_time": "2022-11-26T11:05:49.595Z"
   },
   {
    "duration": 129,
    "start_time": "2022-11-26T11:05:49.608Z"
   },
   {
    "duration": 170,
    "start_time": "2022-11-26T11:05:49.739Z"
   },
   {
    "duration": 9,
    "start_time": "2022-11-26T11:05:49.911Z"
   },
   {
    "duration": 323,
    "start_time": "2022-11-26T11:05:49.921Z"
   },
   {
    "duration": 8,
    "start_time": "2022-11-26T11:05:50.246Z"
   },
   {
    "duration": 113,
    "start_time": "2022-11-26T11:05:50.255Z"
   },
   {
    "duration": 164,
    "start_time": "2022-11-26T11:05:50.379Z"
   },
   {
    "duration": 8,
    "start_time": "2022-11-26T11:05:50.545Z"
   },
   {
    "duration": 148,
    "start_time": "2022-11-26T11:05:50.556Z"
   },
   {
    "duration": 163,
    "start_time": "2022-11-26T11:05:50.706Z"
   },
   {
    "duration": 8,
    "start_time": "2022-11-26T11:05:50.877Z"
   },
   {
    "duration": 110,
    "start_time": "2022-11-26T11:05:50.887Z"
   },
   {
    "duration": 158,
    "start_time": "2022-11-26T11:05:50.999Z"
   },
   {
    "duration": 10,
    "start_time": "2022-11-26T11:05:51.159Z"
   },
   {
    "duration": 127,
    "start_time": "2022-11-26T11:05:51.178Z"
   },
   {
    "duration": 162,
    "start_time": "2022-11-26T11:05:51.307Z"
   },
   {
    "duration": 14,
    "start_time": "2022-11-26T11:05:51.471Z"
   },
   {
    "duration": 135,
    "start_time": "2022-11-26T11:05:51.486Z"
   },
   {
    "duration": 9,
    "start_time": "2022-11-26T11:05:51.623Z"
   },
   {
    "duration": 148,
    "start_time": "2022-11-26T11:05:51.634Z"
   },
   {
    "duration": 166,
    "start_time": "2022-11-26T11:05:51.783Z"
   },
   {
    "duration": 5,
    "start_time": "2022-11-26T11:05:51.951Z"
   },
   {
    "duration": 21,
    "start_time": "2022-11-26T11:05:51.957Z"
   },
   {
    "duration": 5,
    "start_time": "2022-11-26T11:05:51.979Z"
   },
   {
    "duration": 6,
    "start_time": "2022-11-26T11:05:51.986Z"
   },
   {
    "duration": 180,
    "start_time": "2022-11-26T11:05:51.993Z"
   },
   {
    "duration": 169,
    "start_time": "2022-11-26T11:05:52.178Z"
   },
   {
    "duration": 122,
    "start_time": "2022-11-26T11:05:52.348Z"
   },
   {
    "duration": 138,
    "start_time": "2022-11-26T11:05:52.472Z"
   },
   {
    "duration": 171,
    "start_time": "2022-11-26T11:05:52.611Z"
   },
   {
    "duration": 158,
    "start_time": "2022-11-26T11:05:52.784Z"
   },
   {
    "duration": 156,
    "start_time": "2022-11-26T11:05:52.943Z"
   },
   {
    "duration": 185,
    "start_time": "2022-11-26T11:05:53.101Z"
   },
   {
    "duration": 136,
    "start_time": "2022-11-26T11:05:53.288Z"
   },
   {
    "duration": 153,
    "start_time": "2022-11-26T11:05:53.427Z"
   },
   {
    "duration": 156,
    "start_time": "2022-11-26T11:05:53.582Z"
   },
   {
    "duration": 127,
    "start_time": "2022-11-26T11:05:53.740Z"
   },
   {
    "duration": 177,
    "start_time": "2022-11-26T11:05:53.869Z"
   },
   {
    "duration": 207,
    "start_time": "2022-11-26T11:05:54.049Z"
   },
   {
    "duration": 133,
    "start_time": "2022-11-26T11:05:54.258Z"
   },
   {
    "duration": 137,
    "start_time": "2022-11-26T11:05:54.393Z"
   },
   {
    "duration": 367,
    "start_time": "2022-11-26T11:05:54.532Z"
   },
   {
    "duration": 431,
    "start_time": "2022-11-26T11:05:54.900Z"
   },
   {
    "duration": 330,
    "start_time": "2022-11-26T11:05:55.332Z"
   },
   {
    "duration": 342,
    "start_time": "2022-11-26T11:05:55.664Z"
   },
   {
    "duration": 267,
    "start_time": "2022-11-26T11:05:56.008Z"
   },
   {
    "duration": 8,
    "start_time": "2022-11-26T11:05:56.277Z"
   },
   {
    "duration": 33,
    "start_time": "2022-11-26T11:05:56.287Z"
   },
   {
    "duration": 26,
    "start_time": "2022-11-26T11:05:56.322Z"
   },
   {
    "duration": 184,
    "start_time": "2022-11-26T11:05:56.350Z"
   },
   {
    "duration": 883,
    "start_time": "2022-11-26T11:55:51.857Z"
   },
   {
    "duration": 2373,
    "start_time": "2022-11-26T11:55:52.742Z"
   },
   {
    "duration": 19,
    "start_time": "2022-11-26T11:55:55.117Z"
   },
   {
    "duration": 11,
    "start_time": "2022-11-26T11:55:55.138Z"
   },
   {
    "duration": 13,
    "start_time": "2022-11-26T11:55:55.150Z"
   },
   {
    "duration": 9,
    "start_time": "2022-11-26T11:55:55.166Z"
   },
   {
    "duration": 14,
    "start_time": "2022-11-26T11:55:55.177Z"
   },
   {
    "duration": 6,
    "start_time": "2022-11-26T11:55:55.193Z"
   },
   {
    "duration": 17,
    "start_time": "2022-11-26T11:55:55.201Z"
   },
   {
    "duration": 79,
    "start_time": "2022-11-26T11:55:55.222Z"
   },
   {
    "duration": 9,
    "start_time": "2022-11-26T11:55:55.303Z"
   },
   {
    "duration": 8,
    "start_time": "2022-11-26T11:55:55.314Z"
   },
   {
    "duration": 31,
    "start_time": "2022-11-26T11:55:55.324Z"
   },
   {
    "duration": 5,
    "start_time": "2022-11-26T11:55:55.356Z"
   },
   {
    "duration": 6,
    "start_time": "2022-11-26T11:55:55.363Z"
   },
   {
    "duration": 15,
    "start_time": "2022-11-26T11:55:55.370Z"
   },
   {
    "duration": 7,
    "start_time": "2022-11-26T11:55:55.387Z"
   },
   {
    "duration": 56,
    "start_time": "2022-11-26T11:55:55.396Z"
   },
   {
    "duration": 19,
    "start_time": "2022-11-26T11:55:55.454Z"
   },
   {
    "duration": 4,
    "start_time": "2022-11-26T11:55:55.475Z"
   },
   {
    "duration": 17,
    "start_time": "2022-11-26T11:55:55.480Z"
   },
   {
    "duration": 35,
    "start_time": "2022-11-26T11:55:55.499Z"
   },
   {
    "duration": 41,
    "start_time": "2022-11-26T11:55:55.536Z"
   },
   {
    "duration": 8,
    "start_time": "2022-11-26T11:55:55.579Z"
   },
   {
    "duration": 6,
    "start_time": "2022-11-26T11:55:55.589Z"
   },
   {
    "duration": 4,
    "start_time": "2022-11-26T11:55:55.597Z"
   },
   {
    "duration": 10,
    "start_time": "2022-11-26T11:55:55.603Z"
   },
   {
    "duration": 10,
    "start_time": "2022-11-26T11:55:55.652Z"
   },
   {
    "duration": 7,
    "start_time": "2022-11-26T11:55:55.664Z"
   },
   {
    "duration": 5,
    "start_time": "2022-11-26T11:55:55.673Z"
   },
   {
    "duration": 4,
    "start_time": "2022-11-26T11:55:55.680Z"
   },
   {
    "duration": 9,
    "start_time": "2022-11-26T11:55:55.686Z"
   },
   {
    "duration": 6,
    "start_time": "2022-11-26T11:55:55.697Z"
   },
   {
    "duration": 9,
    "start_time": "2022-11-26T11:55:55.704Z"
   },
   {
    "duration": 40,
    "start_time": "2022-11-26T11:55:55.714Z"
   },
   {
    "duration": 9,
    "start_time": "2022-11-26T11:55:55.756Z"
   },
   {
    "duration": 11,
    "start_time": "2022-11-26T11:55:55.767Z"
   },
   {
    "duration": 5,
    "start_time": "2022-11-26T11:55:55.780Z"
   },
   {
    "duration": 92,
    "start_time": "2022-11-26T11:55:55.788Z"
   },
   {
    "duration": 11,
    "start_time": "2022-11-26T11:55:55.882Z"
   },
   {
    "duration": 18,
    "start_time": "2022-11-26T11:55:55.895Z"
   },
   {
    "duration": 6,
    "start_time": "2022-11-26T11:55:55.915Z"
   },
   {
    "duration": 9,
    "start_time": "2022-11-26T11:55:55.923Z"
   },
   {
    "duration": 79,
    "start_time": "2022-11-26T11:55:55.934Z"
   },
   {
    "duration": 55,
    "start_time": "2022-11-26T11:55:56.015Z"
   },
   {
    "duration": 163,
    "start_time": "2022-11-26T11:55:56.073Z"
   },
   {
    "duration": 5,
    "start_time": "2022-11-26T11:55:56.238Z"
   },
   {
    "duration": 48,
    "start_time": "2022-11-26T11:55:56.252Z"
   },
   {
    "duration": 8,
    "start_time": "2022-11-26T11:55:56.302Z"
   },
   {
    "duration": 5,
    "start_time": "2022-11-26T11:55:56.312Z"
   },
   {
    "duration": 35,
    "start_time": "2022-11-26T11:55:56.318Z"
   },
   {
    "duration": 3,
    "start_time": "2022-11-26T11:55:56.355Z"
   },
   {
    "duration": 254,
    "start_time": "2022-11-26T11:55:56.360Z"
   },
   {
    "duration": 6,
    "start_time": "2022-11-26T11:55:56.616Z"
   },
   {
    "duration": 60,
    "start_time": "2022-11-26T11:55:56.623Z"
   },
   {
    "duration": 497,
    "start_time": "2022-11-26T11:55:56.685Z"
   },
   {
    "duration": 13,
    "start_time": "2022-11-26T11:55:57.184Z"
   },
   {
    "duration": 127,
    "start_time": "2022-11-26T11:55:57.198Z"
   },
   {
    "duration": 324,
    "start_time": "2022-11-26T11:55:57.327Z"
   },
   {
    "duration": 9,
    "start_time": "2022-11-26T11:55:57.653Z"
   },
   {
    "duration": 145,
    "start_time": "2022-11-26T11:55:57.664Z"
   },
   {
    "duration": 199,
    "start_time": "2022-11-26T11:55:57.811Z"
   },
   {
    "duration": 10,
    "start_time": "2022-11-26T11:55:58.012Z"
   },
   {
    "duration": 132,
    "start_time": "2022-11-26T11:55:58.024Z"
   },
   {
    "duration": 169,
    "start_time": "2022-11-26T11:55:58.158Z"
   },
   {
    "duration": 11,
    "start_time": "2022-11-26T11:55:58.328Z"
   },
   {
    "duration": 133,
    "start_time": "2022-11-26T11:55:58.353Z"
   },
   {
    "duration": 235,
    "start_time": "2022-11-26T11:55:58.488Z"
   },
   {
    "duration": 9,
    "start_time": "2022-11-26T11:55:58.725Z"
   },
   {
    "duration": 133,
    "start_time": "2022-11-26T11:55:58.736Z"
   },
   {
    "duration": 211,
    "start_time": "2022-11-26T11:55:58.871Z"
   },
   {
    "duration": 12,
    "start_time": "2022-11-26T11:55:59.085Z"
   },
   {
    "duration": 217,
    "start_time": "2022-11-26T11:55:59.099Z"
   },
   {
    "duration": 155,
    "start_time": "2022-11-26T11:55:59.318Z"
   },
   {
    "duration": 9,
    "start_time": "2022-11-26T11:55:59.475Z"
   },
   {
    "duration": 138,
    "start_time": "2022-11-26T11:55:59.486Z"
   },
   {
    "duration": 183,
    "start_time": "2022-11-26T11:55:59.627Z"
   },
   {
    "duration": 9,
    "start_time": "2022-11-26T11:55:59.812Z"
   },
   {
    "duration": 181,
    "start_time": "2022-11-26T11:55:59.824Z"
   },
   {
    "duration": 8,
    "start_time": "2022-11-26T11:56:00.007Z"
   },
   {
    "duration": 138,
    "start_time": "2022-11-26T11:56:00.016Z"
   },
   {
    "duration": 183,
    "start_time": "2022-11-26T11:56:00.161Z"
   },
   {
    "duration": 17,
    "start_time": "2022-11-26T11:56:00.347Z"
   },
   {
    "duration": 157,
    "start_time": "2022-11-26T11:56:00.367Z"
   },
   {
    "duration": 194,
    "start_time": "2022-11-26T11:56:00.526Z"
   },
   {
    "duration": 12,
    "start_time": "2022-11-26T11:56:00.723Z"
   },
   {
    "duration": 133,
    "start_time": "2022-11-26T11:56:00.738Z"
   },
   {
    "duration": 187,
    "start_time": "2022-11-26T11:56:00.872Z"
   },
   {
    "duration": 9,
    "start_time": "2022-11-26T11:56:01.061Z"
   },
   {
    "duration": 148,
    "start_time": "2022-11-26T11:56:01.072Z"
   },
   {
    "duration": 181,
    "start_time": "2022-11-26T11:56:01.222Z"
   },
   {
    "duration": 9,
    "start_time": "2022-11-26T11:56:01.405Z"
   },
   {
    "duration": 180,
    "start_time": "2022-11-26T11:56:01.416Z"
   },
   {
    "duration": 8,
    "start_time": "2022-11-26T11:56:01.598Z"
   },
   {
    "duration": 189,
    "start_time": "2022-11-26T11:56:01.608Z"
   },
   {
    "duration": 324,
    "start_time": "2022-11-26T11:56:01.799Z"
   },
   {
    "duration": 5,
    "start_time": "2022-11-26T11:56:02.124Z"
   },
   {
    "duration": 30,
    "start_time": "2022-11-26T11:56:02.131Z"
   },
   {
    "duration": 40,
    "start_time": "2022-11-26T11:56:02.163Z"
   },
   {
    "duration": 35,
    "start_time": "2022-11-26T11:56:02.205Z"
   },
   {
    "duration": 176,
    "start_time": "2022-11-26T11:56:02.242Z"
   },
   {
    "duration": 274,
    "start_time": "2022-11-26T11:56:02.420Z"
   },
   {
    "duration": 165,
    "start_time": "2022-11-26T11:56:02.699Z"
   },
   {
    "duration": 159,
    "start_time": "2022-11-26T11:56:02.867Z"
   },
   {
    "duration": 184,
    "start_time": "2022-11-26T11:56:03.027Z"
   },
   {
    "duration": 189,
    "start_time": "2022-11-26T11:56:03.214Z"
   },
   {
    "duration": 177,
    "start_time": "2022-11-26T11:56:03.405Z"
   },
   {
    "duration": 193,
    "start_time": "2022-11-26T11:56:03.583Z"
   },
   {
    "duration": 148,
    "start_time": "2022-11-26T11:56:03.779Z"
   },
   {
    "duration": 170,
    "start_time": "2022-11-26T11:56:03.929Z"
   },
   {
    "duration": 199,
    "start_time": "2022-11-26T11:56:04.101Z"
   },
   {
    "duration": 139,
    "start_time": "2022-11-26T11:56:04.302Z"
   },
   {
    "duration": 177,
    "start_time": "2022-11-26T11:56:04.443Z"
   },
   {
    "duration": 186,
    "start_time": "2022-11-26T11:56:04.623Z"
   },
   {
    "duration": 163,
    "start_time": "2022-11-26T11:56:04.811Z"
   },
   {
    "duration": 176,
    "start_time": "2022-11-26T11:56:04.976Z"
   },
   {
    "duration": 417,
    "start_time": "2022-11-26T11:56:05.154Z"
   },
   {
    "duration": 431,
    "start_time": "2022-11-26T11:56:05.573Z"
   },
   {
    "duration": 387,
    "start_time": "2022-11-26T11:56:06.006Z"
   },
   {
    "duration": 388,
    "start_time": "2022-11-26T11:56:06.396Z"
   },
   {
    "duration": 310,
    "start_time": "2022-11-26T11:56:06.786Z"
   },
   {
    "duration": 9,
    "start_time": "2022-11-26T11:56:07.099Z"
   },
   {
    "duration": 73,
    "start_time": "2022-11-26T11:56:07.111Z"
   },
   {
    "duration": 13,
    "start_time": "2022-11-26T11:56:07.186Z"
   },
   {
    "duration": 198,
    "start_time": "2022-11-26T11:56:07.202Z"
   },
   {
    "duration": 10,
    "start_time": "2022-11-26T12:02:53.720Z"
   },
   {
    "duration": 21,
    "start_time": "2022-11-26T12:03:50.791Z"
   },
   {
    "duration": 98,
    "start_time": "2022-11-26T12:03:54.216Z"
   },
   {
    "duration": 629,
    "start_time": "2022-11-26T12:04:06.481Z"
   },
   {
    "duration": 2286,
    "start_time": "2022-11-26T12:04:07.112Z"
   },
   {
    "duration": 18,
    "start_time": "2022-11-26T12:04:09.400Z"
   },
   {
    "duration": 10,
    "start_time": "2022-11-26T12:04:09.421Z"
   },
   {
    "duration": 31,
    "start_time": "2022-11-26T12:04:09.433Z"
   },
   {
    "duration": 9,
    "start_time": "2022-11-26T12:04:09.467Z"
   },
   {
    "duration": 13,
    "start_time": "2022-11-26T12:04:09.478Z"
   },
   {
    "duration": 16,
    "start_time": "2022-11-26T12:04:09.494Z"
   },
   {
    "duration": 42,
    "start_time": "2022-11-26T12:04:09.512Z"
   },
   {
    "duration": 77,
    "start_time": "2022-11-26T12:04:09.557Z"
   },
   {
    "duration": 12,
    "start_time": "2022-11-26T12:04:09.654Z"
   },
   {
    "duration": 9,
    "start_time": "2022-11-26T12:04:09.668Z"
   },
   {
    "duration": 19,
    "start_time": "2022-11-26T12:04:09.679Z"
   },
   {
    "duration": 9,
    "start_time": "2022-11-26T12:04:09.701Z"
   },
   {
    "duration": 11,
    "start_time": "2022-11-26T12:04:09.713Z"
   },
   {
    "duration": 57,
    "start_time": "2022-11-26T12:04:09.727Z"
   },
   {
    "duration": 23,
    "start_time": "2022-11-26T12:04:09.786Z"
   },
   {
    "duration": 11,
    "start_time": "2022-11-26T12:04:09.811Z"
   },
   {
    "duration": 8,
    "start_time": "2022-11-26T12:04:09.824Z"
   },
   {
    "duration": 19,
    "start_time": "2022-11-26T12:04:09.834Z"
   },
   {
    "duration": 15,
    "start_time": "2022-11-26T12:04:09.855Z"
   },
   {
    "duration": 44,
    "start_time": "2022-11-26T12:04:09.873Z"
   },
   {
    "duration": 69,
    "start_time": "2022-11-26T12:04:09.920Z"
   },
   {
    "duration": 12,
    "start_time": "2022-11-26T12:04:09.991Z"
   },
   {
    "duration": 15,
    "start_time": "2022-11-26T12:04:10.005Z"
   },
   {
    "duration": 24,
    "start_time": "2022-11-26T12:04:10.022Z"
   },
   {
    "duration": 16,
    "start_time": "2022-11-26T12:04:10.049Z"
   },
   {
    "duration": 13,
    "start_time": "2022-11-26T12:04:10.069Z"
   },
   {
    "duration": 12,
    "start_time": "2022-11-26T12:04:10.084Z"
   },
   {
    "duration": 8,
    "start_time": "2022-11-26T12:04:10.099Z"
   },
   {
    "duration": 5,
    "start_time": "2022-11-26T12:04:10.109Z"
   },
   {
    "duration": 8,
    "start_time": "2022-11-26T12:04:10.116Z"
   },
   {
    "duration": 28,
    "start_time": "2022-11-26T12:04:10.126Z"
   },
   {
    "duration": 6,
    "start_time": "2022-11-26T12:04:10.156Z"
   },
   {
    "duration": 6,
    "start_time": "2022-11-26T12:04:10.164Z"
   },
   {
    "duration": 7,
    "start_time": "2022-11-26T12:04:10.172Z"
   },
   {
    "duration": 10,
    "start_time": "2022-11-26T12:04:10.180Z"
   },
   {
    "duration": 7,
    "start_time": "2022-11-26T12:04:10.192Z"
   },
   {
    "duration": 98,
    "start_time": "2022-11-26T12:04:10.201Z"
   },
   {
    "duration": 11,
    "start_time": "2022-11-26T12:04:10.302Z"
   },
   {
    "duration": 38,
    "start_time": "2022-11-26T12:04:10.316Z"
   },
   {
    "duration": 85,
    "start_time": "2022-11-26T12:04:10.356Z"
   },
   {
    "duration": 5,
    "start_time": "2022-11-26T12:04:10.451Z"
   },
   {
    "duration": 10,
    "start_time": "2022-11-26T12:04:10.458Z"
   },
   {
    "duration": 130,
    "start_time": "2022-11-26T12:04:10.471Z"
   },
   {
    "duration": 73,
    "start_time": "2022-11-26T12:04:10.603Z"
   },
   {
    "duration": 91,
    "start_time": "2022-11-26T12:04:10.678Z"
   },
   {
    "duration": 6,
    "start_time": "2022-11-26T12:04:10.771Z"
   },
   {
    "duration": 46,
    "start_time": "2022-11-26T12:04:10.778Z"
   },
   {
    "duration": 30,
    "start_time": "2022-11-26T12:04:10.825Z"
   },
   {
    "duration": 6,
    "start_time": "2022-11-26T12:04:10.858Z"
   },
   {
    "duration": 8,
    "start_time": "2022-11-26T12:04:10.867Z"
   },
   {
    "duration": 5,
    "start_time": "2022-11-26T12:04:10.877Z"
   },
   {
    "duration": 364,
    "start_time": "2022-11-26T12:04:10.885Z"
   },
   {
    "duration": 5,
    "start_time": "2022-11-26T12:04:11.250Z"
   },
   {
    "duration": 66,
    "start_time": "2022-11-26T12:04:11.257Z"
   },
   {
    "duration": 553,
    "start_time": "2022-11-26T12:04:11.326Z"
   },
   {
    "duration": 14,
    "start_time": "2022-11-26T12:04:11.881Z"
   },
   {
    "duration": 137,
    "start_time": "2022-11-26T12:04:11.896Z"
   },
   {
    "duration": 326,
    "start_time": "2022-11-26T12:04:12.035Z"
   },
   {
    "duration": 12,
    "start_time": "2022-11-26T12:04:12.364Z"
   },
   {
    "duration": 215,
    "start_time": "2022-11-26T12:04:12.378Z"
   },
   {
    "duration": 286,
    "start_time": "2022-11-26T12:04:12.595Z"
   },
   {
    "duration": 14,
    "start_time": "2022-11-26T12:04:12.884Z"
   },
   {
    "duration": 153,
    "start_time": "2022-11-26T12:04:12.901Z"
   },
   {
    "duration": 176,
    "start_time": "2022-11-26T12:04:13.056Z"
   },
   {
    "duration": 20,
    "start_time": "2022-11-26T12:04:13.234Z"
   },
   {
    "duration": 229,
    "start_time": "2022-11-26T12:04:13.257Z"
   },
   {
    "duration": 266,
    "start_time": "2022-11-26T12:04:13.488Z"
   },
   {
    "duration": 9,
    "start_time": "2022-11-26T12:04:13.755Z"
   },
   {
    "duration": 154,
    "start_time": "2022-11-26T12:04:13.765Z"
   },
   {
    "duration": 328,
    "start_time": "2022-11-26T12:04:13.922Z"
   },
   {
    "duration": 13,
    "start_time": "2022-11-26T12:04:14.253Z"
   },
   {
    "duration": 154,
    "start_time": "2022-11-26T12:04:14.268Z"
   },
   {
    "duration": 167,
    "start_time": "2022-11-26T12:04:14.425Z"
   },
   {
    "duration": 11,
    "start_time": "2022-11-26T12:04:14.595Z"
   },
   {
    "duration": 262,
    "start_time": "2022-11-26T12:04:14.609Z"
   },
   {
    "duration": 257,
    "start_time": "2022-11-26T12:04:14.874Z"
   },
   {
    "duration": 10,
    "start_time": "2022-11-26T12:04:15.133Z"
   },
   {
    "duration": 170,
    "start_time": "2022-11-26T12:04:15.153Z"
   },
   {
    "duration": 9,
    "start_time": "2022-11-26T12:04:15.325Z"
   },
   {
    "duration": 169,
    "start_time": "2022-11-26T12:04:15.351Z"
   },
   {
    "duration": 241,
    "start_time": "2022-11-26T12:04:15.523Z"
   },
   {
    "duration": 12,
    "start_time": "2022-11-26T12:04:15.766Z"
   },
   {
    "duration": 140,
    "start_time": "2022-11-26T12:04:15.780Z"
   },
   {
    "duration": 211,
    "start_time": "2022-11-26T12:04:15.924Z"
   },
   {
    "duration": 19,
    "start_time": "2022-11-26T12:04:16.138Z"
   },
   {
    "duration": 120,
    "start_time": "2022-11-26T12:04:16.160Z"
   },
   {
    "duration": 172,
    "start_time": "2022-11-26T12:04:16.282Z"
   },
   {
    "duration": 9,
    "start_time": "2022-11-26T12:04:16.457Z"
   },
   {
    "duration": 153,
    "start_time": "2022-11-26T12:04:16.469Z"
   },
   {
    "duration": 200,
    "start_time": "2022-11-26T12:04:16.624Z"
   },
   {
    "duration": 13,
    "start_time": "2022-11-26T12:04:16.827Z"
   },
   {
    "duration": 175,
    "start_time": "2022-11-26T12:04:16.842Z"
   },
   {
    "duration": 9,
    "start_time": "2022-11-26T12:04:17.019Z"
   },
   {
    "duration": 187,
    "start_time": "2022-11-26T12:04:17.030Z"
   },
   {
    "duration": 194,
    "start_time": "2022-11-26T12:04:17.219Z"
   },
   {
    "duration": 5,
    "start_time": "2022-11-26T12:04:17.415Z"
   },
   {
    "duration": 25,
    "start_time": "2022-11-26T12:04:17.422Z"
   },
   {
    "duration": 19,
    "start_time": "2022-11-26T12:04:17.449Z"
   },
   {
    "duration": 18,
    "start_time": "2022-11-26T12:04:17.470Z"
   },
   {
    "duration": 319,
    "start_time": "2022-11-26T12:04:17.491Z"
   },
   {
    "duration": 206,
    "start_time": "2022-11-26T12:04:17.812Z"
   },
   {
    "duration": 176,
    "start_time": "2022-11-26T12:04:18.021Z"
   },
   {
    "duration": 148,
    "start_time": "2022-11-26T12:04:18.199Z"
   },
   {
    "duration": 174,
    "start_time": "2022-11-26T12:04:18.353Z"
   },
   {
    "duration": 160,
    "start_time": "2022-11-26T12:04:18.530Z"
   },
   {
    "duration": 225,
    "start_time": "2022-11-26T12:04:18.692Z"
   },
   {
    "duration": 250,
    "start_time": "2022-11-26T12:04:18.920Z"
   },
   {
    "duration": 173,
    "start_time": "2022-11-26T12:04:19.173Z"
   },
   {
    "duration": 184,
    "start_time": "2022-11-26T12:04:19.352Z"
   },
   {
    "duration": 203,
    "start_time": "2022-11-26T12:04:19.538Z"
   },
   {
    "duration": 159,
    "start_time": "2022-11-26T12:04:19.743Z"
   },
   {
    "duration": 313,
    "start_time": "2022-11-26T12:04:19.903Z"
   },
   {
    "duration": 263,
    "start_time": "2022-11-26T12:04:20.218Z"
   },
   {
    "duration": 191,
    "start_time": "2022-11-26T12:04:20.483Z"
   },
   {
    "duration": 155,
    "start_time": "2022-11-26T12:04:20.675Z"
   },
   {
    "duration": 422,
    "start_time": "2022-11-26T12:04:20.832Z"
   },
   {
    "duration": 255,
    "start_time": "2022-11-26T12:04:21.257Z"
   },
   {
    "duration": 575,
    "start_time": "2022-11-26T12:04:21.514Z"
   },
   {
    "duration": 431,
    "start_time": "2022-11-26T12:04:22.090Z"
   },
   {
    "duration": 350,
    "start_time": "2022-11-26T12:04:22.525Z"
   },
   {
    "duration": 13,
    "start_time": "2022-11-26T12:04:22.878Z"
   },
   {
    "duration": 37,
    "start_time": "2022-11-26T12:04:22.893Z"
   },
   {
    "duration": 35,
    "start_time": "2022-11-26T12:04:22.932Z"
   },
   {
    "duration": 190,
    "start_time": "2022-11-26T12:04:22.969Z"
   },
   {
    "duration": 75,
    "start_time": "2022-11-26T12:04:53.626Z"
   },
   {
    "duration": 8,
    "start_time": "2022-11-26T12:05:10.272Z"
   },
   {
    "duration": 1430,
    "start_time": "2022-11-27T07:00:28.022Z"
   },
   {
    "duration": 92,
    "start_time": "2022-11-27T07:01:12.776Z"
   },
   {
    "duration": 116,
    "start_time": "2022-11-27T07:01:12.870Z"
   },
   {
    "duration": 0,
    "start_time": "2022-11-27T07:01:12.993Z"
   },
   {
    "duration": 0,
    "start_time": "2022-11-27T07:01:12.994Z"
   },
   {
    "duration": 0,
    "start_time": "2022-11-27T07:01:12.996Z"
   },
   {
    "duration": 0,
    "start_time": "2022-11-27T07:01:12.997Z"
   },
   {
    "duration": 0,
    "start_time": "2022-11-27T07:01:12.998Z"
   },
   {
    "duration": 0,
    "start_time": "2022-11-27T07:01:13.023Z"
   },
   {
    "duration": 0,
    "start_time": "2022-11-27T07:01:13.025Z"
   },
   {
    "duration": 0,
    "start_time": "2022-11-27T07:01:13.026Z"
   },
   {
    "duration": 0,
    "start_time": "2022-11-27T07:01:13.027Z"
   },
   {
    "duration": 0,
    "start_time": "2022-11-27T07:01:13.028Z"
   },
   {
    "duration": 0,
    "start_time": "2022-11-27T07:01:13.030Z"
   },
   {
    "duration": 0,
    "start_time": "2022-11-27T07:01:13.031Z"
   },
   {
    "duration": 0,
    "start_time": "2022-11-27T07:01:13.033Z"
   },
   {
    "duration": 0,
    "start_time": "2022-11-27T07:01:13.034Z"
   },
   {
    "duration": 0,
    "start_time": "2022-11-27T07:01:13.035Z"
   },
   {
    "duration": 0,
    "start_time": "2022-11-27T07:01:13.037Z"
   },
   {
    "duration": 0,
    "start_time": "2022-11-27T07:01:13.038Z"
   },
   {
    "duration": 0,
    "start_time": "2022-11-27T07:01:13.039Z"
   },
   {
    "duration": 0,
    "start_time": "2022-11-27T07:01:13.040Z"
   },
   {
    "duration": 0,
    "start_time": "2022-11-27T07:01:13.041Z"
   },
   {
    "duration": 0,
    "start_time": "2022-11-27T07:01:13.042Z"
   },
   {
    "duration": 0,
    "start_time": "2022-11-27T07:01:13.044Z"
   },
   {
    "duration": 0,
    "start_time": "2022-11-27T07:01:13.045Z"
   },
   {
    "duration": 0,
    "start_time": "2022-11-27T07:01:13.046Z"
   },
   {
    "duration": 0,
    "start_time": "2022-11-27T07:01:13.047Z"
   },
   {
    "duration": 0,
    "start_time": "2022-11-27T07:01:13.048Z"
   },
   {
    "duration": 0,
    "start_time": "2022-11-27T07:01:13.049Z"
   },
   {
    "duration": 0,
    "start_time": "2022-11-27T07:01:13.050Z"
   },
   {
    "duration": 0,
    "start_time": "2022-11-27T07:01:13.051Z"
   },
   {
    "duration": 0,
    "start_time": "2022-11-27T07:01:13.052Z"
   },
   {
    "duration": 0,
    "start_time": "2022-11-27T07:01:13.053Z"
   },
   {
    "duration": 0,
    "start_time": "2022-11-27T07:01:13.054Z"
   },
   {
    "duration": 0,
    "start_time": "2022-11-27T07:01:13.054Z"
   },
   {
    "duration": 0,
    "start_time": "2022-11-27T07:01:13.055Z"
   },
   {
    "duration": 0,
    "start_time": "2022-11-27T07:01:13.056Z"
   },
   {
    "duration": 0,
    "start_time": "2022-11-27T07:01:13.057Z"
   },
   {
    "duration": 0,
    "start_time": "2022-11-27T07:01:13.059Z"
   },
   {
    "duration": 1,
    "start_time": "2022-11-27T07:01:13.121Z"
   },
   {
    "duration": 0,
    "start_time": "2022-11-27T07:01:13.123Z"
   },
   {
    "duration": 0,
    "start_time": "2022-11-27T07:01:13.124Z"
   },
   {
    "duration": 0,
    "start_time": "2022-11-27T07:01:13.125Z"
   },
   {
    "duration": 0,
    "start_time": "2022-11-27T07:01:13.127Z"
   },
   {
    "duration": 0,
    "start_time": "2022-11-27T07:01:13.128Z"
   },
   {
    "duration": 0,
    "start_time": "2022-11-27T07:01:13.129Z"
   },
   {
    "duration": 0,
    "start_time": "2022-11-27T07:01:13.130Z"
   },
   {
    "duration": 0,
    "start_time": "2022-11-27T07:01:13.132Z"
   },
   {
    "duration": 0,
    "start_time": "2022-11-27T07:01:13.133Z"
   },
   {
    "duration": 0,
    "start_time": "2022-11-27T07:01:13.134Z"
   },
   {
    "duration": 0,
    "start_time": "2022-11-27T07:01:13.136Z"
   },
   {
    "duration": 0,
    "start_time": "2022-11-27T07:01:13.137Z"
   },
   {
    "duration": 0,
    "start_time": "2022-11-27T07:01:13.139Z"
   },
   {
    "duration": 0,
    "start_time": "2022-11-27T07:01:13.140Z"
   },
   {
    "duration": 0,
    "start_time": "2022-11-27T07:01:13.141Z"
   },
   {
    "duration": 0,
    "start_time": "2022-11-27T07:01:13.142Z"
   },
   {
    "duration": 0,
    "start_time": "2022-11-27T07:01:13.143Z"
   },
   {
    "duration": 0,
    "start_time": "2022-11-27T07:01:13.144Z"
   },
   {
    "duration": 0,
    "start_time": "2022-11-27T07:01:13.145Z"
   },
   {
    "duration": 0,
    "start_time": "2022-11-27T07:01:13.146Z"
   },
   {
    "duration": 0,
    "start_time": "2022-11-27T07:01:13.147Z"
   },
   {
    "duration": 0,
    "start_time": "2022-11-27T07:01:13.148Z"
   },
   {
    "duration": 0,
    "start_time": "2022-11-27T07:01:13.149Z"
   },
   {
    "duration": 0,
    "start_time": "2022-11-27T07:01:13.150Z"
   },
   {
    "duration": 0,
    "start_time": "2022-11-27T07:01:13.151Z"
   },
   {
    "duration": 0,
    "start_time": "2022-11-27T07:01:13.152Z"
   },
   {
    "duration": 0,
    "start_time": "2022-11-27T07:01:13.153Z"
   },
   {
    "duration": 0,
    "start_time": "2022-11-27T07:01:13.154Z"
   },
   {
    "duration": 0,
    "start_time": "2022-11-27T07:01:13.155Z"
   },
   {
    "duration": 0,
    "start_time": "2022-11-27T07:01:13.156Z"
   },
   {
    "duration": 0,
    "start_time": "2022-11-27T07:01:13.157Z"
   },
   {
    "duration": 0,
    "start_time": "2022-11-27T07:01:13.158Z"
   },
   {
    "duration": 0,
    "start_time": "2022-11-27T07:01:13.158Z"
   },
   {
    "duration": 0,
    "start_time": "2022-11-27T07:01:13.160Z"
   },
   {
    "duration": 0,
    "start_time": "2022-11-27T07:01:13.161Z"
   },
   {
    "duration": 0,
    "start_time": "2022-11-27T07:01:13.222Z"
   },
   {
    "duration": 0,
    "start_time": "2022-11-27T07:01:13.223Z"
   },
   {
    "duration": 0,
    "start_time": "2022-11-27T07:01:13.224Z"
   },
   {
    "duration": 0,
    "start_time": "2022-11-27T07:01:13.225Z"
   },
   {
    "duration": 0,
    "start_time": "2022-11-27T07:01:13.226Z"
   },
   {
    "duration": 0,
    "start_time": "2022-11-27T07:01:13.227Z"
   },
   {
    "duration": 0,
    "start_time": "2022-11-27T07:01:13.228Z"
   },
   {
    "duration": 0,
    "start_time": "2022-11-27T07:01:13.229Z"
   },
   {
    "duration": 0,
    "start_time": "2022-11-27T07:01:13.230Z"
   },
   {
    "duration": 0,
    "start_time": "2022-11-27T07:01:13.231Z"
   },
   {
    "duration": 0,
    "start_time": "2022-11-27T07:01:13.232Z"
   },
   {
    "duration": 0,
    "start_time": "2022-11-27T07:01:13.232Z"
   },
   {
    "duration": 0,
    "start_time": "2022-11-27T07:01:13.233Z"
   },
   {
    "duration": 0,
    "start_time": "2022-11-27T07:01:13.234Z"
   },
   {
    "duration": 0,
    "start_time": "2022-11-27T07:01:13.235Z"
   },
   {
    "duration": 0,
    "start_time": "2022-11-27T07:01:13.237Z"
   },
   {
    "duration": 0,
    "start_time": "2022-11-27T07:01:13.238Z"
   },
   {
    "duration": 0,
    "start_time": "2022-11-27T07:01:13.238Z"
   },
   {
    "duration": 0,
    "start_time": "2022-11-27T07:01:13.239Z"
   },
   {
    "duration": 0,
    "start_time": "2022-11-27T07:01:13.240Z"
   },
   {
    "duration": 0,
    "start_time": "2022-11-27T07:01:13.241Z"
   },
   {
    "duration": 0,
    "start_time": "2022-11-27T07:01:13.242Z"
   },
   {
    "duration": 0,
    "start_time": "2022-11-27T07:01:13.243Z"
   },
   {
    "duration": 0,
    "start_time": "2022-11-27T07:01:13.244Z"
   },
   {
    "duration": 0,
    "start_time": "2022-11-27T07:01:13.245Z"
   },
   {
    "duration": 0,
    "start_time": "2022-11-27T07:01:13.246Z"
   },
   {
    "duration": 0,
    "start_time": "2022-11-27T07:01:13.247Z"
   },
   {
    "duration": 0,
    "start_time": "2022-11-27T07:01:13.248Z"
   },
   {
    "duration": 0,
    "start_time": "2022-11-27T07:01:13.249Z"
   },
   {
    "duration": 0,
    "start_time": "2022-11-27T07:01:13.250Z"
   },
   {
    "duration": 0,
    "start_time": "2022-11-27T07:01:13.251Z"
   },
   {
    "duration": 0,
    "start_time": "2022-11-27T07:01:13.253Z"
   },
   {
    "duration": 0,
    "start_time": "2022-11-27T07:01:13.254Z"
   },
   {
    "duration": 0,
    "start_time": "2022-11-27T07:01:13.256Z"
   },
   {
    "duration": 0,
    "start_time": "2022-11-27T07:01:13.257Z"
   },
   {
    "duration": 0,
    "start_time": "2022-11-27T07:01:13.258Z"
   },
   {
    "duration": 0,
    "start_time": "2022-11-27T07:01:13.323Z"
   },
   {
    "duration": 0,
    "start_time": "2022-11-27T07:01:13.324Z"
   },
   {
    "duration": 0,
    "start_time": "2022-11-27T07:01:13.325Z"
   },
   {
    "duration": 0,
    "start_time": "2022-11-27T07:01:13.327Z"
   },
   {
    "duration": 0,
    "start_time": "2022-11-27T07:01:13.329Z"
   },
   {
    "duration": 0,
    "start_time": "2022-11-27T07:01:13.330Z"
   },
   {
    "duration": 0,
    "start_time": "2022-11-27T07:01:13.331Z"
   },
   {
    "duration": 0,
    "start_time": "2022-11-27T07:01:13.333Z"
   },
   {
    "duration": 0,
    "start_time": "2022-11-27T07:01:13.334Z"
   },
   {
    "duration": 0,
    "start_time": "2022-11-27T07:01:13.335Z"
   },
   {
    "duration": 0,
    "start_time": "2022-11-27T07:01:13.336Z"
   },
   {
    "duration": 0,
    "start_time": "2022-11-27T07:01:13.338Z"
   },
   {
    "duration": 0,
    "start_time": "2022-11-27T07:01:13.339Z"
   },
   {
    "duration": 86,
    "start_time": "2022-11-27T07:02:06.804Z"
   },
   {
    "duration": 10,
    "start_time": "2022-11-27T07:02:09.221Z"
   },
   {
    "duration": 118,
    "start_time": "2022-11-27T07:02:31.027Z"
   },
   {
    "duration": 1979,
    "start_time": "2022-11-27T07:02:42.316Z"
   },
   {
    "duration": 1800,
    "start_time": "2022-11-27T07:03:02.596Z"
   },
   {
    "duration": 22,
    "start_time": "2022-11-27T07:23:01.769Z"
   },
   {
    "duration": 9,
    "start_time": "2022-11-27T07:23:13.306Z"
   },
   {
    "duration": 121,
    "start_time": "2022-11-27T07:23:22.416Z"
   },
   {
    "duration": 7,
    "start_time": "2022-11-27T07:23:23.790Z"
   },
   {
    "duration": 10,
    "start_time": "2022-11-27T07:23:27.192Z"
   },
   {
    "duration": 6,
    "start_time": "2022-11-27T07:23:27.650Z"
   },
   {
    "duration": 8,
    "start_time": "2022-11-27T07:23:28.677Z"
   },
   {
    "duration": 35,
    "start_time": "2022-11-27T07:23:31.028Z"
   },
   {
    "duration": 9,
    "start_time": "2022-11-27T07:23:31.949Z"
   },
   {
    "duration": 10,
    "start_time": "2022-11-27T07:23:36.058Z"
   },
   {
    "duration": 8,
    "start_time": "2022-11-27T07:23:36.852Z"
   },
   {
    "duration": 4,
    "start_time": "2022-11-27T07:23:54.473Z"
   },
   {
    "duration": 5,
    "start_time": "2022-11-27T07:23:58.508Z"
   },
   {
    "duration": 14,
    "start_time": "2022-11-27T07:24:01.017Z"
   },
   {
    "duration": 10,
    "start_time": "2022-11-27T07:24:11.721Z"
   },
   {
    "duration": 10,
    "start_time": "2022-11-27T07:24:15.490Z"
   },
   {
    "duration": 6,
    "start_time": "2022-11-27T07:24:18.613Z"
   },
   {
    "duration": 4,
    "start_time": "2022-11-27T07:24:20.547Z"
   },
   {
    "duration": 11,
    "start_time": "2022-11-27T07:24:21.786Z"
   },
   {
    "duration": 23,
    "start_time": "2022-11-27T07:24:22.888Z"
   },
   {
    "duration": 37,
    "start_time": "2022-11-27T07:24:24.097Z"
   },
   {
    "duration": 8,
    "start_time": "2022-11-27T07:24:25.133Z"
   },
   {
    "duration": 6,
    "start_time": "2022-11-27T07:24:29.877Z"
   },
   {
    "duration": 4,
    "start_time": "2022-11-27T07:24:32.870Z"
   },
   {
    "duration": 7,
    "start_time": "2022-11-27T07:24:33.441Z"
   },
   {
    "duration": 4,
    "start_time": "2022-11-27T07:34:09.321Z"
   },
   {
    "duration": 4,
    "start_time": "2022-11-27T07:34:25.897Z"
   },
   {
    "duration": 4,
    "start_time": "2022-11-27T07:34:43.203Z"
   },
   {
    "duration": 4,
    "start_time": "2022-11-27T07:35:00.986Z"
   },
   {
    "duration": 5,
    "start_time": "2022-11-27T07:35:14.620Z"
   },
   {
    "duration": 3,
    "start_time": "2022-11-27T07:35:47.738Z"
   },
   {
    "duration": 4,
    "start_time": "2022-11-27T07:39:27.464Z"
   },
   {
    "duration": 34,
    "start_time": "2022-11-27T07:39:28.882Z"
   },
   {
    "duration": 12,
    "start_time": "2022-11-27T07:41:13.484Z"
   },
   {
    "duration": 14,
    "start_time": "2022-11-27T07:41:14.399Z"
   },
   {
    "duration": 5,
    "start_time": "2022-11-27T07:49:55.184Z"
   },
   {
    "duration": 15,
    "start_time": "2022-11-27T07:50:18.275Z"
   },
   {
    "duration": 9,
    "start_time": "2022-11-27T07:50:24.015Z"
   },
   {
    "duration": 5,
    "start_time": "2022-11-27T07:56:09.672Z"
   },
   {
    "duration": 3,
    "start_time": "2022-11-27T07:56:58.879Z"
   },
   {
    "duration": 6,
    "start_time": "2022-11-27T07:56:59.486Z"
   },
   {
    "duration": 60,
    "start_time": "2022-11-27T07:57:00.709Z"
   },
   {
    "duration": 39,
    "start_time": "2022-11-27T07:57:01.309Z"
   },
   {
    "duration": 57,
    "start_time": "2022-11-27T07:57:02.689Z"
   },
   {
    "duration": 7,
    "start_time": "2022-11-27T07:57:03.904Z"
   },
   {
    "duration": 37,
    "start_time": "2022-11-27T07:57:04.557Z"
   },
   {
    "duration": 7,
    "start_time": "2022-11-27T07:57:07.435Z"
   },
   {
    "duration": 5,
    "start_time": "2022-11-27T07:57:08.652Z"
   },
   {
    "duration": 4,
    "start_time": "2022-11-27T07:57:09.279Z"
   },
   {
    "duration": 4,
    "start_time": "2022-11-27T07:57:09.843Z"
   },
   {
    "duration": 256,
    "start_time": "2022-11-27T07:57:10.736Z"
   },
   {
    "duration": 4,
    "start_time": "2022-11-27T07:57:12.296Z"
   },
   {
    "duration": 72,
    "start_time": "2022-11-27T07:57:12.837Z"
   },
   {
    "duration": 8,
    "start_time": "2022-11-27T07:57:17.944Z"
   },
   {
    "duration": 106,
    "start_time": "2022-11-27T07:57:18.597Z"
   },
   {
    "duration": 212,
    "start_time": "2022-11-27T07:57:19.496Z"
   },
   {
    "duration": 9,
    "start_time": "2022-11-27T07:57:21.384Z"
   },
   {
    "duration": 206,
    "start_time": "2022-11-27T07:57:22.081Z"
   },
   {
    "duration": 164,
    "start_time": "2022-11-27T07:57:22.800Z"
   },
   {
    "duration": 10,
    "start_time": "2022-11-27T07:57:25.122Z"
   },
   {
    "duration": 107,
    "start_time": "2022-11-27T07:57:25.676Z"
   },
   {
    "duration": 165,
    "start_time": "2022-11-27T07:57:26.312Z"
   },
   {
    "duration": 10,
    "start_time": "2022-11-27T07:57:42.244Z"
   },
   {
    "duration": 102,
    "start_time": "2022-11-27T07:57:43.234Z"
   },
   {
    "duration": 245,
    "start_time": "2022-11-27T07:57:44.494Z"
   },
   {
    "duration": 1434,
    "start_time": "2022-11-27T08:31:36.166Z"
   },
   {
    "duration": 141,
    "start_time": "2022-11-27T08:31:42.725Z"
   },
   {
    "duration": 128,
    "start_time": "2022-11-27T08:31:50.203Z"
   },
   {
    "duration": 9,
    "start_time": "2022-11-27T08:32:30.257Z"
   },
   {
    "duration": 366,
    "start_time": "2022-11-27T08:32:37.747Z"
   },
   {
    "duration": 10,
    "start_time": "2022-11-27T08:33:36.712Z"
   },
   {
    "duration": 1194,
    "start_time": "2022-11-27T08:34:07.202Z"
   },
   {
    "duration": 4,
    "start_time": "2022-11-27T08:34:16.343Z"
   },
   {
    "duration": 3,
    "start_time": "2022-11-27T08:34:23.766Z"
   },
   {
    "duration": 12,
    "start_time": "2022-11-27T08:34:25.139Z"
   },
   {
    "duration": 107,
    "start_time": "2022-11-27T08:34:31.688Z"
   },
   {
    "duration": 248,
    "start_time": "2022-11-27T08:34:35.756Z"
   },
   {
    "duration": 9,
    "start_time": "2022-11-27T08:34:47.622Z"
   },
   {
    "duration": 109,
    "start_time": "2022-11-27T08:34:48.668Z"
   },
   {
    "duration": 226,
    "start_time": "2022-11-27T08:34:50.835Z"
   },
   {
    "duration": 13,
    "start_time": "2022-11-27T08:34:52.862Z"
   },
   {
    "duration": 161,
    "start_time": "2022-11-27T08:34:53.283Z"
   },
   {
    "duration": 147,
    "start_time": "2022-11-27T08:34:54.304Z"
   },
   {
    "duration": 10,
    "start_time": "2022-11-27T08:34:56.479Z"
   },
   {
    "duration": 118,
    "start_time": "2022-11-27T08:34:57.131Z"
   },
   {
    "duration": 175,
    "start_time": "2022-11-27T08:34:57.807Z"
   },
   {
    "duration": 9,
    "start_time": "2022-11-27T08:34:59.898Z"
   },
   {
    "duration": 168,
    "start_time": "2022-11-27T08:35:00.599Z"
   },
   {
    "duration": 9,
    "start_time": "2022-11-27T08:35:02.531Z"
   },
   {
    "duration": 111,
    "start_time": "2022-11-27T08:35:03.179Z"
   },
   {
    "duration": 201,
    "start_time": "2022-11-27T08:35:03.943Z"
   },
   {
    "duration": 10,
    "start_time": "2022-11-27T08:35:06.039Z"
   },
   {
    "duration": 117,
    "start_time": "2022-11-27T08:35:06.718Z"
   },
   {
    "duration": 164,
    "start_time": "2022-11-27T08:35:07.545Z"
   },
   {
    "duration": 9,
    "start_time": "2022-11-27T08:36:23.045Z"
   },
   {
    "duration": 116,
    "start_time": "2022-11-27T08:36:24.523Z"
   },
   {
    "duration": 158,
    "start_time": "2022-11-27T08:36:29.879Z"
   },
   {
    "duration": 9,
    "start_time": "2022-11-27T08:36:39.820Z"
   },
   {
    "duration": 114,
    "start_time": "2022-11-27T08:36:45.581Z"
   },
   {
    "duration": 173,
    "start_time": "2022-11-27T08:36:48.326Z"
   },
   {
    "duration": 9,
    "start_time": "2022-11-27T08:36:57.647Z"
   },
   {
    "duration": 339,
    "start_time": "2022-11-27T08:37:01.311Z"
   },
   {
    "duration": 144,
    "start_time": "2022-11-27T08:38:08.404Z"
   },
   {
    "duration": 140,
    "start_time": "2022-11-27T08:38:15.536Z"
   },
   {
    "duration": 9,
    "start_time": "2022-11-27T08:39:12.491Z"
   },
   {
    "duration": 167,
    "start_time": "2022-11-27T08:39:13.355Z"
   },
   {
    "duration": 189,
    "start_time": "2022-11-27T08:39:45.575Z"
   },
   {
    "duration": 198,
    "start_time": "2022-11-27T08:39:51.224Z"
   },
   {
    "duration": 179,
    "start_time": "2022-11-27T08:39:59.448Z"
   },
   {
    "duration": 178,
    "start_time": "2022-11-27T08:40:21.168Z"
   },
   {
    "duration": 188,
    "start_time": "2022-11-27T08:40:58.826Z"
   },
   {
    "duration": 4,
    "start_time": "2022-11-27T08:41:00.096Z"
   },
   {
    "duration": 5,
    "start_time": "2022-11-27T08:41:01.176Z"
   },
   {
    "duration": 5,
    "start_time": "2022-11-27T08:41:02.253Z"
   },
   {
    "duration": 5,
    "start_time": "2022-11-27T08:41:05.564Z"
   },
   {
    "duration": 171,
    "start_time": "2022-11-27T08:41:09.384Z"
   },
   {
    "duration": 198,
    "start_time": "2022-11-27T08:41:15.171Z"
   },
   {
    "duration": 5,
    "start_time": "2022-11-27T08:43:11.120Z"
   },
   {
    "duration": 1935,
    "start_time": "2022-11-27T08:43:32.521Z"
   },
   {
    "duration": 9,
    "start_time": "2022-11-27T08:45:07.909Z"
   },
   {
    "duration": 14,
    "start_time": "2022-11-27T08:45:47.190Z"
   },
   {
    "duration": 225,
    "start_time": "2022-11-27T08:46:01.574Z"
   },
   {
    "duration": 9,
    "start_time": "2022-11-27T08:46:49.284Z"
   },
   {
    "duration": 218,
    "start_time": "2022-11-27T08:48:04.245Z"
   },
   {
    "duration": 5,
    "start_time": "2022-11-27T08:48:27.280Z"
   },
   {
    "duration": 12,
    "start_time": "2022-11-27T08:49:01.866Z"
   },
   {
    "duration": 8,
    "start_time": "2022-11-27T08:49:26.980Z"
   },
   {
    "duration": 9,
    "start_time": "2022-11-27T08:49:47.810Z"
   },
   {
    "duration": 9,
    "start_time": "2022-11-27T08:49:57.911Z"
   },
   {
    "duration": 8,
    "start_time": "2022-11-27T08:50:20.656Z"
   },
   {
    "duration": 9,
    "start_time": "2022-11-27T08:50:26.525Z"
   },
   {
    "duration": 2882,
    "start_time": "2022-11-27T08:50:40.794Z"
   },
   {
    "duration": 205,
    "start_time": "2022-11-27T08:50:54.820Z"
   },
   {
    "duration": 437,
    "start_time": "2022-11-27T08:51:11.271Z"
   },
   {
    "duration": 186,
    "start_time": "2022-11-27T08:51:18.549Z"
   },
   {
    "duration": 145,
    "start_time": "2022-11-27T08:51:48.095Z"
   },
   {
    "duration": 195,
    "start_time": "2022-11-27T08:51:54.238Z"
   },
   {
    "duration": 243,
    "start_time": "2022-11-27T08:51:58.694Z"
   },
   {
    "duration": 184,
    "start_time": "2022-11-27T08:52:23.656Z"
   },
   {
    "duration": 174,
    "start_time": "2022-11-27T08:52:25.003Z"
   },
   {
    "duration": 182,
    "start_time": "2022-11-27T08:52:26.145Z"
   },
   {
    "duration": 14,
    "start_time": "2022-11-27T08:54:46.170Z"
   },
   {
    "duration": 14,
    "start_time": "2022-11-27T08:54:53.510Z"
   },
   {
    "duration": 10,
    "start_time": "2022-11-27T08:58:22.435Z"
   },
   {
    "duration": 8,
    "start_time": "2022-11-27T08:58:28.265Z"
   },
   {
    "duration": 9,
    "start_time": "2022-11-27T08:58:43.090Z"
   },
   {
    "duration": 133,
    "start_time": "2022-11-27T08:58:54.879Z"
   },
   {
    "duration": 145,
    "start_time": "2022-11-27T08:58:56.118Z"
   },
   {
    "duration": 171,
    "start_time": "2022-11-27T08:58:56.824Z"
   },
   {
    "duration": 153,
    "start_time": "2022-11-27T08:58:58.954Z"
   },
   {
    "duration": 152,
    "start_time": "2022-11-27T08:58:59.713Z"
   },
   {
    "duration": 202,
    "start_time": "2022-11-27T08:59:00.595Z"
   },
   {
    "duration": 129,
    "start_time": "2022-11-27T08:59:03.267Z"
   },
   {
    "duration": 184,
    "start_time": "2022-11-27T08:59:03.971Z"
   },
   {
    "duration": 163,
    "start_time": "2022-11-27T08:59:04.698Z"
   },
   {
    "duration": 131,
    "start_time": "2022-11-27T08:59:07.656Z"
   },
   {
    "duration": 152,
    "start_time": "2022-11-27T08:59:08.391Z"
   },
   {
    "duration": 166,
    "start_time": "2022-11-27T08:59:09.551Z"
   },
   {
    "duration": 31,
    "start_time": "2022-11-27T09:00:32.294Z"
   },
   {
    "duration": 21,
    "start_time": "2022-11-27T09:00:47.098Z"
   },
   {
    "duration": 55,
    "start_time": "2022-11-27T09:00:59.938Z"
   },
   {
    "duration": 19,
    "start_time": "2022-11-27T09:04:11.569Z"
   },
   {
    "duration": 13448,
    "start_time": "2022-11-27T09:04:28.420Z"
   },
   {
    "duration": 62,
    "start_time": "2022-11-27T09:04:55.662Z"
   },
   {
    "duration": 14,
    "start_time": "2022-11-27T09:06:25.895Z"
   },
   {
    "duration": 17,
    "start_time": "2022-11-27T09:06:44.382Z"
   },
   {
    "duration": 17,
    "start_time": "2022-11-27T09:06:50.259Z"
   },
   {
    "duration": 83,
    "start_time": "2022-11-27T09:07:01.761Z"
   },
   {
    "duration": 19,
    "start_time": "2022-11-27T09:07:23.088Z"
   },
   {
    "duration": 135,
    "start_time": "2022-11-27T09:07:59.945Z"
   },
   {
    "duration": 158,
    "start_time": "2022-11-27T09:10:17.823Z"
   },
   {
    "duration": 185,
    "start_time": "2022-11-27T09:10:30.424Z"
   },
   {
    "duration": 170,
    "start_time": "2022-11-27T09:10:42.641Z"
   },
   {
    "duration": 227,
    "start_time": "2022-11-27T09:10:49.524Z"
   },
   {
    "duration": 174,
    "start_time": "2022-11-27T09:11:15.888Z"
   },
   {
    "duration": 174,
    "start_time": "2022-11-27T09:11:22.373Z"
   },
   {
    "duration": 8,
    "start_time": "2022-11-27T09:11:56.723Z"
   },
   {
    "duration": 38,
    "start_time": "2022-11-27T09:13:05.808Z"
   },
   {
    "duration": 58,
    "start_time": "2022-11-27T09:13:33.847Z"
   },
   {
    "duration": 778,
    "start_time": "2022-11-27T09:14:29.418Z"
   },
   {
    "duration": 22,
    "start_time": "2022-11-27T09:14:52.268Z"
   },
   {
    "duration": 29,
    "start_time": "2022-11-27T09:15:04.778Z"
   },
   {
    "duration": 25,
    "start_time": "2022-11-27T09:16:11.187Z"
   },
   {
    "duration": 30,
    "start_time": "2022-11-27T09:16:19.868Z"
   },
   {
    "duration": 30,
    "start_time": "2022-11-27T09:16:30.873Z"
   },
   {
    "duration": 7,
    "start_time": "2022-11-27T09:16:40.492Z"
   },
   {
    "duration": 7,
    "start_time": "2022-11-27T09:16:49.589Z"
   },
   {
    "duration": 8,
    "start_time": "2022-11-27T09:16:57.830Z"
   },
   {
    "duration": 23,
    "start_time": "2022-11-27T09:17:44.245Z"
   },
   {
    "duration": 7,
    "start_time": "2022-11-27T09:18:02.764Z"
   },
   {
    "duration": 1230,
    "start_time": "2022-11-27T09:19:08.342Z"
   },
   {
    "duration": 1211,
    "start_time": "2022-11-27T09:19:21.549Z"
   },
   {
    "duration": 7,
    "start_time": "2022-11-27T09:19:27.767Z"
   },
   {
    "duration": 175,
    "start_time": "2022-11-27T09:20:14.319Z"
   },
   {
    "duration": 7,
    "start_time": "2022-11-27T09:55:53.729Z"
   },
   {
    "duration": 150,
    "start_time": "2022-11-27T09:56:02.921Z"
   },
   {
    "duration": 2631,
    "start_time": "2022-11-27T09:56:03.073Z"
   },
   {
    "duration": 37,
    "start_time": "2022-11-27T09:56:05.706Z"
   },
   {
    "duration": 11,
    "start_time": "2022-11-27T09:56:05.746Z"
   },
   {
    "duration": 18,
    "start_time": "2022-11-27T09:56:05.759Z"
   },
   {
    "duration": 8,
    "start_time": "2022-11-27T09:56:05.779Z"
   },
   {
    "duration": 53,
    "start_time": "2022-11-27T09:56:05.789Z"
   },
   {
    "duration": 26,
    "start_time": "2022-11-27T09:56:05.845Z"
   },
   {
    "duration": 28,
    "start_time": "2022-11-27T09:56:05.873Z"
   },
   {
    "duration": 52,
    "start_time": "2022-11-27T09:56:05.906Z"
   },
   {
    "duration": 11,
    "start_time": "2022-11-27T09:56:05.960Z"
   },
   {
    "duration": 20,
    "start_time": "2022-11-27T09:56:05.972Z"
   },
   {
    "duration": 11,
    "start_time": "2022-11-27T09:56:05.995Z"
   },
   {
    "duration": 4,
    "start_time": "2022-11-27T09:56:06.022Z"
   },
   {
    "duration": 30,
    "start_time": "2022-11-27T09:56:06.030Z"
   },
   {
    "duration": 22,
    "start_time": "2022-11-27T09:56:06.062Z"
   },
   {
    "duration": 11,
    "start_time": "2022-11-27T09:56:06.086Z"
   },
   {
    "duration": 35,
    "start_time": "2022-11-27T09:56:06.099Z"
   },
   {
    "duration": 19,
    "start_time": "2022-11-27T09:56:06.137Z"
   },
   {
    "duration": 9,
    "start_time": "2022-11-27T09:56:06.157Z"
   },
   {
    "duration": 28,
    "start_time": "2022-11-27T09:56:06.167Z"
   },
   {
    "duration": 36,
    "start_time": "2022-11-27T09:56:06.197Z"
   },
   {
    "duration": 48,
    "start_time": "2022-11-27T09:56:06.235Z"
   },
   {
    "duration": 12,
    "start_time": "2022-11-27T09:56:06.285Z"
   },
   {
    "duration": 6,
    "start_time": "2022-11-27T09:56:06.299Z"
   },
   {
    "duration": 21,
    "start_time": "2022-11-27T09:56:06.307Z"
   },
   {
    "duration": 19,
    "start_time": "2022-11-27T09:56:06.330Z"
   },
   {
    "duration": 8,
    "start_time": "2022-11-27T09:56:06.352Z"
   },
   {
    "duration": 8,
    "start_time": "2022-11-27T09:56:06.362Z"
   },
   {
    "duration": 8,
    "start_time": "2022-11-27T09:56:06.372Z"
   },
   {
    "duration": 8,
    "start_time": "2022-11-27T09:56:06.382Z"
   },
   {
    "duration": 59,
    "start_time": "2022-11-27T09:56:06.392Z"
   },
   {
    "duration": 15,
    "start_time": "2022-11-27T09:56:06.453Z"
   },
   {
    "duration": 16,
    "start_time": "2022-11-27T09:56:06.470Z"
   },
   {
    "duration": 5,
    "start_time": "2022-11-27T09:56:06.488Z"
   },
   {
    "duration": 47,
    "start_time": "2022-11-27T09:56:06.495Z"
   },
   {
    "duration": 94,
    "start_time": "2022-11-27T09:56:06.545Z"
   },
   {
    "duration": 48,
    "start_time": "2022-11-27T09:56:06.641Z"
   },
   {
    "duration": 83,
    "start_time": "2022-11-27T09:56:06.691Z"
   },
   {
    "duration": 6,
    "start_time": "2022-11-27T09:56:06.776Z"
   },
   {
    "duration": 63,
    "start_time": "2022-11-27T09:56:06.787Z"
   },
   {
    "duration": 8,
    "start_time": "2022-11-27T09:56:06.852Z"
   },
   {
    "duration": 8,
    "start_time": "2022-11-27T09:56:06.861Z"
   },
   {
    "duration": 10,
    "start_time": "2022-11-27T09:56:06.870Z"
   },
   {
    "duration": 11,
    "start_time": "2022-11-27T09:56:06.882Z"
   },
   {
    "duration": 329,
    "start_time": "2022-11-27T09:56:06.894Z"
   },
   {
    "duration": 7,
    "start_time": "2022-11-27T09:56:07.226Z"
   },
   {
    "duration": 76,
    "start_time": "2022-11-27T09:56:07.235Z"
   },
   {
    "duration": 25,
    "start_time": "2022-11-27T09:56:07.312Z"
   },
   {
    "duration": 136,
    "start_time": "2022-11-27T09:56:07.340Z"
   },
   {
    "duration": 279,
    "start_time": "2022-11-27T09:56:07.478Z"
   },
   {
    "duration": 10,
    "start_time": "2022-11-27T09:56:07.759Z"
   },
   {
    "duration": 176,
    "start_time": "2022-11-27T09:56:07.771Z"
   },
   {
    "duration": 209,
    "start_time": "2022-11-27T09:56:07.949Z"
   },
   {
    "duration": 11,
    "start_time": "2022-11-27T09:56:08.160Z"
   },
   {
    "duration": 154,
    "start_time": "2022-11-27T09:56:08.173Z"
   },
   {
    "duration": 207,
    "start_time": "2022-11-27T09:56:08.329Z"
   },
   {
    "duration": 8,
    "start_time": "2022-11-27T09:56:08.539Z"
   },
   {
    "duration": 12,
    "start_time": "2022-11-27T09:56:08.549Z"
   },
   {
    "duration": 139,
    "start_time": "2022-11-27T09:56:08.562Z"
   },
   {
    "duration": 278,
    "start_time": "2022-11-27T09:56:08.702Z"
   },
   {
    "duration": 11,
    "start_time": "2022-11-27T09:56:08.982Z"
   },
   {
    "duration": 176,
    "start_time": "2022-11-27T09:56:08.995Z"
   },
   {
    "duration": 221,
    "start_time": "2022-11-27T09:56:09.172Z"
   },
   {
    "duration": 9,
    "start_time": "2022-11-27T09:56:09.395Z"
   },
   {
    "duration": 154,
    "start_time": "2022-11-27T09:56:09.406Z"
   },
   {
    "duration": 209,
    "start_time": "2022-11-27T09:56:09.562Z"
   },
   {
    "duration": 11,
    "start_time": "2022-11-27T09:56:09.773Z"
   },
   {
    "duration": 171,
    "start_time": "2022-11-27T09:56:09.785Z"
   },
   {
    "duration": 204,
    "start_time": "2022-11-27T09:56:09.957Z"
   },
   {
    "duration": 9,
    "start_time": "2022-11-27T09:56:10.163Z"
   },
   {
    "duration": 206,
    "start_time": "2022-11-27T09:56:10.173Z"
   },
   {
    "duration": 9,
    "start_time": "2022-11-27T09:56:10.380Z"
   },
   {
    "duration": 170,
    "start_time": "2022-11-27T09:56:10.391Z"
   },
   {
    "duration": 190,
    "start_time": "2022-11-27T09:56:10.563Z"
   },
   {
    "duration": 11,
    "start_time": "2022-11-27T09:56:10.756Z"
   },
   {
    "duration": 155,
    "start_time": "2022-11-27T09:56:10.769Z"
   },
   {
    "duration": 206,
    "start_time": "2022-11-27T09:56:10.925Z"
   },
   {
    "duration": 19,
    "start_time": "2022-11-27T09:56:11.132Z"
   },
   {
    "duration": 132,
    "start_time": "2022-11-27T09:56:11.153Z"
   },
   {
    "duration": 196,
    "start_time": "2022-11-27T09:56:11.288Z"
   },
   {
    "duration": 11,
    "start_time": "2022-11-27T09:56:11.487Z"
   },
   {
    "duration": 185,
    "start_time": "2022-11-27T09:56:11.500Z"
   },
   {
    "duration": 217,
    "start_time": "2022-11-27T09:56:11.688Z"
   },
   {
    "duration": 21,
    "start_time": "2022-11-27T09:56:11.906Z"
   },
   {
    "duration": 222,
    "start_time": "2022-11-27T09:56:11.929Z"
   },
   {
    "duration": 9,
    "start_time": "2022-11-27T09:56:12.153Z"
   },
   {
    "duration": 608,
    "start_time": "2022-11-27T09:56:12.164Z"
   },
   {
    "duration": 8,
    "start_time": "2022-11-27T09:56:12.774Z"
   },
   {
    "duration": 13,
    "start_time": "2022-11-27T09:56:12.784Z"
   },
   {
    "duration": 32,
    "start_time": "2022-11-27T09:56:12.798Z"
   },
   {
    "duration": 15,
    "start_time": "2022-11-27T09:56:12.832Z"
   },
   {
    "duration": 10,
    "start_time": "2022-11-27T09:56:12.849Z"
   },
   {
    "duration": 235,
    "start_time": "2022-11-27T09:56:12.861Z"
   },
   {
    "duration": 229,
    "start_time": "2022-11-27T09:56:13.098Z"
   },
   {
    "duration": 258,
    "start_time": "2022-11-27T09:56:13.329Z"
   },
   {
    "duration": 172,
    "start_time": "2022-11-27T09:56:13.589Z"
   },
   {
    "duration": 189,
    "start_time": "2022-11-27T09:56:13.764Z"
   },
   {
    "duration": 224,
    "start_time": "2022-11-27T09:56:13.955Z"
   },
   {
    "duration": 215,
    "start_time": "2022-11-27T09:56:14.181Z"
   },
   {
    "duration": 217,
    "start_time": "2022-11-27T09:56:14.399Z"
   },
   {
    "duration": 218,
    "start_time": "2022-11-27T09:56:14.618Z"
   },
   {
    "duration": 167,
    "start_time": "2022-11-27T09:56:14.838Z"
   },
   {
    "duration": 202,
    "start_time": "2022-11-27T09:56:15.007Z"
   },
   {
    "duration": 189,
    "start_time": "2022-11-27T09:56:15.211Z"
   },
   {
    "duration": 179,
    "start_time": "2022-11-27T09:56:15.401Z"
   },
   {
    "duration": 193,
    "start_time": "2022-11-27T09:56:15.582Z"
   },
   {
    "duration": 216,
    "start_time": "2022-11-27T09:56:15.776Z"
   },
   {
    "duration": 14,
    "start_time": "2022-11-27T09:56:15.994Z"
   },
   {
    "duration": 164,
    "start_time": "2022-11-27T09:56:16.021Z"
   },
   {
    "duration": 229,
    "start_time": "2022-11-27T09:56:16.187Z"
   },
   {
    "duration": 231,
    "start_time": "2022-11-27T09:56:16.417Z"
   },
   {
    "duration": 229,
    "start_time": "2022-11-27T09:56:16.650Z"
   },
   {
    "duration": 271,
    "start_time": "2022-11-27T09:56:16.880Z"
   },
   {
    "duration": 208,
    "start_time": "2022-11-27T09:56:17.153Z"
   },
   {
    "duration": 215,
    "start_time": "2022-11-27T09:56:17.363Z"
   },
   {
    "duration": 8,
    "start_time": "2022-11-27T09:56:17.580Z"
   },
   {
    "duration": 56,
    "start_time": "2022-11-27T09:56:17.590Z"
   },
   {
    "duration": 13,
    "start_time": "2022-11-27T09:56:17.648Z"
   },
   {
    "duration": 13,
    "start_time": "2022-11-27T09:56:17.663Z"
   },
   {
    "duration": 223,
    "start_time": "2022-11-27T09:56:17.678Z"
   },
   {
    "duration": 1302,
    "start_time": "2022-11-27T10:22:28.236Z"
   },
   {
    "duration": 2358,
    "start_time": "2022-11-27T10:22:42.525Z"
   },
   {
    "duration": 23,
    "start_time": "2022-11-27T10:23:01.271Z"
   },
   {
    "duration": 9,
    "start_time": "2022-11-27T10:23:04.790Z"
   },
   {
    "duration": 19,
    "start_time": "2022-11-27T10:23:30.475Z"
   },
   {
    "duration": 9,
    "start_time": "2022-11-27T10:23:31.656Z"
   },
   {
    "duration": 11,
    "start_time": "2022-11-27T10:23:34.690Z"
   },
   {
    "duration": 5,
    "start_time": "2022-11-27T10:23:35.603Z"
   },
   {
    "duration": 10,
    "start_time": "2022-11-27T10:23:37.038Z"
   },
   {
    "duration": 44,
    "start_time": "2022-11-27T10:23:39.293Z"
   },
   {
    "duration": 9,
    "start_time": "2022-11-27T10:23:40.204Z"
   },
   {
    "duration": 9,
    "start_time": "2022-11-27T10:23:45.178Z"
   },
   {
    "duration": 8,
    "start_time": "2022-11-27T10:23:46.215Z"
   },
   {
    "duration": 4,
    "start_time": "2022-11-27T10:23:49.797Z"
   },
   {
    "duration": 7,
    "start_time": "2022-11-27T10:23:52.255Z"
   },
   {
    "duration": 19,
    "start_time": "2022-11-27T10:23:53.202Z"
   },
   {
    "duration": 10,
    "start_time": "2022-11-27T10:23:55.054Z"
   },
   {
    "duration": 11,
    "start_time": "2022-11-27T10:23:58.801Z"
   },
   {
    "duration": 7,
    "start_time": "2022-11-27T10:23:59.732Z"
   },
   {
    "duration": 5,
    "start_time": "2022-11-27T10:24:00.680Z"
   },
   {
    "duration": 12,
    "start_time": "2022-11-27T10:24:01.692Z"
   },
   {
    "duration": 25,
    "start_time": "2022-11-27T10:24:02.694Z"
   },
   {
    "duration": 36,
    "start_time": "2022-11-27T10:24:03.804Z"
   },
   {
    "duration": 9,
    "start_time": "2022-11-27T10:24:05.089Z"
   },
   {
    "duration": 4,
    "start_time": "2022-11-27T10:24:11.521Z"
   },
   {
    "duration": 4,
    "start_time": "2022-11-27T10:24:13.061Z"
   },
   {
    "duration": 5,
    "start_time": "2022-11-27T10:24:16.201Z"
   },
   {
    "duration": 3,
    "start_time": "2022-11-27T10:24:17.362Z"
   },
   {
    "duration": 5,
    "start_time": "2022-11-27T10:24:18.761Z"
   },
   {
    "duration": 4,
    "start_time": "2022-11-27T10:24:20.137Z"
   },
   {
    "duration": 4,
    "start_time": "2022-11-27T10:24:22.388Z"
   },
   {
    "duration": 51,
    "start_time": "2022-11-27T10:24:24.253Z"
   },
   {
    "duration": 17,
    "start_time": "2022-11-27T10:24:26.319Z"
   },
   {
    "duration": 20,
    "start_time": "2022-11-27T10:24:27.117Z"
   },
   {
    "duration": 6,
    "start_time": "2022-11-27T10:24:37.849Z"
   },
   {
    "duration": 5,
    "start_time": "2022-11-27T10:24:38.611Z"
   },
   {
    "duration": 91,
    "start_time": "2022-11-27T10:24:39.796Z"
   },
   {
    "duration": 41,
    "start_time": "2022-11-27T10:24:40.457Z"
   },
   {
    "duration": 69,
    "start_time": "2022-11-27T10:24:41.779Z"
   },
   {
    "duration": 8,
    "start_time": "2022-11-27T10:24:42.729Z"
   },
   {
    "duration": 51,
    "start_time": "2022-11-27T10:24:43.175Z"
   },
   {
    "duration": 10,
    "start_time": "2022-11-27T10:24:44.989Z"
   },
   {
    "duration": 4,
    "start_time": "2022-11-27T10:24:46.484Z"
   },
   {
    "duration": 5,
    "start_time": "2022-11-27T10:24:47.118Z"
   },
   {
    "duration": 3,
    "start_time": "2022-11-27T10:24:48.039Z"
   },
   {
    "duration": 270,
    "start_time": "2022-11-27T10:24:48.710Z"
   },
   {
    "duration": 5,
    "start_time": "2022-11-27T10:24:49.784Z"
   },
   {
    "duration": 68,
    "start_time": "2022-11-27T10:24:50.285Z"
   },
   {
    "duration": 12,
    "start_time": "2022-11-27T10:24:54.609Z"
   },
   {
    "duration": 121,
    "start_time": "2022-11-27T10:24:55.126Z"
   },
   {
    "duration": 365,
    "start_time": "2022-11-27T10:24:55.645Z"
   },
   {
    "duration": 9,
    "start_time": "2022-11-27T10:24:57.447Z"
   },
   {
    "duration": 132,
    "start_time": "2022-11-27T10:24:57.887Z"
   },
   {
    "duration": 177,
    "start_time": "2022-11-27T10:24:58.405Z"
   },
   {
    "duration": 11,
    "start_time": "2022-11-27T10:25:00.079Z"
   },
   {
    "duration": 160,
    "start_time": "2022-11-27T10:25:00.650Z"
   },
   {
    "duration": 222,
    "start_time": "2022-11-27T10:25:01.291Z"
   },
   {
    "duration": 4,
    "start_time": "2022-11-27T10:25:03.064Z"
   },
   {
    "duration": 13,
    "start_time": "2022-11-27T10:25:03.537Z"
   },
   {
    "duration": 132,
    "start_time": "2022-11-27T10:25:04.075Z"
   },
   {
    "duration": 225,
    "start_time": "2022-11-27T10:25:04.576Z"
   },
   {
    "duration": 9,
    "start_time": "2022-11-27T10:25:08.715Z"
   },
   {
    "duration": 136,
    "start_time": "2022-11-27T10:25:09.551Z"
   },
   {
    "duration": 203,
    "start_time": "2022-11-27T10:25:10.284Z"
   },
   {
    "duration": 10,
    "start_time": "2022-11-27T10:25:12.565Z"
   },
   {
    "duration": 123,
    "start_time": "2022-11-27T10:25:13.144Z"
   },
   {
    "duration": 278,
    "start_time": "2022-11-27T10:25:13.781Z"
   },
   {
    "duration": 12,
    "start_time": "2022-11-27T10:25:21.328Z"
   },
   {
    "duration": 116,
    "start_time": "2022-11-27T10:25:22.465Z"
   },
   {
    "duration": 190,
    "start_time": "2022-11-27T10:25:23.057Z"
   },
   {
    "duration": 9,
    "start_time": "2022-11-27T10:25:25.154Z"
   },
   {
    "duration": 227,
    "start_time": "2022-11-27T10:25:25.765Z"
   },
   {
    "duration": 11,
    "start_time": "2022-11-27T10:25:27.993Z"
   },
   {
    "duration": 119,
    "start_time": "2022-11-27T10:25:29.104Z"
   },
   {
    "duration": 180,
    "start_time": "2022-11-27T10:25:30.047Z"
   },
   {
    "duration": 10,
    "start_time": "2022-11-27T10:25:32.671Z"
   },
   {
    "duration": 123,
    "start_time": "2022-11-27T10:25:33.261Z"
   },
   {
    "duration": 276,
    "start_time": "2022-11-27T10:25:34.027Z"
   },
   {
    "duration": 14,
    "start_time": "2022-11-27T10:25:35.877Z"
   },
   {
    "duration": 176,
    "start_time": "2022-11-27T10:25:36.436Z"
   },
   {
    "duration": 163,
    "start_time": "2022-11-27T10:25:36.967Z"
   },
   {
    "duration": 9,
    "start_time": "2022-11-27T10:25:43.446Z"
   },
   {
    "duration": 153,
    "start_time": "2022-11-27T10:25:44.257Z"
   },
   {
    "duration": 295,
    "start_time": "2022-11-27T10:25:45.184Z"
   },
   {
    "duration": 10,
    "start_time": "2022-11-27T10:25:47.742Z"
   },
   {
    "duration": 181,
    "start_time": "2022-11-27T10:25:48.610Z"
   },
   {
    "duration": 11,
    "start_time": "2022-11-27T10:25:54.468Z"
   },
   {
    "duration": 211,
    "start_time": "2022-11-27T10:25:55.187Z"
   },
   {
    "duration": 11,
    "start_time": "2022-11-27T10:26:04.474Z"
   },
   {
    "duration": 10,
    "start_time": "2022-11-27T10:26:05.078Z"
   },
   {
    "duration": 16,
    "start_time": "2022-11-27T10:26:05.822Z"
   },
   {
    "duration": 10,
    "start_time": "2022-11-27T10:26:06.408Z"
   },
   {
    "duration": 11,
    "start_time": "2022-11-27T10:26:07.030Z"
   },
   {
    "duration": 190,
    "start_time": "2022-11-27T10:26:07.543Z"
   },
   {
    "duration": 182,
    "start_time": "2022-11-27T10:26:08.078Z"
   },
   {
    "duration": 205,
    "start_time": "2022-11-27T10:26:09.404Z"
   },
   {
    "duration": 149,
    "start_time": "2022-11-27T10:26:11.918Z"
   },
   {
    "duration": 143,
    "start_time": "2022-11-27T10:26:12.640Z"
   },
   {
    "duration": 188,
    "start_time": "2022-11-27T10:26:13.247Z"
   },
   {
    "duration": 166,
    "start_time": "2022-11-27T10:26:15.130Z"
   },
   {
    "duration": 179,
    "start_time": "2022-11-27T10:26:15.767Z"
   },
   {
    "duration": 210,
    "start_time": "2022-11-27T10:26:16.328Z"
   },
   {
    "duration": 186,
    "start_time": "2022-11-27T10:26:18.126Z"
   },
   {
    "duration": 182,
    "start_time": "2022-11-27T10:26:18.756Z"
   },
   {
    "duration": 304,
    "start_time": "2022-11-27T10:26:19.361Z"
   },
   {
    "duration": 188,
    "start_time": "2022-11-27T10:26:21.887Z"
   },
   {
    "duration": 170,
    "start_time": "2022-11-27T10:26:22.554Z"
   },
   {
    "duration": 180,
    "start_time": "2022-11-27T10:26:23.303Z"
   },
   {
    "duration": 14,
    "start_time": "2022-11-27T10:26:26.659Z"
   },
   {
    "duration": 134,
    "start_time": "2022-11-27T10:26:27.604Z"
   },
   {
    "duration": 190,
    "start_time": "2022-11-27T10:26:32.597Z"
   },
   {
    "duration": 193,
    "start_time": "2022-11-27T10:26:33.159Z"
   },
   {
    "duration": 202,
    "start_time": "2022-11-27T10:26:35.320Z"
   },
   {
    "duration": 234,
    "start_time": "2022-11-27T10:26:36.074Z"
   },
   {
    "duration": 179,
    "start_time": "2022-11-27T10:26:38.625Z"
   },
   {
    "duration": 185,
    "start_time": "2022-11-27T10:26:40.243Z"
   },
   {
    "duration": 8,
    "start_time": "2022-11-27T10:26:43.214Z"
   },
   {
    "duration": 37,
    "start_time": "2022-11-27T10:26:45.081Z"
   },
   {
    "duration": 11,
    "start_time": "2022-11-27T10:26:46.051Z"
   },
   {
    "duration": 9,
    "start_time": "2022-11-27T10:26:46.818Z"
   },
   {
    "duration": 175,
    "start_time": "2022-11-27T10:26:57.681Z"
   },
   {
    "duration": 1318,
    "start_time": "2022-11-27T18:20:57.461Z"
   },
   {
    "duration": 2062,
    "start_time": "2022-11-27T18:20:58.781Z"
   },
   {
    "duration": 17,
    "start_time": "2022-11-27T18:21:00.845Z"
   },
   {
    "duration": 19,
    "start_time": "2022-11-27T18:21:00.863Z"
   },
   {
    "duration": 25,
    "start_time": "2022-11-27T18:21:00.884Z"
   },
   {
    "duration": 25,
    "start_time": "2022-11-27T18:21:00.911Z"
   },
   {
    "duration": 29,
    "start_time": "2022-11-27T18:21:00.938Z"
   },
   {
    "duration": 7,
    "start_time": "2022-11-27T18:21:00.969Z"
   },
   {
    "duration": 22,
    "start_time": "2022-11-27T18:21:00.979Z"
   },
   {
    "duration": 42,
    "start_time": "2022-11-27T18:21:01.002Z"
   },
   {
    "duration": 8,
    "start_time": "2022-11-27T18:21:01.045Z"
   },
   {
    "duration": 11,
    "start_time": "2022-11-27T18:21:01.055Z"
   },
   {
    "duration": 7,
    "start_time": "2022-11-27T18:21:01.068Z"
   },
   {
    "duration": 16,
    "start_time": "2022-11-27T18:21:01.077Z"
   },
   {
    "duration": 8,
    "start_time": "2022-11-27T18:21:01.095Z"
   },
   {
    "duration": 17,
    "start_time": "2022-11-27T18:21:01.104Z"
   },
   {
    "duration": 8,
    "start_time": "2022-11-27T18:21:01.138Z"
   },
   {
    "duration": 10,
    "start_time": "2022-11-27T18:21:01.147Z"
   },
   {
    "duration": 6,
    "start_time": "2022-11-27T18:21:01.159Z"
   },
   {
    "duration": 4,
    "start_time": "2022-11-27T18:21:01.167Z"
   },
   {
    "duration": 17,
    "start_time": "2022-11-27T18:21:01.173Z"
   },
   {
    "duration": 49,
    "start_time": "2022-11-27T18:21:01.191Z"
   },
   {
    "duration": 29,
    "start_time": "2022-11-27T18:21:01.242Z"
   },
   {
    "duration": 8,
    "start_time": "2022-11-27T18:21:01.273Z"
   },
   {
    "duration": 10,
    "start_time": "2022-11-27T18:21:01.282Z"
   },
   {
    "duration": 5,
    "start_time": "2022-11-27T18:21:01.294Z"
   },
   {
    "duration": 6,
    "start_time": "2022-11-27T18:21:01.300Z"
   },
   {
    "duration": 7,
    "start_time": "2022-11-27T18:21:01.308Z"
   },
   {
    "duration": 27,
    "start_time": "2022-11-27T18:21:01.317Z"
   },
   {
    "duration": 6,
    "start_time": "2022-11-27T18:21:01.345Z"
   },
   {
    "duration": 6,
    "start_time": "2022-11-27T18:21:01.353Z"
   },
   {
    "duration": 38,
    "start_time": "2022-11-27T18:21:01.361Z"
   },
   {
    "duration": 13,
    "start_time": "2022-11-27T18:21:01.401Z"
   },
   {
    "duration": 31,
    "start_time": "2022-11-27T18:21:01.416Z"
   },
   {
    "duration": 3,
    "start_time": "2022-11-27T18:21:01.449Z"
   },
   {
    "duration": 11,
    "start_time": "2022-11-27T18:21:01.454Z"
   },
   {
    "duration": 72,
    "start_time": "2022-11-27T18:21:01.466Z"
   },
   {
    "duration": 42,
    "start_time": "2022-11-27T18:21:01.540Z"
   },
   {
    "duration": 81,
    "start_time": "2022-11-27T18:21:01.584Z"
   },
   {
    "duration": 5,
    "start_time": "2022-11-27T18:21:01.667Z"
   },
   {
    "duration": 39,
    "start_time": "2022-11-27T18:21:01.677Z"
   },
   {
    "duration": 23,
    "start_time": "2022-11-27T18:21:01.718Z"
   },
   {
    "duration": 5,
    "start_time": "2022-11-27T18:21:01.742Z"
   },
   {
    "duration": 10,
    "start_time": "2022-11-27T18:21:01.748Z"
   },
   {
    "duration": 17,
    "start_time": "2022-11-27T18:21:01.760Z"
   },
   {
    "duration": 277,
    "start_time": "2022-11-27T18:21:01.779Z"
   },
   {
    "duration": 4,
    "start_time": "2022-11-27T18:21:02.058Z"
   },
   {
    "duration": 88,
    "start_time": "2022-11-27T18:21:02.064Z"
   },
   {
    "duration": 11,
    "start_time": "2022-11-27T18:21:02.154Z"
   },
   {
    "duration": 148,
    "start_time": "2022-11-27T18:21:02.166Z"
   },
   {
    "duration": 338,
    "start_time": "2022-11-27T18:21:02.315Z"
   },
   {
    "duration": 10,
    "start_time": "2022-11-27T18:21:02.655Z"
   },
   {
    "duration": 138,
    "start_time": "2022-11-27T18:21:02.667Z"
   },
   {
    "duration": 193,
    "start_time": "2022-11-27T18:21:02.806Z"
   },
   {
    "duration": 9,
    "start_time": "2022-11-27T18:21:03.000Z"
   },
   {
    "duration": 131,
    "start_time": "2022-11-27T18:21:03.011Z"
   },
   {
    "duration": 171,
    "start_time": "2022-11-27T18:21:03.144Z"
   },
   {
    "duration": 5,
    "start_time": "2022-11-27T18:21:03.317Z"
   },
   {
    "duration": 19,
    "start_time": "2022-11-27T18:21:03.324Z"
   },
   {
    "duration": 121,
    "start_time": "2022-11-27T18:21:03.345Z"
   },
   {
    "duration": 294,
    "start_time": "2022-11-27T18:21:03.468Z"
   },
   {
    "duration": 12,
    "start_time": "2022-11-27T18:21:03.764Z"
   },
   {
    "duration": 179,
    "start_time": "2022-11-27T18:21:03.779Z"
   },
   {
    "duration": 206,
    "start_time": "2022-11-27T18:21:03.959Z"
   },
   {
    "duration": 10,
    "start_time": "2022-11-27T18:21:04.167Z"
   },
   {
    "duration": 127,
    "start_time": "2022-11-27T18:21:04.179Z"
   },
   {
    "duration": 236,
    "start_time": "2022-11-27T18:21:04.307Z"
   },
   {
    "duration": 8,
    "start_time": "2022-11-27T18:21:04.545Z"
   },
   {
    "duration": 134,
    "start_time": "2022-11-27T18:21:04.555Z"
   },
   {
    "duration": 168,
    "start_time": "2022-11-27T18:21:04.691Z"
   },
   {
    "duration": 10,
    "start_time": "2022-11-27T18:21:04.861Z"
   },
   {
    "duration": 181,
    "start_time": "2022-11-27T18:21:04.873Z"
   },
   {
    "duration": 9,
    "start_time": "2022-11-27T18:21:05.056Z"
   },
   {
    "duration": 131,
    "start_time": "2022-11-27T18:21:05.066Z"
   },
   {
    "duration": 186,
    "start_time": "2022-11-27T18:21:05.199Z"
   },
   {
    "duration": 8,
    "start_time": "2022-11-27T18:21:05.387Z"
   },
   {
    "duration": 127,
    "start_time": "2022-11-27T18:21:05.397Z"
   },
   {
    "duration": 182,
    "start_time": "2022-11-27T18:21:05.526Z"
   },
   {
    "duration": 9,
    "start_time": "2022-11-27T18:21:05.709Z"
   },
   {
    "duration": 149,
    "start_time": "2022-11-27T18:21:05.720Z"
   },
   {
    "duration": 168,
    "start_time": "2022-11-27T18:21:05.871Z"
   },
   {
    "duration": 9,
    "start_time": "2022-11-27T18:21:06.041Z"
   },
   {
    "duration": 140,
    "start_time": "2022-11-27T18:21:06.052Z"
   },
   {
    "duration": 194,
    "start_time": "2022-11-27T18:21:06.194Z"
   },
   {
    "duration": 10,
    "start_time": "2022-11-27T18:21:06.390Z"
   },
   {
    "duration": 298,
    "start_time": "2022-11-27T18:21:06.401Z"
   },
   {
    "duration": 9,
    "start_time": "2022-11-27T18:21:06.701Z"
   },
   {
    "duration": 199,
    "start_time": "2022-11-27T18:21:06.712Z"
   },
   {
    "duration": 8,
    "start_time": "2022-11-27T18:21:06.912Z"
   },
   {
    "duration": 17,
    "start_time": "2022-11-27T18:21:06.922Z"
   },
   {
    "duration": 8,
    "start_time": "2022-11-27T18:21:06.940Z"
   },
   {
    "duration": 21,
    "start_time": "2022-11-27T18:21:06.949Z"
   },
   {
    "duration": 14,
    "start_time": "2022-11-27T18:21:06.972Z"
   },
   {
    "duration": 223,
    "start_time": "2022-11-27T18:21:06.987Z"
   },
   {
    "duration": 180,
    "start_time": "2022-11-27T18:21:07.212Z"
   },
   {
    "duration": 201,
    "start_time": "2022-11-27T18:21:07.393Z"
   },
   {
    "duration": 137,
    "start_time": "2022-11-27T18:21:07.596Z"
   },
   {
    "duration": 151,
    "start_time": "2022-11-27T18:21:07.734Z"
   },
   {
    "duration": 185,
    "start_time": "2022-11-27T18:21:07.886Z"
   },
   {
    "duration": 156,
    "start_time": "2022-11-27T18:21:08.072Z"
   },
   {
    "duration": 156,
    "start_time": "2022-11-27T18:21:08.230Z"
   },
   {
    "duration": 191,
    "start_time": "2022-11-27T18:21:08.388Z"
   },
   {
    "duration": 141,
    "start_time": "2022-11-27T18:21:08.581Z"
   },
   {
    "duration": 183,
    "start_time": "2022-11-27T18:21:08.723Z"
   },
   {
    "duration": 207,
    "start_time": "2022-11-27T18:21:08.909Z"
   },
   {
    "duration": 148,
    "start_time": "2022-11-27T18:21:09.118Z"
   },
   {
    "duration": 279,
    "start_time": "2022-11-27T18:21:09.267Z"
   },
   {
    "duration": 190,
    "start_time": "2022-11-27T18:21:09.549Z"
   },
   {
    "duration": 14,
    "start_time": "2022-11-27T18:21:09.740Z"
   },
   {
    "duration": 144,
    "start_time": "2022-11-27T18:21:09.755Z"
   },
   {
    "duration": 146,
    "start_time": "2022-11-27T18:21:09.901Z"
   },
   {
    "duration": 188,
    "start_time": "2022-11-27T18:21:10.049Z"
   },
   {
    "duration": 194,
    "start_time": "2022-11-27T18:21:10.240Z"
   },
   {
    "duration": 230,
    "start_time": "2022-11-27T18:21:10.436Z"
   },
   {
    "duration": 175,
    "start_time": "2022-11-27T18:21:10.668Z"
   },
   {
    "duration": 189,
    "start_time": "2022-11-27T18:21:10.845Z"
   },
   {
    "duration": 8,
    "start_time": "2022-11-27T18:21:11.037Z"
   },
   {
    "duration": 27,
    "start_time": "2022-11-27T18:21:11.046Z"
   },
   {
    "duration": 7,
    "start_time": "2022-11-27T18:21:11.074Z"
   },
   {
    "duration": 8,
    "start_time": "2022-11-27T18:21:11.082Z"
   },
   {
    "duration": 187,
    "start_time": "2022-11-27T18:21:11.091Z"
   },
   {
    "duration": 23,
    "start_time": "2022-11-27T18:24:08.348Z"
   },
   {
    "duration": 78,
    "start_time": "2022-11-27T18:24:12.244Z"
   },
   {
    "duration": 1337,
    "start_time": "2022-11-27T18:24:25.827Z"
   },
   {
    "duration": 2099,
    "start_time": "2022-11-27T18:24:27.166Z"
   },
   {
    "duration": 17,
    "start_time": "2022-11-27T18:24:29.266Z"
   },
   {
    "duration": 9,
    "start_time": "2022-11-27T18:24:29.285Z"
   },
   {
    "duration": 12,
    "start_time": "2022-11-27T18:24:29.296Z"
   },
   {
    "duration": 32,
    "start_time": "2022-11-27T18:24:29.310Z"
   },
   {
    "duration": 10,
    "start_time": "2022-11-27T18:24:29.344Z"
   },
   {
    "duration": 5,
    "start_time": "2022-11-27T18:24:29.355Z"
   },
   {
    "duration": 9,
    "start_time": "2022-11-27T18:24:29.362Z"
   },
   {
    "duration": 68,
    "start_time": "2022-11-27T18:24:29.374Z"
   },
   {
    "duration": 9,
    "start_time": "2022-11-27T18:24:29.444Z"
   },
   {
    "duration": 9,
    "start_time": "2022-11-27T18:24:29.454Z"
   },
   {
    "duration": 10,
    "start_time": "2022-11-27T18:24:29.465Z"
   },
   {
    "duration": 3,
    "start_time": "2022-11-27T18:24:29.477Z"
   },
   {
    "duration": 10,
    "start_time": "2022-11-27T18:24:29.482Z"
   },
   {
    "duration": 44,
    "start_time": "2022-11-27T18:24:29.493Z"
   },
   {
    "duration": 8,
    "start_time": "2022-11-27T18:24:29.540Z"
   },
   {
    "duration": 10,
    "start_time": "2022-11-27T18:24:29.550Z"
   },
   {
    "duration": 9,
    "start_time": "2022-11-27T18:24:29.561Z"
   },
   {
    "duration": 5,
    "start_time": "2022-11-27T18:24:29.572Z"
   },
   {
    "duration": 23,
    "start_time": "2022-11-27T18:24:29.579Z"
   },
   {
    "duration": 57,
    "start_time": "2022-11-27T18:24:29.604Z"
   },
   {
    "duration": 31,
    "start_time": "2022-11-27T18:24:29.662Z"
   },
   {
    "duration": 7,
    "start_time": "2022-11-27T18:24:29.695Z"
   },
   {
    "duration": 7,
    "start_time": "2022-11-27T18:24:29.704Z"
   },
   {
    "duration": 26,
    "start_time": "2022-11-27T18:24:29.712Z"
   },
   {
    "duration": 7,
    "start_time": "2022-11-27T18:24:29.739Z"
   },
   {
    "duration": 9,
    "start_time": "2022-11-27T18:24:29.750Z"
   },
   {
    "duration": 7,
    "start_time": "2022-11-27T18:24:29.761Z"
   },
   {
    "duration": 9,
    "start_time": "2022-11-27T18:24:29.770Z"
   },
   {
    "duration": 13,
    "start_time": "2022-11-27T18:24:29.781Z"
   },
   {
    "duration": 41,
    "start_time": "2022-11-27T18:24:29.796Z"
   },
   {
    "duration": 14,
    "start_time": "2022-11-27T18:24:29.839Z"
   },
   {
    "duration": 17,
    "start_time": "2022-11-27T18:24:29.855Z"
   },
   {
    "duration": 85,
    "start_time": "2022-11-27T18:24:29.874Z"
   },
   {
    "duration": 4,
    "start_time": "2022-11-27T18:24:29.961Z"
   },
   {
    "duration": 7,
    "start_time": "2022-11-27T18:24:29.966Z"
   },
   {
    "duration": 79,
    "start_time": "2022-11-27T18:24:29.974Z"
   },
   {
    "duration": 40,
    "start_time": "2022-11-27T18:24:30.055Z"
   },
   {
    "duration": 74,
    "start_time": "2022-11-27T18:24:30.097Z"
   },
   {
    "duration": 5,
    "start_time": "2022-11-27T18:24:30.173Z"
   },
   {
    "duration": 75,
    "start_time": "2022-11-27T18:24:30.179Z"
   },
   {
    "duration": 7,
    "start_time": "2022-11-27T18:24:30.255Z"
   },
   {
    "duration": 31,
    "start_time": "2022-11-27T18:24:30.263Z"
   },
   {
    "duration": 14,
    "start_time": "2022-11-27T18:24:30.296Z"
   },
   {
    "duration": 28,
    "start_time": "2022-11-27T18:24:30.312Z"
   },
   {
    "duration": 292,
    "start_time": "2022-11-27T18:24:30.342Z"
   },
   {
    "duration": 4,
    "start_time": "2022-11-27T18:24:30.638Z"
   },
   {
    "duration": 97,
    "start_time": "2022-11-27T18:24:30.644Z"
   },
   {
    "duration": 22,
    "start_time": "2022-11-27T18:24:30.742Z"
   },
   {
    "duration": 114,
    "start_time": "2022-11-27T18:24:30.766Z"
   },
   {
    "duration": 348,
    "start_time": "2022-11-27T18:24:30.882Z"
   },
   {
    "duration": 15,
    "start_time": "2022-11-27T18:24:31.231Z"
   },
   {
    "duration": 140,
    "start_time": "2022-11-27T18:24:31.247Z"
   },
   {
    "duration": 187,
    "start_time": "2022-11-27T18:24:31.389Z"
   },
   {
    "duration": 11,
    "start_time": "2022-11-27T18:24:31.578Z"
   },
   {
    "duration": 138,
    "start_time": "2022-11-27T18:24:31.591Z"
   },
   {
    "duration": 176,
    "start_time": "2022-11-27T18:24:31.736Z"
   },
   {
    "duration": 3,
    "start_time": "2022-11-27T18:24:31.914Z"
   },
   {
    "duration": 19,
    "start_time": "2022-11-27T18:24:31.919Z"
   },
   {
    "duration": 118,
    "start_time": "2022-11-27T18:24:31.941Z"
   },
   {
    "duration": 235,
    "start_time": "2022-11-27T18:24:32.061Z"
   },
   {
    "duration": 9,
    "start_time": "2022-11-27T18:24:32.298Z"
   },
   {
    "duration": 131,
    "start_time": "2022-11-27T18:24:32.308Z"
   },
   {
    "duration": 196,
    "start_time": "2022-11-27T18:24:32.441Z"
   },
   {
    "duration": 9,
    "start_time": "2022-11-27T18:24:32.639Z"
   },
   {
    "duration": 135,
    "start_time": "2022-11-27T18:24:32.650Z"
   },
   {
    "duration": 245,
    "start_time": "2022-11-27T18:24:32.786Z"
   },
   {
    "duration": 10,
    "start_time": "2022-11-27T18:24:33.036Z"
   },
   {
    "duration": 135,
    "start_time": "2022-11-27T18:24:33.048Z"
   },
   {
    "duration": 189,
    "start_time": "2022-11-27T18:24:33.185Z"
   },
   {
    "duration": 9,
    "start_time": "2022-11-27T18:24:33.376Z"
   },
   {
    "duration": 167,
    "start_time": "2022-11-27T18:24:33.386Z"
   },
   {
    "duration": 9,
    "start_time": "2022-11-27T18:24:33.554Z"
   },
   {
    "duration": 133,
    "start_time": "2022-11-27T18:24:33.564Z"
   },
   {
    "duration": 210,
    "start_time": "2022-11-27T18:24:33.699Z"
   },
   {
    "duration": 9,
    "start_time": "2022-11-27T18:24:33.910Z"
   },
   {
    "duration": 145,
    "start_time": "2022-11-27T18:24:33.920Z"
   },
   {
    "duration": 203,
    "start_time": "2022-11-27T18:24:34.066Z"
   },
   {
    "duration": 9,
    "start_time": "2022-11-27T18:24:34.271Z"
   },
   {
    "duration": 126,
    "start_time": "2022-11-27T18:24:34.282Z"
   },
   {
    "duration": 169,
    "start_time": "2022-11-27T18:24:34.414Z"
   },
   {
    "duration": 10,
    "start_time": "2022-11-27T18:24:34.585Z"
   },
   {
    "duration": 145,
    "start_time": "2022-11-27T18:24:34.596Z"
   },
   {
    "duration": 285,
    "start_time": "2022-11-27T18:24:34.743Z"
   },
   {
    "duration": 18,
    "start_time": "2022-11-27T18:24:35.030Z"
   },
   {
    "duration": 220,
    "start_time": "2022-11-27T18:24:35.050Z"
   },
   {
    "duration": 10,
    "start_time": "2022-11-27T18:24:35.271Z"
   },
   {
    "duration": 194,
    "start_time": "2022-11-27T18:24:35.283Z"
   },
   {
    "duration": 9,
    "start_time": "2022-11-27T18:24:35.479Z"
   },
   {
    "duration": 10,
    "start_time": "2022-11-27T18:24:35.490Z"
   },
   {
    "duration": 9,
    "start_time": "2022-11-27T18:24:35.501Z"
   },
   {
    "duration": 10,
    "start_time": "2022-11-27T18:24:35.537Z"
   },
   {
    "duration": 12,
    "start_time": "2022-11-27T18:24:35.549Z"
   },
   {
    "duration": 223,
    "start_time": "2022-11-27T18:24:35.563Z"
   },
   {
    "duration": 201,
    "start_time": "2022-11-27T18:24:35.788Z"
   },
   {
    "duration": 225,
    "start_time": "2022-11-27T18:24:35.991Z"
   },
   {
    "duration": 176,
    "start_time": "2022-11-27T18:24:36.218Z"
   },
   {
    "duration": 167,
    "start_time": "2022-11-27T18:24:36.396Z"
   },
   {
    "duration": 179,
    "start_time": "2022-11-27T18:24:36.565Z"
   },
   {
    "duration": 152,
    "start_time": "2022-11-27T18:24:36.745Z"
   },
   {
    "duration": 156,
    "start_time": "2022-11-27T18:24:36.898Z"
   },
   {
    "duration": 195,
    "start_time": "2022-11-27T18:24:37.056Z"
   },
   {
    "duration": 136,
    "start_time": "2022-11-27T18:24:37.253Z"
   },
   {
    "duration": 169,
    "start_time": "2022-11-27T18:24:37.391Z"
   },
   {
    "duration": 320,
    "start_time": "2022-11-27T18:24:37.562Z"
   },
   {
    "duration": 156,
    "start_time": "2022-11-27T18:24:37.883Z"
   },
   {
    "duration": 168,
    "start_time": "2022-11-27T18:24:38.041Z"
   },
   {
    "duration": 184,
    "start_time": "2022-11-27T18:24:38.211Z"
   },
   {
    "duration": 14,
    "start_time": "2022-11-27T18:24:38.396Z"
   },
   {
    "duration": 152,
    "start_time": "2022-11-27T18:24:38.412Z"
   },
   {
    "duration": 154,
    "start_time": "2022-11-27T18:24:38.566Z"
   },
   {
    "duration": 236,
    "start_time": "2022-11-27T18:24:38.721Z"
   },
   {
    "duration": 207,
    "start_time": "2022-11-27T18:24:38.959Z"
   },
   {
    "duration": 225,
    "start_time": "2022-11-27T18:24:39.168Z"
   },
   {
    "duration": 190,
    "start_time": "2022-11-27T18:24:39.395Z"
   },
   {
    "duration": 190,
    "start_time": "2022-11-27T18:24:39.587Z"
   },
   {
    "duration": 9,
    "start_time": "2022-11-27T18:24:39.779Z"
   },
   {
    "duration": 48,
    "start_time": "2022-11-27T18:24:39.789Z"
   },
   {
    "duration": 8,
    "start_time": "2022-11-27T18:24:39.840Z"
   },
   {
    "duration": 21,
    "start_time": "2022-11-27T18:24:39.858Z"
   },
   {
    "duration": 162,
    "start_time": "2022-11-27T18:24:39.880Z"
   },
   {
    "duration": 189,
    "start_time": "2022-11-27T18:25:08.873Z"
   },
   {
    "duration": 147,
    "start_time": "2022-11-27T18:28:03.829Z"
   },
   {
    "duration": 1416,
    "start_time": "2022-11-28T11:59:08.026Z"
   },
   {
    "duration": 2090,
    "start_time": "2022-11-28T11:59:12.196Z"
   },
   {
    "duration": 16,
    "start_time": "2022-11-28T11:59:25.045Z"
   },
   {
    "duration": 10,
    "start_time": "2022-11-28T11:59:25.710Z"
   },
   {
    "duration": 10,
    "start_time": "2022-11-28T11:59:27.525Z"
   },
   {
    "duration": 7,
    "start_time": "2022-11-28T11:59:27.733Z"
   },
   {
    "duration": 9,
    "start_time": "2022-11-28T11:59:29.673Z"
   },
   {
    "duration": 4,
    "start_time": "2022-11-28T11:59:30.060Z"
   },
   {
    "duration": 8,
    "start_time": "2022-11-28T11:59:30.574Z"
   },
   {
    "duration": 41,
    "start_time": "2022-11-28T11:59:32.376Z"
   },
   {
    "duration": 9,
    "start_time": "2022-11-28T11:59:32.974Z"
   },
   {
    "duration": 15,
    "start_time": "2022-11-28T11:59:34.974Z"
   },
   {
    "duration": 9,
    "start_time": "2022-11-28T11:59:35.463Z"
   },
   {
    "duration": 4,
    "start_time": "2022-11-28T11:59:38.224Z"
   },
   {
    "duration": 5,
    "start_time": "2022-11-28T11:59:39.823Z"
   },
   {
    "duration": 13,
    "start_time": "2022-11-28T11:59:40.502Z"
   },
   {
    "duration": 8,
    "start_time": "2022-11-28T11:59:41.631Z"
   },
   {
    "duration": 10,
    "start_time": "2022-11-28T11:59:42.541Z"
   },
   {
    "duration": 8,
    "start_time": "2022-11-28T11:59:42.749Z"
   },
   {
    "duration": 5,
    "start_time": "2022-11-28T11:59:42.949Z"
   },
   {
    "duration": 17,
    "start_time": "2022-11-28T11:59:43.169Z"
   },
   {
    "duration": 22,
    "start_time": "2022-11-28T11:59:43.393Z"
   },
   {
    "duration": 30,
    "start_time": "2022-11-28T11:59:43.799Z"
   },
   {
    "duration": 14,
    "start_time": "2022-11-28T11:59:44.019Z"
   },
   {
    "duration": 5,
    "start_time": "2022-11-28T11:59:45.573Z"
   },
   {
    "duration": 4,
    "start_time": "2022-11-28T11:59:47.545Z"
   },
   {
    "duration": 4,
    "start_time": "2022-11-28T11:59:55.937Z"
   },
   {
    "duration": 4,
    "start_time": "2022-11-28T11:59:56.406Z"
   },
   {
    "duration": 4,
    "start_time": "2022-11-28T11:59:56.803Z"
   },
   {
    "duration": 3,
    "start_time": "2022-11-28T11:59:57.312Z"
   },
   {
    "duration": 3,
    "start_time": "2022-11-28T11:59:58.925Z"
   },
   {
    "duration": 36,
    "start_time": "2022-11-28T12:00:00.692Z"
   },
   {
    "duration": 12,
    "start_time": "2022-11-28T12:00:03.658Z"
   },
   {
    "duration": 15,
    "start_time": "2022-11-28T12:00:04.223Z"
   },
   {
    "duration": 10,
    "start_time": "2022-11-28T12:07:00.387Z"
   },
   {
    "duration": 14,
    "start_time": "2022-11-28T12:08:02.745Z"
   },
   {
    "duration": 173,
    "start_time": "2022-11-28T12:13:00.321Z"
   },
   {
    "duration": 6,
    "start_time": "2022-11-28T12:17:04.327Z"
   },
   {
    "duration": 16,
    "start_time": "2022-11-28T12:17:20.918Z"
   },
   {
    "duration": 13,
    "start_time": "2022-11-28T12:17:24.341Z"
   },
   {
    "duration": 153,
    "start_time": "2022-11-28T12:17:26.948Z"
   },
   {
    "duration": 12,
    "start_time": "2022-11-28T12:18:03.445Z"
   },
   {
    "duration": 4,
    "start_time": "2022-11-28T12:18:30.319Z"
   },
   {
    "duration": 5,
    "start_time": "2022-11-28T12:18:30.719Z"
   },
   {
    "duration": 61,
    "start_time": "2022-11-28T12:18:31.197Z"
   },
   {
    "duration": 38,
    "start_time": "2022-11-28T12:18:31.492Z"
   },
   {
    "duration": 56,
    "start_time": "2022-11-28T12:18:32.799Z"
   },
   {
    "duration": 6,
    "start_time": "2022-11-28T12:18:33.946Z"
   },
   {
    "duration": 49,
    "start_time": "2022-11-28T12:18:34.951Z"
   },
   {
    "duration": 7,
    "start_time": "2022-11-28T12:18:36.351Z"
   },
   {
    "duration": 7,
    "start_time": "2022-11-28T12:18:37.590Z"
   },
   {
    "duration": 5,
    "start_time": "2022-11-28T12:18:38.197Z"
   },
   {
    "duration": 3,
    "start_time": "2022-11-28T12:18:38.800Z"
   },
   {
    "duration": 251,
    "start_time": "2022-11-28T12:18:39.500Z"
   },
   {
    "duration": 4,
    "start_time": "2022-11-28T12:18:40.668Z"
   },
   {
    "duration": 96,
    "start_time": "2022-11-28T12:18:41.285Z"
   },
   {
    "duration": 8,
    "start_time": "2022-11-28T12:18:46.832Z"
   },
   {
    "duration": 112,
    "start_time": "2022-11-28T12:18:47.597Z"
   },
   {
    "duration": 353,
    "start_time": "2022-11-28T12:18:48.317Z"
   },
   {
    "duration": 9,
    "start_time": "2022-11-28T12:18:50.694Z"
   },
   {
    "duration": 122,
    "start_time": "2022-11-28T12:18:51.447Z"
   },
   {
    "duration": 159,
    "start_time": "2022-11-28T12:18:53.002Z"
   },
   {
    "duration": 10,
    "start_time": "2022-11-28T12:18:54.989Z"
   },
   {
    "duration": 115,
    "start_time": "2022-11-28T12:18:55.549Z"
   },
   {
    "duration": 181,
    "start_time": "2022-11-28T12:18:56.117Z"
   },
   {
    "duration": 4,
    "start_time": "2022-11-28T12:18:58.817Z"
   },
   {
    "duration": 9,
    "start_time": "2022-11-28T12:18:59.432Z"
   },
   {
    "duration": 119,
    "start_time": "2022-11-28T12:19:00.135Z"
   },
   {
    "duration": 240,
    "start_time": "2022-11-28T12:19:00.850Z"
   },
   {
    "duration": 8,
    "start_time": "2022-11-28T12:19:13.168Z"
   },
   {
    "duration": 122,
    "start_time": "2022-11-28T12:19:13.900Z"
   },
   {
    "duration": 174,
    "start_time": "2022-11-28T12:19:14.998Z"
   },
   {
    "duration": 9,
    "start_time": "2022-11-28T12:19:17.238Z"
   },
   {
    "duration": 185,
    "start_time": "2022-11-28T12:19:17.919Z"
   },
   {
    "duration": 139,
    "start_time": "2022-11-28T12:19:18.430Z"
   },
   {
    "duration": 8,
    "start_time": "2022-11-28T12:19:27.068Z"
   },
   {
    "duration": 109,
    "start_time": "2022-11-28T12:19:27.752Z"
   },
   {
    "duration": 161,
    "start_time": "2022-11-28T12:19:28.552Z"
   },
   {
    "duration": 11,
    "start_time": "2022-11-28T12:19:32.328Z"
   },
   {
    "duration": 150,
    "start_time": "2022-11-28T12:19:33.002Z"
   },
   {
    "duration": 9,
    "start_time": "2022-11-28T12:19:35.193Z"
   },
   {
    "duration": 118,
    "start_time": "2022-11-28T12:19:38.336Z"
   },
   {
    "duration": 189,
    "start_time": "2022-11-28T12:19:38.947Z"
   },
   {
    "duration": 9,
    "start_time": "2022-11-28T12:19:41.701Z"
   },
   {
    "duration": 110,
    "start_time": "2022-11-28T12:19:42.517Z"
   },
   {
    "duration": 159,
    "start_time": "2022-11-28T12:19:43.501Z"
   },
   {
    "duration": 9,
    "start_time": "2022-11-28T12:19:49.608Z"
   },
   {
    "duration": 102,
    "start_time": "2022-11-28T12:19:50.247Z"
   },
   {
    "duration": 161,
    "start_time": "2022-11-28T12:19:50.886Z"
   },
   {
    "duration": 8,
    "start_time": "2022-11-28T12:19:53.416Z"
   },
   {
    "duration": 215,
    "start_time": "2022-11-28T12:19:54.130Z"
   },
   {
    "duration": 191,
    "start_time": "2022-11-28T12:19:55.719Z"
   },
   {
    "duration": 9,
    "start_time": "2022-11-28T12:19:57.900Z"
   },
   {
    "duration": 183,
    "start_time": "2022-11-28T12:19:59.556Z"
   },
   {
    "duration": 8,
    "start_time": "2022-11-28T12:20:02.213Z"
   },
   {
    "duration": 191,
    "start_time": "2022-11-28T12:20:02.802Z"
   },
   {
    "duration": 9,
    "start_time": "2022-11-28T12:20:15.800Z"
   },
   {
    "duration": 11,
    "start_time": "2022-11-28T12:20:15.996Z"
   },
   {
    "duration": 8,
    "start_time": "2022-11-28T12:20:16.206Z"
   },
   {
    "duration": 8,
    "start_time": "2022-11-28T12:20:16.460Z"
   },
   {
    "duration": 8,
    "start_time": "2022-11-28T12:20:16.935Z"
   },
   {
    "duration": 184,
    "start_time": "2022-11-28T12:20:17.450Z"
   },
   {
    "duration": 185,
    "start_time": "2022-11-28T12:20:18.052Z"
   },
   {
    "duration": 219,
    "start_time": "2022-11-28T12:20:18.922Z"
   },
   {
    "duration": 156,
    "start_time": "2022-11-28T12:20:23.598Z"
   },
   {
    "duration": 174,
    "start_time": "2022-11-28T12:20:24.114Z"
   },
   {
    "duration": 184,
    "start_time": "2022-11-28T12:20:25.070Z"
   },
   {
    "duration": 171,
    "start_time": "2022-11-28T12:20:27.384Z"
   },
   {
    "duration": 152,
    "start_time": "2022-11-28T12:20:28.302Z"
   },
   {
    "duration": 196,
    "start_time": "2022-11-28T12:20:29.269Z"
   },
   {
    "duration": 248,
    "start_time": "2022-11-28T12:20:31.893Z"
   },
   {
    "duration": 140,
    "start_time": "2022-11-28T12:20:32.468Z"
   },
   {
    "duration": 192,
    "start_time": "2022-11-28T12:20:33.235Z"
   },
   {
    "duration": 150,
    "start_time": "2022-11-28T12:20:35.709Z"
   },
   {
    "duration": 203,
    "start_time": "2022-11-28T12:20:36.445Z"
   },
   {
    "duration": 192,
    "start_time": "2022-11-28T12:20:39.353Z"
   },
   {
    "duration": 12,
    "start_time": "2022-11-28T12:20:45.618Z"
   },
   {
    "duration": 143,
    "start_time": "2022-11-28T12:20:46.990Z"
   },
   {
    "duration": 152,
    "start_time": "2022-11-28T12:20:59.037Z"
   },
   {
    "duration": 168,
    "start_time": "2022-11-28T12:21:01.903Z"
   },
   {
    "duration": 207,
    "start_time": "2022-11-28T12:21:02.389Z"
   },
   {
    "duration": 214,
    "start_time": "2022-11-28T12:21:04.502Z"
   },
   {
    "duration": 279,
    "start_time": "2022-11-28T12:21:05.093Z"
   },
   {
    "duration": 189,
    "start_time": "2022-11-28T12:21:06.918Z"
   },
   {
    "duration": 181,
    "start_time": "2022-11-28T12:21:07.223Z"
   },
   {
    "duration": 8,
    "start_time": "2022-11-28T12:21:09.035Z"
   },
   {
    "duration": 26,
    "start_time": "2022-11-28T12:21:09.952Z"
   },
   {
    "duration": 8,
    "start_time": "2022-11-28T12:21:10.452Z"
   },
   {
    "duration": 7,
    "start_time": "2022-11-28T12:21:10.892Z"
   },
   {
    "duration": 157,
    "start_time": "2022-11-28T12:21:12.619Z"
   },
   {
    "duration": 1267,
    "start_time": "2022-11-28T12:41:18.612Z"
   },
   {
    "duration": 1926,
    "start_time": "2022-11-28T12:41:27.798Z"
   },
   {
    "duration": 23,
    "start_time": "2022-11-28T12:42:56.426Z"
   },
   {
    "duration": 15,
    "start_time": "2022-11-28T12:43:05.898Z"
   },
   {
    "duration": 14,
    "start_time": "2022-11-28T12:43:13.273Z"
   },
   {
    "duration": 8,
    "start_time": "2022-11-28T12:43:19.147Z"
   },
   {
    "duration": 9,
    "start_time": "2022-11-28T12:43:23.498Z"
   },
   {
    "duration": 6,
    "start_time": "2022-11-28T12:43:24.232Z"
   },
   {
    "duration": 9,
    "start_time": "2022-11-28T12:43:25.598Z"
   },
   {
    "duration": 42,
    "start_time": "2022-11-28T12:43:28.731Z"
   },
   {
    "duration": 8,
    "start_time": "2022-11-28T12:43:29.559Z"
   },
   {
    "duration": 8,
    "start_time": "2022-11-28T12:43:32.328Z"
   },
   {
    "duration": 7,
    "start_time": "2022-11-28T12:43:33.074Z"
   },
   {
    "duration": 5,
    "start_time": "2022-11-28T12:43:34.976Z"
   },
   {
    "duration": 19,
    "start_time": "2022-11-28T12:43:40.677Z"
   },
   {
    "duration": 15,
    "start_time": "2022-11-28T12:43:51.090Z"
   },
   {
    "duration": 10,
    "start_time": "2022-11-28T12:43:54.090Z"
   },
   {
    "duration": 10,
    "start_time": "2022-11-28T12:43:59.060Z"
   },
   {
    "duration": 6,
    "start_time": "2022-11-28T12:43:59.842Z"
   },
   {
    "duration": 4,
    "start_time": "2022-11-28T12:44:00.703Z"
   },
   {
    "duration": 12,
    "start_time": "2022-11-28T12:44:01.715Z"
   },
   {
    "duration": 25,
    "start_time": "2022-11-28T12:44:02.484Z"
   },
   {
    "duration": 46,
    "start_time": "2022-11-28T12:44:05.755Z"
   },
   {
    "duration": 11,
    "start_time": "2022-11-28T12:44:06.903Z"
   },
   {
    "duration": 4,
    "start_time": "2022-11-28T12:44:10.017Z"
   },
   {
    "duration": 4,
    "start_time": "2022-11-28T12:44:11.726Z"
   },
   {
    "duration": 5,
    "start_time": "2022-11-28T12:44:32.310Z"
   },
   {
    "duration": 5,
    "start_time": "2022-11-28T12:44:33.943Z"
   },
   {
    "duration": 4,
    "start_time": "2022-11-28T12:44:35.062Z"
   },
   {
    "duration": 3,
    "start_time": "2022-11-28T12:44:36.816Z"
   },
   {
    "duration": 3,
    "start_time": "2022-11-28T12:44:42.195Z"
   },
   {
    "duration": 32,
    "start_time": "2022-11-28T12:45:10.807Z"
   },
   {
    "duration": 14,
    "start_time": "2022-11-28T12:45:16.586Z"
   },
   {
    "duration": 14,
    "start_time": "2022-11-28T12:45:21.591Z"
   },
   {
    "duration": 65,
    "start_time": "2022-11-28T12:45:26.494Z"
   },
   {
    "duration": 149,
    "start_time": "2022-11-28T12:45:29.155Z"
   },
   {
    "duration": 15,
    "start_time": "2022-11-28T12:45:35.980Z"
   },
   {
    "duration": 166,
    "start_time": "2022-11-28T12:45:39.130Z"
   },
   {
    "duration": 15,
    "start_time": "2022-11-28T12:45:40.893Z"
   },
   {
    "duration": 166,
    "start_time": "2022-11-28T12:47:08.914Z"
   },
   {
    "duration": 170,
    "start_time": "2022-11-28T12:48:14.674Z"
   },
   {
    "duration": 153,
    "start_time": "2022-11-28T12:48:28.206Z"
   },
   {
    "duration": 165,
    "start_time": "2022-11-28T12:48:40.243Z"
   },
   {
    "duration": 169,
    "start_time": "2022-11-28T12:48:51.035Z"
   },
   {
    "duration": 133,
    "start_time": "2022-11-28T12:48:58.615Z"
   },
   {
    "duration": 154,
    "start_time": "2022-11-28T12:49:05.835Z"
   },
   {
    "duration": 10,
    "start_time": "2022-11-28T12:49:42.590Z"
   },
   {
    "duration": 13,
    "start_time": "2022-11-28T12:49:54.763Z"
   },
   {
    "duration": 13,
    "start_time": "2022-11-28T12:52:14.723Z"
   },
   {
    "duration": 179,
    "start_time": "2022-11-28T12:52:55.759Z"
   },
   {
    "duration": 12,
    "start_time": "2022-11-28T12:52:56.910Z"
   },
   {
    "duration": 4,
    "start_time": "2022-11-28T12:52:59.025Z"
   },
   {
    "duration": 5,
    "start_time": "2022-11-28T12:52:59.457Z"
   },
   {
    "duration": 233,
    "start_time": "2022-11-28T12:53:00.802Z"
   },
   {
    "duration": 44,
    "start_time": "2022-11-28T12:53:01.503Z"
   },
   {
    "duration": 64,
    "start_time": "2022-11-28T12:53:06.278Z"
   },
   {
    "duration": 6,
    "start_time": "2022-11-28T12:53:13.228Z"
   },
   {
    "duration": 48,
    "start_time": "2022-11-28T12:53:13.889Z"
   },
   {
    "duration": 7,
    "start_time": "2022-11-28T12:53:15.425Z"
   },
   {
    "duration": 5,
    "start_time": "2022-11-28T12:53:16.425Z"
   },
   {
    "duration": 4,
    "start_time": "2022-11-28T12:53:16.775Z"
   },
   {
    "duration": 3,
    "start_time": "2022-11-28T12:53:17.041Z"
   },
   {
    "duration": 273,
    "start_time": "2022-11-28T12:53:20.725Z"
   },
   {
    "duration": 4,
    "start_time": "2022-11-28T12:53:21.234Z"
   },
   {
    "duration": 71,
    "start_time": "2022-11-28T12:53:21.949Z"
   },
   {
    "duration": 11,
    "start_time": "2022-11-28T12:53:25.428Z"
   },
   {
    "duration": 106,
    "start_time": "2022-11-28T12:53:25.951Z"
   },
   {
    "duration": 254,
    "start_time": "2022-11-28T12:53:26.475Z"
   },
   {
    "duration": 12,
    "start_time": "2022-11-28T12:53:28.085Z"
   },
   {
    "duration": 110,
    "start_time": "2022-11-28T12:53:28.635Z"
   },
   {
    "duration": 219,
    "start_time": "2022-11-28T12:53:29.621Z"
   },
   {
    "duration": 9,
    "start_time": "2022-11-28T12:53:31.702Z"
   },
   {
    "duration": 110,
    "start_time": "2022-11-28T12:53:32.169Z"
   },
   {
    "duration": 155,
    "start_time": "2022-11-28T12:53:32.669Z"
   },
   {
    "duration": 4,
    "start_time": "2022-11-28T12:53:35.236Z"
   },
   {
    "duration": 10,
    "start_time": "2022-11-28T12:53:35.984Z"
   },
   {
    "duration": 124,
    "start_time": "2022-11-28T12:53:36.632Z"
   },
   {
    "duration": 220,
    "start_time": "2022-11-28T12:53:37.289Z"
   },
   {
    "duration": 11,
    "start_time": "2022-11-28T12:53:39.153Z"
   },
   {
    "duration": 128,
    "start_time": "2022-11-28T12:53:39.418Z"
   },
   {
    "duration": 174,
    "start_time": "2022-11-28T12:53:39.618Z"
   },
   {
    "duration": 9,
    "start_time": "2022-11-28T12:53:40.434Z"
   },
   {
    "duration": 106,
    "start_time": "2022-11-28T12:53:40.826Z"
   },
   {
    "duration": 147,
    "start_time": "2022-11-28T12:53:41.015Z"
   },
   {
    "duration": 8,
    "start_time": "2022-11-28T12:53:41.483Z"
   },
   {
    "duration": 110,
    "start_time": "2022-11-28T12:53:41.715Z"
   },
   {
    "duration": 258,
    "start_time": "2022-11-28T12:53:41.945Z"
   },
   {
    "duration": 9,
    "start_time": "2022-11-28T12:53:42.699Z"
   },
   {
    "duration": 187,
    "start_time": "2022-11-28T12:53:42.961Z"
   },
   {
    "duration": 8,
    "start_time": "2022-11-28T12:53:43.682Z"
   },
   {
    "duration": 149,
    "start_time": "2022-11-28T12:53:43.975Z"
   },
   {
    "duration": 182,
    "start_time": "2022-11-28T12:53:44.169Z"
   },
   {
    "duration": 10,
    "start_time": "2022-11-28T12:53:45.020Z"
   },
   {
    "duration": 119,
    "start_time": "2022-11-28T12:53:45.162Z"
   },
   {
    "duration": 166,
    "start_time": "2022-11-28T12:53:45.412Z"
   },
   {
    "duration": 9,
    "start_time": "2022-11-28T12:53:46.136Z"
   },
   {
    "duration": 108,
    "start_time": "2022-11-28T12:53:46.343Z"
   },
   {
    "duration": 149,
    "start_time": "2022-11-28T12:53:46.726Z"
   },
   {
    "duration": 9,
    "start_time": "2022-11-28T12:53:47.216Z"
   },
   {
    "duration": 115,
    "start_time": "2022-11-28T12:53:47.412Z"
   },
   {
    "duration": 177,
    "start_time": "2022-11-28T12:53:47.774Z"
   },
   {
    "duration": 9,
    "start_time": "2022-11-28T12:53:48.331Z"
   },
   {
    "duration": 168,
    "start_time": "2022-11-28T12:53:48.574Z"
   },
   {
    "duration": 9,
    "start_time": "2022-11-28T12:53:49.303Z"
   },
   {
    "duration": 291,
    "start_time": "2022-11-28T12:53:49.551Z"
   },
   {
    "duration": 9,
    "start_time": "2022-11-28T12:53:50.921Z"
   },
   {
    "duration": 10,
    "start_time": "2022-11-28T12:53:51.002Z"
   },
   {
    "duration": 10,
    "start_time": "2022-11-28T12:53:51.314Z"
   },
   {
    "duration": 8,
    "start_time": "2022-11-28T12:53:51.462Z"
   },
   {
    "duration": 8,
    "start_time": "2022-11-28T12:53:51.714Z"
   },
   {
    "duration": 191,
    "start_time": "2022-11-28T12:53:51.970Z"
   },
   {
    "duration": 179,
    "start_time": "2022-11-28T12:53:52.216Z"
   },
   {
    "duration": 190,
    "start_time": "2022-11-28T12:53:52.434Z"
   },
   {
    "duration": 147,
    "start_time": "2022-11-28T12:53:53.718Z"
   },
   {
    "duration": 161,
    "start_time": "2022-11-28T12:53:54.066Z"
   },
   {
    "duration": 189,
    "start_time": "2022-11-28T12:53:54.229Z"
   },
   {
    "duration": 150,
    "start_time": "2022-11-28T12:53:55.115Z"
   },
   {
    "duration": 155,
    "start_time": "2022-11-28T12:53:55.267Z"
   },
   {
    "duration": 180,
    "start_time": "2022-11-28T12:53:55.514Z"
   },
   {
    "duration": 147,
    "start_time": "2022-11-28T12:53:56.279Z"
   },
   {
    "duration": 151,
    "start_time": "2022-11-28T12:53:56.556Z"
   },
   {
    "duration": 190,
    "start_time": "2022-11-28T12:53:56.795Z"
   },
   {
    "duration": 153,
    "start_time": "2022-11-28T12:53:57.605Z"
   },
   {
    "duration": 163,
    "start_time": "2022-11-28T12:53:57.862Z"
   },
   {
    "duration": 300,
    "start_time": "2022-11-28T12:53:58.260Z"
   },
   {
    "duration": 13,
    "start_time": "2022-11-28T12:53:58.917Z"
   },
   {
    "duration": 134,
    "start_time": "2022-11-28T12:53:59.402Z"
   },
   {
    "duration": 125,
    "start_time": "2022-11-28T12:54:00.357Z"
   },
   {
    "duration": 150,
    "start_time": "2022-11-28T12:54:01.135Z"
   },
   {
    "duration": 179,
    "start_time": "2022-11-28T12:54:01.441Z"
   },
   {
    "duration": 198,
    "start_time": "2022-11-28T12:54:02.201Z"
   },
   {
    "duration": 223,
    "start_time": "2022-11-28T12:54:02.456Z"
   },
   {
    "duration": 183,
    "start_time": "2022-11-28T12:54:03.234Z"
   },
   {
    "duration": 186,
    "start_time": "2022-11-28T12:54:03.505Z"
   },
   {
    "duration": 8,
    "start_time": "2022-11-28T12:54:12.552Z"
   },
   {
    "duration": 29,
    "start_time": "2022-11-28T12:54:13.029Z"
   },
   {
    "duration": 10,
    "start_time": "2022-11-28T12:54:13.334Z"
   },
   {
    "duration": 7,
    "start_time": "2022-11-28T12:54:13.479Z"
   },
   {
    "duration": 164,
    "start_time": "2022-11-28T12:54:14.569Z"
   },
   {
    "duration": 1394,
    "start_time": "2022-11-28T20:02:40.850Z"
   },
   {
    "duration": 2019,
    "start_time": "2022-11-28T20:02:42.246Z"
   },
   {
    "duration": 18,
    "start_time": "2022-11-28T20:02:44.267Z"
   },
   {
    "duration": 10,
    "start_time": "2022-11-28T20:02:44.287Z"
   },
   {
    "duration": 10,
    "start_time": "2022-11-28T20:02:44.299Z"
   },
   {
    "duration": 7,
    "start_time": "2022-11-28T20:02:44.310Z"
   },
   {
    "duration": 43,
    "start_time": "2022-11-28T20:02:44.318Z"
   },
   {
    "duration": 4,
    "start_time": "2022-11-28T20:02:44.363Z"
   },
   {
    "duration": 11,
    "start_time": "2022-11-28T20:02:44.368Z"
   },
   {
    "duration": 36,
    "start_time": "2022-11-28T20:02:44.382Z"
   },
   {
    "duration": 38,
    "start_time": "2022-11-28T20:02:44.420Z"
   },
   {
    "duration": 9,
    "start_time": "2022-11-28T20:02:44.460Z"
   },
   {
    "duration": 8,
    "start_time": "2022-11-28T20:02:44.470Z"
   },
   {
    "duration": 4,
    "start_time": "2022-11-28T20:02:44.480Z"
   },
   {
    "duration": 7,
    "start_time": "2022-11-28T20:02:44.486Z"
   },
   {
    "duration": 19,
    "start_time": "2022-11-28T20:02:44.494Z"
   },
   {
    "duration": 8,
    "start_time": "2022-11-28T20:02:44.514Z"
   },
   {
    "duration": 42,
    "start_time": "2022-11-28T20:02:44.523Z"
   },
   {
    "duration": 6,
    "start_time": "2022-11-28T20:02:44.566Z"
   },
   {
    "duration": 7,
    "start_time": "2022-11-28T20:02:44.574Z"
   },
   {
    "duration": 17,
    "start_time": "2022-11-28T20:02:44.582Z"
   },
   {
    "duration": 43,
    "start_time": "2022-11-28T20:02:44.601Z"
   },
   {
    "duration": 37,
    "start_time": "2022-11-28T20:02:44.655Z"
   },
   {
    "duration": 11,
    "start_time": "2022-11-28T20:02:44.694Z"
   },
   {
    "duration": 12,
    "start_time": "2022-11-28T20:02:44.707Z"
   },
   {
    "duration": 11,
    "start_time": "2022-11-28T20:02:44.721Z"
   },
   {
    "duration": 30,
    "start_time": "2022-11-28T20:02:44.734Z"
   },
   {
    "duration": 18,
    "start_time": "2022-11-28T20:02:44.770Z"
   },
   {
    "duration": 14,
    "start_time": "2022-11-28T20:02:44.790Z"
   },
   {
    "duration": 13,
    "start_time": "2022-11-28T20:02:44.807Z"
   },
   {
    "duration": 7,
    "start_time": "2022-11-28T20:02:44.823Z"
   },
   {
    "duration": 36,
    "start_time": "2022-11-28T20:02:44.832Z"
   },
   {
    "duration": 12,
    "start_time": "2022-11-28T20:02:44.870Z"
   },
   {
    "duration": 15,
    "start_time": "2022-11-28T20:02:44.884Z"
   },
   {
    "duration": 83,
    "start_time": "2022-11-28T20:02:44.901Z"
   },
   {
    "duration": 145,
    "start_time": "2022-11-28T20:02:44.985Z"
   },
   {
    "duration": 23,
    "start_time": "2022-11-28T20:02:45.132Z"
   },
   {
    "duration": 142,
    "start_time": "2022-11-28T20:02:45.157Z"
   },
   {
    "duration": 16,
    "start_time": "2022-11-28T20:02:45.300Z"
   },
   {
    "duration": 169,
    "start_time": "2022-11-28T20:02:45.317Z"
   },
   {
    "duration": 12,
    "start_time": "2022-11-28T20:02:45.488Z"
   },
   {
    "duration": 4,
    "start_time": "2022-11-28T20:02:45.501Z"
   },
   {
    "duration": 7,
    "start_time": "2022-11-28T20:02:45.507Z"
   },
   {
    "duration": 80,
    "start_time": "2022-11-28T20:02:45.515Z"
   },
   {
    "duration": 39,
    "start_time": "2022-11-28T20:02:45.597Z"
   },
   {
    "duration": 71,
    "start_time": "2022-11-28T20:02:45.638Z"
   },
   {
    "duration": 5,
    "start_time": "2022-11-28T20:02:45.711Z"
   },
   {
    "duration": 48,
    "start_time": "2022-11-28T20:02:45.718Z"
   },
   {
    "duration": 6,
    "start_time": "2022-11-28T20:02:45.768Z"
   },
   {
    "duration": 10,
    "start_time": "2022-11-28T20:02:45.776Z"
   },
   {
    "duration": 10,
    "start_time": "2022-11-28T20:02:45.787Z"
   },
   {
    "duration": 5,
    "start_time": "2022-11-28T20:02:45.799Z"
   },
   {
    "duration": 368,
    "start_time": "2022-11-28T20:02:45.805Z"
   },
   {
    "duration": 4,
    "start_time": "2022-11-28T20:02:46.175Z"
   },
   {
    "duration": 75,
    "start_time": "2022-11-28T20:02:46.180Z"
   },
   {
    "duration": 9,
    "start_time": "2022-11-28T20:02:46.256Z"
   },
   {
    "duration": 121,
    "start_time": "2022-11-28T20:02:46.266Z"
   },
   {
    "duration": 242,
    "start_time": "2022-11-28T20:02:46.389Z"
   },
   {
    "duration": 9,
    "start_time": "2022-11-28T20:02:46.633Z"
   },
   {
    "duration": 126,
    "start_time": "2022-11-28T20:02:46.655Z"
   },
   {
    "duration": 173,
    "start_time": "2022-11-28T20:02:46.783Z"
   },
   {
    "duration": 10,
    "start_time": "2022-11-28T20:02:46.958Z"
   },
   {
    "duration": 131,
    "start_time": "2022-11-28T20:02:46.970Z"
   },
   {
    "duration": 184,
    "start_time": "2022-11-28T20:02:47.103Z"
   },
   {
    "duration": 3,
    "start_time": "2022-11-28T20:02:47.289Z"
   },
   {
    "duration": 12,
    "start_time": "2022-11-28T20:02:47.294Z"
   },
   {
    "duration": 135,
    "start_time": "2022-11-28T20:02:47.308Z"
   },
   {
    "duration": 249,
    "start_time": "2022-11-28T20:02:47.445Z"
   },
   {
    "duration": 9,
    "start_time": "2022-11-28T20:02:47.696Z"
   },
   {
    "duration": 208,
    "start_time": "2022-11-28T20:02:47.707Z"
   },
   {
    "duration": 201,
    "start_time": "2022-11-28T20:02:47.917Z"
   },
   {
    "duration": 9,
    "start_time": "2022-11-28T20:02:48.120Z"
   },
   {
    "duration": 134,
    "start_time": "2022-11-28T20:02:48.130Z"
   },
   {
    "duration": 153,
    "start_time": "2022-11-28T20:02:48.265Z"
   },
   {
    "duration": 9,
    "start_time": "2022-11-28T20:02:48.420Z"
   },
   {
    "duration": 134,
    "start_time": "2022-11-28T20:02:48.430Z"
   },
   {
    "duration": 174,
    "start_time": "2022-11-28T20:02:48.565Z"
   },
   {
    "duration": 19,
    "start_time": "2022-11-28T20:02:48.741Z"
   },
   {
    "duration": 185,
    "start_time": "2022-11-28T20:02:48.762Z"
   },
   {
    "duration": 13,
    "start_time": "2022-11-28T20:02:48.949Z"
   },
   {
    "duration": 132,
    "start_time": "2022-11-28T20:02:48.964Z"
   },
   {
    "duration": 192,
    "start_time": "2022-11-28T20:02:49.103Z"
   },
   {
    "duration": 9,
    "start_time": "2022-11-28T20:02:49.297Z"
   },
   {
    "duration": 129,
    "start_time": "2022-11-28T20:02:49.307Z"
   },
   {
    "duration": 175,
    "start_time": "2022-11-28T20:02:49.438Z"
   },
   {
    "duration": 9,
    "start_time": "2022-11-28T20:02:49.614Z"
   },
   {
    "duration": 218,
    "start_time": "2022-11-28T20:02:49.625Z"
   },
   {
    "duration": 160,
    "start_time": "2022-11-28T20:02:49.855Z"
   },
   {
    "duration": 9,
    "start_time": "2022-11-28T20:02:50.017Z"
   },
   {
    "duration": 135,
    "start_time": "2022-11-28T20:02:50.028Z"
   },
   {
    "duration": 178,
    "start_time": "2022-11-28T20:02:50.164Z"
   },
   {
    "duration": 15,
    "start_time": "2022-11-28T20:02:50.343Z"
   },
   {
    "duration": 176,
    "start_time": "2022-11-28T20:02:50.359Z"
   },
   {
    "duration": 9,
    "start_time": "2022-11-28T20:02:50.536Z"
   },
   {
    "duration": 190,
    "start_time": "2022-11-28T20:02:50.555Z"
   },
   {
    "duration": 15,
    "start_time": "2022-11-28T20:02:50.747Z"
   },
   {
    "duration": 12,
    "start_time": "2022-11-28T20:02:50.764Z"
   },
   {
    "duration": 9,
    "start_time": "2022-11-28T20:02:50.777Z"
   },
   {
    "duration": 8,
    "start_time": "2022-11-28T20:02:50.788Z"
   },
   {
    "duration": 9,
    "start_time": "2022-11-28T20:02:50.798Z"
   },
   {
    "duration": 246,
    "start_time": "2022-11-28T20:02:50.809Z"
   },
   {
    "duration": 179,
    "start_time": "2022-11-28T20:02:51.057Z"
   },
   {
    "duration": 191,
    "start_time": "2022-11-28T20:02:51.238Z"
   },
   {
    "duration": 153,
    "start_time": "2022-11-28T20:02:51.430Z"
   },
   {
    "duration": 164,
    "start_time": "2022-11-28T20:02:51.584Z"
   },
   {
    "duration": 203,
    "start_time": "2022-11-28T20:02:51.750Z"
   },
   {
    "duration": 185,
    "start_time": "2022-11-28T20:02:51.954Z"
   },
   {
    "duration": 269,
    "start_time": "2022-11-28T20:02:52.141Z"
   },
   {
    "duration": 194,
    "start_time": "2022-11-28T20:02:52.411Z"
   },
   {
    "duration": 149,
    "start_time": "2022-11-28T20:02:52.606Z"
   },
   {
    "duration": 147,
    "start_time": "2022-11-28T20:02:52.757Z"
   },
   {
    "duration": 190,
    "start_time": "2022-11-28T20:02:52.906Z"
   },
   {
    "duration": 152,
    "start_time": "2022-11-28T20:02:53.097Z"
   },
   {
    "duration": 188,
    "start_time": "2022-11-28T20:02:53.255Z"
   },
   {
    "duration": 211,
    "start_time": "2022-11-28T20:02:53.450Z"
   },
   {
    "duration": 14,
    "start_time": "2022-11-28T20:02:53.663Z"
   },
   {
    "duration": 177,
    "start_time": "2022-11-28T20:02:53.679Z"
   },
   {
    "duration": 139,
    "start_time": "2022-11-28T20:02:53.858Z"
   },
   {
    "duration": 149,
    "start_time": "2022-11-28T20:02:53.999Z"
   },
   {
    "duration": 193,
    "start_time": "2022-11-28T20:02:54.155Z"
   },
   {
    "duration": 229,
    "start_time": "2022-11-28T20:02:54.349Z"
   },
   {
    "duration": 242,
    "start_time": "2022-11-28T20:02:54.580Z"
   },
   {
    "duration": 191,
    "start_time": "2022-11-28T20:02:54.825Z"
   },
   {
    "duration": 199,
    "start_time": "2022-11-28T20:02:55.018Z"
   },
   {
    "duration": 9,
    "start_time": "2022-11-28T20:02:55.219Z"
   },
   {
    "duration": 48,
    "start_time": "2022-11-28T20:02:55.230Z"
   },
   {
    "duration": 9,
    "start_time": "2022-11-28T20:02:55.280Z"
   },
   {
    "duration": 26,
    "start_time": "2022-11-28T20:02:55.291Z"
   },
   {
    "duration": 170,
    "start_time": "2022-11-28T20:02:55.319Z"
   },
   {
    "duration": 17,
    "start_time": "2022-11-28T20:03:07.432Z"
   },
   {
    "duration": 79,
    "start_time": "2022-11-28T20:03:41.552Z"
   }
  ],
  "kernelspec": {
   "display_name": "Python 3 (ipykernel)",
   "language": "python",
   "name": "python3"
  },
  "language_info": {
   "codemirror_mode": {
    "name": "ipython",
    "version": 3
   },
   "file_extension": ".py",
   "mimetype": "text/x-python",
   "name": "python",
   "nbconvert_exporter": "python",
   "pygments_lexer": "ipython3",
   "version": "3.9.12"
  },
  "toc": {
   "base_numbering": 1,
   "nav_menu": {},
   "number_sections": true,
   "sideBar": true,
   "skip_h1_title": true,
   "title_cell": "Table of Contents",
   "title_sidebar": "Contents",
   "toc_cell": false,
   "toc_position": {},
   "toc_section_display": true,
   "toc_window_display": false
  }
 },
 "nbformat": 4,
 "nbformat_minor": 2
}
