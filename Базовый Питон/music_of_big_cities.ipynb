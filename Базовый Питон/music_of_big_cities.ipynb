{
  "cells": [
    {
      "cell_type": "markdown",
      "metadata": {
        "deletable": false,
        "editable": false,
        "id": "E0vqbgi9ay0H"
      },
      "source": [
        "# Яндекс Музыка"
      ]
    },
    {
      "cell_type": "markdown",
      "metadata": {
        "deletable": false,
        "editable": false,
        "id": "VUC88oWjTJw2"
      },
      "source": [
        "***Описание проекта***\n",
        "\n",
        "На основе данных сервиса Яндекс Музыки нужно сравнить поведение пользователей двух столиц Москвы и Санкт-Петербурга.\n",
        "\n",
        "**Цель исследования**\n",
        "\n",
        "Проверка трех гипотезы:\n",
        "1. Активность пользователей зависит от дня недели. Причём в Москве и Петербурге это проявляется по-разному.\n",
        "2. В понедельник утром в Москве преобладают одни жанры, а в Петербурге — другие. Так же и вечером пятницы преобладают разные жанры — в зависимости от города.\n",
        "3. Москва и Петербург предпочитают разные жанры музыки. В Москве чаще слушают поп-музыку, в Петербурге — русский рэп.\n",
        "\n"
      ]
    },
    {
      "cell_type": "markdown",
      "metadata": {
        "deletable": false,
        "editable": false,
        "id": "Ml1hmfXC_Zcs"
      },
      "source": [
        "## Общая информация о данных\n",
        "\n",
        "\n"
      ]
    },
    {
      "cell_type": "code",
      "execution_count": 1,
      "metadata": {
        "deletable": false,
        "id": "AXN7PHPN_Zcs"
      },
      "outputs": [],
      "source": [
        "import pandas as pd"
      ]
    },
    {
      "cell_type": "code",
      "execution_count": 2,
      "metadata": {
        "deletable": false,
        "id": "fFVu7vqh_Zct",
        "colab": {
          "base_uri": "https://localhost:8080/",
          "height": 299
        },
        "outputId": "daa6f7bf-29f2-4f5b-f152-db37dd44bcb9"
      },
      "outputs": [
        {
          "output_type": "error",
          "ename": "FileNotFoundError",
          "evalue": "[Errno 2] No such file or directory: 'yandex_music_project.csv'",
          "traceback": [
            "\u001b[0;31m---------------------------------------------------------------------------\u001b[0m",
            "\u001b[0;31mFileNotFoundError\u001b[0m                         Traceback (most recent call last)",
            "\u001b[0;32m<ipython-input-2-320eb45558c0>\u001b[0m in \u001b[0;36m<cell line: 1>\u001b[0;34m()\u001b[0m\n\u001b[0;32m----> 1\u001b[0;31m \u001b[0mdf\u001b[0m \u001b[0;34m=\u001b[0m \u001b[0mpd\u001b[0m\u001b[0;34m.\u001b[0m\u001b[0mread_csv\u001b[0m\u001b[0;34m(\u001b[0m\u001b[0;34m'yandex_music_project.csv'\u001b[0m\u001b[0;34m)\u001b[0m\u001b[0;34m\u001b[0m\u001b[0;34m\u001b[0m\u001b[0m\n\u001b[0m",
            "\u001b[0;32m/usr/local/lib/python3.10/dist-packages/pandas/util/_decorators.py\u001b[0m in \u001b[0;36mwrapper\u001b[0;34m(*args, **kwargs)\u001b[0m\n\u001b[1;32m    209\u001b[0m                 \u001b[0;32melse\u001b[0m\u001b[0;34m:\u001b[0m\u001b[0;34m\u001b[0m\u001b[0;34m\u001b[0m\u001b[0m\n\u001b[1;32m    210\u001b[0m                     \u001b[0mkwargs\u001b[0m\u001b[0;34m[\u001b[0m\u001b[0mnew_arg_name\u001b[0m\u001b[0;34m]\u001b[0m \u001b[0;34m=\u001b[0m \u001b[0mnew_arg_value\u001b[0m\u001b[0;34m\u001b[0m\u001b[0;34m\u001b[0m\u001b[0m\n\u001b[0;32m--> 211\u001b[0;31m             \u001b[0;32mreturn\u001b[0m \u001b[0mfunc\u001b[0m\u001b[0;34m(\u001b[0m\u001b[0;34m*\u001b[0m\u001b[0margs\u001b[0m\u001b[0;34m,\u001b[0m \u001b[0;34m**\u001b[0m\u001b[0mkwargs\u001b[0m\u001b[0;34m)\u001b[0m\u001b[0;34m\u001b[0m\u001b[0;34m\u001b[0m\u001b[0m\n\u001b[0m\u001b[1;32m    212\u001b[0m \u001b[0;34m\u001b[0m\u001b[0m\n\u001b[1;32m    213\u001b[0m         \u001b[0;32mreturn\u001b[0m \u001b[0mcast\u001b[0m\u001b[0;34m(\u001b[0m\u001b[0mF\u001b[0m\u001b[0;34m,\u001b[0m \u001b[0mwrapper\u001b[0m\u001b[0;34m)\u001b[0m\u001b[0;34m\u001b[0m\u001b[0;34m\u001b[0m\u001b[0m\n",
            "\u001b[0;32m/usr/local/lib/python3.10/dist-packages/pandas/util/_decorators.py\u001b[0m in \u001b[0;36mwrapper\u001b[0;34m(*args, **kwargs)\u001b[0m\n\u001b[1;32m    329\u001b[0m                     \u001b[0mstacklevel\u001b[0m\u001b[0;34m=\u001b[0m\u001b[0mfind_stack_level\u001b[0m\u001b[0;34m(\u001b[0m\u001b[0;34m)\u001b[0m\u001b[0;34m,\u001b[0m\u001b[0;34m\u001b[0m\u001b[0;34m\u001b[0m\u001b[0m\n\u001b[1;32m    330\u001b[0m                 )\n\u001b[0;32m--> 331\u001b[0;31m             \u001b[0;32mreturn\u001b[0m \u001b[0mfunc\u001b[0m\u001b[0;34m(\u001b[0m\u001b[0;34m*\u001b[0m\u001b[0margs\u001b[0m\u001b[0;34m,\u001b[0m \u001b[0;34m**\u001b[0m\u001b[0mkwargs\u001b[0m\u001b[0;34m)\u001b[0m\u001b[0;34m\u001b[0m\u001b[0;34m\u001b[0m\u001b[0m\n\u001b[0m\u001b[1;32m    332\u001b[0m \u001b[0;34m\u001b[0m\u001b[0m\n\u001b[1;32m    333\u001b[0m         \u001b[0;31m# error: \"Callable[[VarArg(Any), KwArg(Any)], Any]\" has no\u001b[0m\u001b[0;34m\u001b[0m\u001b[0;34m\u001b[0m\u001b[0m\n",
            "\u001b[0;32m/usr/local/lib/python3.10/dist-packages/pandas/io/parsers/readers.py\u001b[0m in \u001b[0;36mread_csv\u001b[0;34m(filepath_or_buffer, sep, delimiter, header, names, index_col, usecols, squeeze, prefix, mangle_dupe_cols, dtype, engine, converters, true_values, false_values, skipinitialspace, skiprows, skipfooter, nrows, na_values, keep_default_na, na_filter, verbose, skip_blank_lines, parse_dates, infer_datetime_format, keep_date_col, date_parser, dayfirst, cache_dates, iterator, chunksize, compression, thousands, decimal, lineterminator, quotechar, quoting, doublequote, escapechar, comment, encoding, encoding_errors, dialect, error_bad_lines, warn_bad_lines, on_bad_lines, delim_whitespace, low_memory, memory_map, float_precision, storage_options)\u001b[0m\n\u001b[1;32m    948\u001b[0m     \u001b[0mkwds\u001b[0m\u001b[0;34m.\u001b[0m\u001b[0mupdate\u001b[0m\u001b[0;34m(\u001b[0m\u001b[0mkwds_defaults\u001b[0m\u001b[0;34m)\u001b[0m\u001b[0;34m\u001b[0m\u001b[0;34m\u001b[0m\u001b[0m\n\u001b[1;32m    949\u001b[0m \u001b[0;34m\u001b[0m\u001b[0m\n\u001b[0;32m--> 950\u001b[0;31m     \u001b[0;32mreturn\u001b[0m \u001b[0m_read\u001b[0m\u001b[0;34m(\u001b[0m\u001b[0mfilepath_or_buffer\u001b[0m\u001b[0;34m,\u001b[0m \u001b[0mkwds\u001b[0m\u001b[0;34m)\u001b[0m\u001b[0;34m\u001b[0m\u001b[0;34m\u001b[0m\u001b[0m\n\u001b[0m\u001b[1;32m    951\u001b[0m \u001b[0;34m\u001b[0m\u001b[0m\n\u001b[1;32m    952\u001b[0m \u001b[0;34m\u001b[0m\u001b[0m\n",
            "\u001b[0;32m/usr/local/lib/python3.10/dist-packages/pandas/io/parsers/readers.py\u001b[0m in \u001b[0;36m_read\u001b[0;34m(filepath_or_buffer, kwds)\u001b[0m\n\u001b[1;32m    603\u001b[0m \u001b[0;34m\u001b[0m\u001b[0m\n\u001b[1;32m    604\u001b[0m     \u001b[0;31m# Create the parser.\u001b[0m\u001b[0;34m\u001b[0m\u001b[0;34m\u001b[0m\u001b[0m\n\u001b[0;32m--> 605\u001b[0;31m     \u001b[0mparser\u001b[0m \u001b[0;34m=\u001b[0m \u001b[0mTextFileReader\u001b[0m\u001b[0;34m(\u001b[0m\u001b[0mfilepath_or_buffer\u001b[0m\u001b[0;34m,\u001b[0m \u001b[0;34m**\u001b[0m\u001b[0mkwds\u001b[0m\u001b[0;34m)\u001b[0m\u001b[0;34m\u001b[0m\u001b[0;34m\u001b[0m\u001b[0m\n\u001b[0m\u001b[1;32m    606\u001b[0m \u001b[0;34m\u001b[0m\u001b[0m\n\u001b[1;32m    607\u001b[0m     \u001b[0;32mif\u001b[0m \u001b[0mchunksize\u001b[0m \u001b[0;32mor\u001b[0m \u001b[0miterator\u001b[0m\u001b[0;34m:\u001b[0m\u001b[0;34m\u001b[0m\u001b[0;34m\u001b[0m\u001b[0m\n",
            "\u001b[0;32m/usr/local/lib/python3.10/dist-packages/pandas/io/parsers/readers.py\u001b[0m in \u001b[0;36m__init__\u001b[0;34m(self, f, engine, **kwds)\u001b[0m\n\u001b[1;32m   1440\u001b[0m \u001b[0;34m\u001b[0m\u001b[0m\n\u001b[1;32m   1441\u001b[0m         \u001b[0mself\u001b[0m\u001b[0;34m.\u001b[0m\u001b[0mhandles\u001b[0m\u001b[0;34m:\u001b[0m \u001b[0mIOHandles\u001b[0m \u001b[0;34m|\u001b[0m \u001b[0;32mNone\u001b[0m \u001b[0;34m=\u001b[0m \u001b[0;32mNone\u001b[0m\u001b[0;34m\u001b[0m\u001b[0;34m\u001b[0m\u001b[0m\n\u001b[0;32m-> 1442\u001b[0;31m         \u001b[0mself\u001b[0m\u001b[0;34m.\u001b[0m\u001b[0m_engine\u001b[0m \u001b[0;34m=\u001b[0m \u001b[0mself\u001b[0m\u001b[0;34m.\u001b[0m\u001b[0m_make_engine\u001b[0m\u001b[0;34m(\u001b[0m\u001b[0mf\u001b[0m\u001b[0;34m,\u001b[0m \u001b[0mself\u001b[0m\u001b[0;34m.\u001b[0m\u001b[0mengine\u001b[0m\u001b[0;34m)\u001b[0m\u001b[0;34m\u001b[0m\u001b[0;34m\u001b[0m\u001b[0m\n\u001b[0m\u001b[1;32m   1443\u001b[0m \u001b[0;34m\u001b[0m\u001b[0m\n\u001b[1;32m   1444\u001b[0m     \u001b[0;32mdef\u001b[0m \u001b[0mclose\u001b[0m\u001b[0;34m(\u001b[0m\u001b[0mself\u001b[0m\u001b[0;34m)\u001b[0m \u001b[0;34m->\u001b[0m \u001b[0;32mNone\u001b[0m\u001b[0;34m:\u001b[0m\u001b[0;34m\u001b[0m\u001b[0;34m\u001b[0m\u001b[0m\n",
            "\u001b[0;32m/usr/local/lib/python3.10/dist-packages/pandas/io/parsers/readers.py\u001b[0m in \u001b[0;36m_make_engine\u001b[0;34m(self, f, engine)\u001b[0m\n\u001b[1;32m   1733\u001b[0m                 \u001b[0;32mif\u001b[0m \u001b[0;34m\"b\"\u001b[0m \u001b[0;32mnot\u001b[0m \u001b[0;32min\u001b[0m \u001b[0mmode\u001b[0m\u001b[0;34m:\u001b[0m\u001b[0;34m\u001b[0m\u001b[0;34m\u001b[0m\u001b[0m\n\u001b[1;32m   1734\u001b[0m                     \u001b[0mmode\u001b[0m \u001b[0;34m+=\u001b[0m \u001b[0;34m\"b\"\u001b[0m\u001b[0;34m\u001b[0m\u001b[0;34m\u001b[0m\u001b[0m\n\u001b[0;32m-> 1735\u001b[0;31m             self.handles = get_handle(\n\u001b[0m\u001b[1;32m   1736\u001b[0m                 \u001b[0mf\u001b[0m\u001b[0;34m,\u001b[0m\u001b[0;34m\u001b[0m\u001b[0;34m\u001b[0m\u001b[0m\n\u001b[1;32m   1737\u001b[0m                 \u001b[0mmode\u001b[0m\u001b[0;34m,\u001b[0m\u001b[0;34m\u001b[0m\u001b[0;34m\u001b[0m\u001b[0m\n",
            "\u001b[0;32m/usr/local/lib/python3.10/dist-packages/pandas/io/common.py\u001b[0m in \u001b[0;36mget_handle\u001b[0;34m(path_or_buf, mode, encoding, compression, memory_map, is_text, errors, storage_options)\u001b[0m\n\u001b[1;32m    854\u001b[0m         \u001b[0;32mif\u001b[0m \u001b[0mioargs\u001b[0m\u001b[0;34m.\u001b[0m\u001b[0mencoding\u001b[0m \u001b[0;32mand\u001b[0m \u001b[0;34m\"b\"\u001b[0m \u001b[0;32mnot\u001b[0m \u001b[0;32min\u001b[0m \u001b[0mioargs\u001b[0m\u001b[0;34m.\u001b[0m\u001b[0mmode\u001b[0m\u001b[0;34m:\u001b[0m\u001b[0;34m\u001b[0m\u001b[0;34m\u001b[0m\u001b[0m\n\u001b[1;32m    855\u001b[0m             \u001b[0;31m# Encoding\u001b[0m\u001b[0;34m\u001b[0m\u001b[0;34m\u001b[0m\u001b[0m\n\u001b[0;32m--> 856\u001b[0;31m             handle = open(\n\u001b[0m\u001b[1;32m    857\u001b[0m                 \u001b[0mhandle\u001b[0m\u001b[0;34m,\u001b[0m\u001b[0;34m\u001b[0m\u001b[0;34m\u001b[0m\u001b[0m\n\u001b[1;32m    858\u001b[0m                 \u001b[0mioargs\u001b[0m\u001b[0;34m.\u001b[0m\u001b[0mmode\u001b[0m\u001b[0;34m,\u001b[0m\u001b[0;34m\u001b[0m\u001b[0;34m\u001b[0m\u001b[0m\n",
            "\u001b[0;31mFileNotFoundError\u001b[0m: [Errno 2] No such file or directory: 'yandex_music_project.csv'"
          ]
        }
      ],
      "source": [
        "df = pd.read_csv('yandex_music_project.csv')"
      ]
    },
    {
      "cell_type": "code",
      "execution_count": null,
      "metadata": {
        "deletable": false,
        "id": "oWTVX3gW_Zct"
      },
      "outputs": [],
      "source": [
        "df.head(10)"
      ]
    },
    {
      "cell_type": "code",
      "execution_count": null,
      "metadata": {
        "deletable": false,
        "id": "DSf2kIb-_Zct"
      },
      "outputs": [],
      "source": [
        "df.info()\n",
        "# получение общей информации о данных в таблице df"
      ]
    },
    {
      "cell_type": "markdown",
      "metadata": {
        "deletable": false,
        "editable": false,
        "id": "TaQ2Iwbr_Zct"
      },
      "source": [
        "Итак, в таблице семь столбцов. Тип данных во всех столбцах — `object`.\n",
        "\n",
        "Согласно документации к данным:\n",
        "* `userID` — идентификатор пользователя;\n",
        "* `Track` — название трека;  \n",
        "* `artist` — имя исполнителя;\n",
        "* `genre` — название жанра;\n",
        "* `City` — город пользователя;\n",
        "* `time` — время начала прослушивания;\n",
        "* `Day` — день недели.\n",
        "\n",
        "Количество значений в столбцах различается. Значит, в данных есть пропущенные значения."
      ]
    },
    {
      "cell_type": "markdown",
      "metadata": {
        "deletable": false,
        "editable": false,
        "id": "MCB6-dXG_Zct"
      },
      "source": [
        "**Выводы**\n",
        "\n",
        "В каждой строке таблицы — данные о прослушанном треке. Часть колонок описывает саму композицию: название, исполнителя и жанр. Остальные данные рассказывают о пользователе: из какого он города, когда он слушал музыку.\n",
        "\n",
        "Предварительно можно утверждать, что данных достаточно для проверки гипотез. Но встречаются пропуски в данных, а в названиях колонок — расхождения с хорошим стилем.\n",
        "\n"
      ]
    },
    {
      "cell_type": "markdown",
      "metadata": {
        "deletable": false,
        "editable": false,
        "id": "SjYF6Ub9_Zct"
      },
      "source": [
        "## Предобработка данных\n",
        "Исправить названия столбцов на более удобные названия столбцов, потом исключить пропуски. Затем проверка данных на дубликаты."
      ]
    },
    {
      "cell_type": "markdown",
      "metadata": {
        "deletable": false,
        "editable": false,
        "id": "dIaKXr29_Zct",
        "tags": [
          "start_task"
        ]
      },
      "source": [
        "### Стиль заголовков\n"
      ]
    },
    {
      "cell_type": "code",
      "execution_count": null,
      "metadata": {
        "deletable": false,
        "id": "oKOTdF_Q_Zct"
      },
      "outputs": [],
      "source": [
        "df.columns\n",
        "# перечень названий столбцов таблицы df"
      ]
    },
    {
      "cell_type": "markdown",
      "metadata": {
        "deletable": false,
        "editable": false,
        "id": "zj5534cv_Zct",
        "tags": [
          "start_task"
        ]
      },
      "source": [
        "Переименование названий столбцов:\n",
        "* `'  userID'` → `'user_id'`;\n",
        "* `'Track'` → `'track'`;\n",
        "* `'  City  '` → `'city'`;\n",
        "* `'Day'` → `'day'`."
      ]
    },
    {
      "cell_type": "code",
      "execution_count": null,
      "metadata": {
        "deletable": false,
        "id": "ISlFqs5y_Zct"
      },
      "outputs": [],
      "source": [
        "df = df.rename(columns = {'  userID':'user_id', 'Track':'track', '  City  ':'city', 'Day':'day'})"
      ]
    },
    {
      "cell_type": "markdown",
      "metadata": {
        "deletable": false,
        "editable": false,
        "id": "1dqbh00J_Zct",
        "tags": [
          "start_task"
        ]
      },
      "source": [
        "Проверка результата."
      ]
    },
    {
      "cell_type": "code",
      "execution_count": null,
      "metadata": {
        "deletable": false,
        "id": "d4NOAmTW_Zct"
      },
      "outputs": [],
      "source": [
        "df.columns"
      ]
    },
    {
      "cell_type": "markdown",
      "metadata": {
        "deletable": false,
        "editable": false,
        "id": "5ISfbcfY_Zct",
        "tags": [
          "start_task"
        ]
      },
      "source": [
        "### Пропуски значений\n",
        "\n",
        "Посчёт, сколько в таблице пропущенных значений."
      ]
    },
    {
      "cell_type": "code",
      "execution_count": null,
      "metadata": {
        "deletable": false,
        "id": "RskX29qr_Zct"
      },
      "outputs": [],
      "source": [
        "df.isna().sum()\n",
        "# подсчёт пропусков"
      ]
    },
    {
      "cell_type": "markdown",
      "metadata": {
        "deletable": false,
        "editable": false,
        "id": "qubhgnlO_Zct"
      },
      "source": [
        "Не все пропущенные значения влияют на исследование. Так в `track` и `artist` пропуски достаточно заменить явными обозначениями.\n",
        "\n",
        "Но пропуски в `genre` могут помешать сравнению музыкальных вкусов в Москве и Санкт-Петербурге. Поэтому нужно:\n",
        "* заполнить и эти пропуски явными обозначениями;\n",
        "* оценить, насколько они повредят расчётам."
      ]
    },
    {
      "cell_type": "markdown",
      "metadata": {
        "deletable": false,
        "editable": false,
        "id": "fSv2laPA_Zct",
        "tags": [
          "start_task"
        ]
      },
      "source": [
        "Замена пропущенных значений в столбцах `track`, `artist` и `genre` на строку `'unknown'`."
      ]
    },
    {
      "cell_type": "code",
      "execution_count": null,
      "metadata": {
        "deletable": false,
        "id": "KplB5qWs_Zct"
      },
      "outputs": [],
      "source": [
        "columns_to_replace = ['track', 'artist', 'genre']\n",
        "for i in columns_to_replace:\n",
        "    df[i] = df[i].fillna('unknown')\n",
        "# перебор названий столбцов в цикле и замена пропущенных значений на 'unknown'"
      ]
    },
    {
      "cell_type": "code",
      "execution_count": null,
      "metadata": {
        "deletable": false,
        "id": "Tq4nYRX4_Zct"
      },
      "outputs": [],
      "source": [
        "df.isna().sum()\n",
        "# подсчёт пропусков"
      ]
    },
    {
      "cell_type": "markdown",
      "metadata": {
        "deletable": false,
        "editable": false,
        "id": "BWKRtBJ3_Zct",
        "tags": [
          "start_task"
        ]
      },
      "source": [
        "### Дубликаты\n",
        "\n",
        "Подсчёт явных дубликатов в таблице:"
      ]
    },
    {
      "cell_type": "code",
      "execution_count": null,
      "metadata": {
        "deletable": false,
        "id": "36eES_S0_Zct"
      },
      "outputs": [],
      "source": [
        "df.duplicated().sum() #подсчет явных дубликатов с помощью двух методов"
      ]
    },
    {
      "cell_type": "code",
      "execution_count": null,
      "metadata": {
        "deletable": false,
        "id": "exFHq6tt_Zct"
      },
      "outputs": [],
      "source": [
        "df = df.drop_duplicates().reset_index(drop=True)\n",
        "# удаление явных дубликатов"
      ]
    },
    {
      "cell_type": "code",
      "execution_count": null,
      "metadata": {
        "deletable": false,
        "id": "-8PuNWQ0_Zct"
      },
      "outputs": [],
      "source": [
        "df.duplicated().sum() # проверка на отсутствие дубликатов"
      ]
    },
    {
      "cell_type": "markdown",
      "metadata": {
        "deletable": false,
        "editable": false,
        "id": "QlFBsxAr_Zct"
      },
      "source": [
        "Избавление от неявных дубликатов в колонке `genre`."
      ]
    },
    {
      "cell_type": "code",
      "execution_count": null,
      "metadata": {
        "deletable": false,
        "id": "JIUcqzZN_Zct"
      },
      "outputs": [],
      "source": [
        "genre = df['genre']\n",
        "genre = genre.sort_values()\n",
        "genre.unique()\n",
        "# Просмотр уникальных названий жанров"
      ]
    },
    {
      "cell_type": "markdown",
      "metadata": {
        "deletable": false,
        "editable": false,
        "id": "qej-Qmuo_Zct",
        "tags": [
          "start_task"
        ]
      },
      "source": [
        "В данных есть следующие неявные дубликаты:\n",
        "* *hip*,\n",
        "* *hop*,\n",
        "* *hip-hop*.\n"
      ]
    },
    {
      "cell_type": "code",
      "execution_count": null,
      "metadata": {
        "deletable": false,
        "id": "ErNDkmns_Zct"
      },
      "outputs": [],
      "source": [
        "dublications = ['hip', 'hop', 'hip-hop']\n",
        "name = 'hiphop'\n",
        "df['genre'] = df['genre'].replace(dublications, name)\n",
        "# Устранение неявных дубликатов"
      ]
    },
    {
      "cell_type": "code",
      "execution_count": null,
      "metadata": {
        "deletable": false,
        "id": "wvixALnFG15m"
      },
      "outputs": [],
      "source": [
        "genre = df['genre']\n",
        "genre = genre.sort_values()\n",
        "genre.unique()\n",
        "# Проверка на неявные дубликаты"
      ]
    },
    {
      "cell_type": "markdown",
      "metadata": {
        "deletable": false,
        "editable": false,
        "id": "jz6a9-7HQUDd"
      },
      "source": [
        "**Выводы**\n",
        "\n",
        "Предобработка обнаружила три проблемы в данных:\n",
        "\n",
        "- нарушения в стиле заголовков,\n",
        "- пропущенные значения,\n",
        "- дубликаты — явные и неявные.\n",
        "\n",
        "Были исправлены заголовки, чтобы упростить работу с таблицей. Без дубликатов исследование станет более точным.\n",
        "\n",
        "Пропущенные значения заменили на `'unknown'`.\n"
      ]
    },
    {
      "cell_type": "markdown",
      "metadata": {
        "deletable": false,
        "editable": false,
        "id": "WttZHXH0SqKk"
      },
      "source": [
        "## Проверка гипотез"
      ]
    },
    {
      "cell_type": "markdown",
      "metadata": {
        "deletable": false,
        "editable": false,
        "id": "Im936VVi_Zcu"
      },
      "source": [
        "### Сравнение поведения пользователей двух столиц"
      ]
    },
    {
      "cell_type": "markdown",
      "metadata": {
        "deletable": false,
        "editable": false,
        "id": "nwt_MuaL_Zcu"
      },
      "source": [
        "Первая гипотеза утверждает, что\n",
        "\n",
        "**пользователи по-разному слушают музыку в Москве и Санкт-Петербурге**.\n",
        "\n",
        "Проверка этого предположения по данным о трёх днях недели — понедельнике, среде и пятнице.\n"
      ]
    },
    {
      "cell_type": "code",
      "execution_count": null,
      "metadata": {
        "deletable": false,
        "id": "0_Qs96oh_Zcu"
      },
      "outputs": [],
      "source": [
        "df.groupby('city')['city'].count()\n",
        "# Подсчёт прослушиваний в каждом городе"
      ]
    },
    {
      "cell_type": "markdown",
      "metadata": {
        "deletable": false,
        "editable": false,
        "id": "dzli3w8o_Zcu",
        "tags": [
          "start_task"
        ]
      },
      "source": [
        "В Москве прослушиваний больше, чем в Петербурге. Из этого не следует, что московские пользователи чаще слушают музыку. Просто самих пользователей в Москве больше.\n"
      ]
    },
    {
      "cell_type": "code",
      "execution_count": null,
      "metadata": {
        "deletable": false,
        "id": "uZMKjiJz_Zcu"
      },
      "outputs": [],
      "source": [
        "df.groupby('day')['day'].count()\n",
        "# Подсчёт прослушиваний в каждый из трёх дней"
      ]
    },
    {
      "cell_type": "markdown",
      "metadata": {
        "deletable": false,
        "editable": false,
        "id": "cC2tNrlL_Zcu"
      },
      "source": [
        "В среднем пользователи из двух городов менее активны по средам. Но картина может измениться, если рассмотреть каждый город в отдельности."
      ]
    },
    {
      "cell_type": "markdown",
      "metadata": {
        "deletable": false,
        "editable": false,
        "id": "POzs8bGa_Zcu",
        "tags": [
          "start_task"
        ]
      },
      "source": [
        "Создание функции `number_tracks()`, которая посчитает прослушивания для заданного дня и города."
      ]
    },
    {
      "cell_type": "code",
      "execution_count": null,
      "metadata": {
        "deletable": false,
        "id": "Nz3GdQB1_Zcu"
      },
      "outputs": [],
      "source": [
        "# создание функции\n",
        "def number_tracks(day, city):\n",
        "    data = df[df['day'] == day]\n",
        "    track_list = data[data['city'] == city]\n",
        "    track_list_count = track_list['user_id'].count()\n",
        "    return track_list_count"
      ]
    },
    {
      "cell_type": "code",
      "execution_count": null,
      "metadata": {
        "deletable": false,
        "id": "rJcRATNQ_Zcu"
      },
      "outputs": [],
      "source": [
        "number_tracks('Monday', 'Moscow')\n",
        "# количество прослушиваний в Москве по понедельникам"
      ]
    },
    {
      "cell_type": "code",
      "execution_count": null,
      "metadata": {
        "deletable": false,
        "id": "hq_ncZ5T_Zcu"
      },
      "outputs": [],
      "source": [
        "number_tracks('Monday', 'Saint-Petersburg')\n",
        "# количество прослушиваний в Санкт-Петербурге по понедельникам"
      ]
    },
    {
      "cell_type": "code",
      "execution_count": null,
      "metadata": {
        "deletable": false,
        "id": "_NTy2VPU_Zcu"
      },
      "outputs": [],
      "source": [
        "number_tracks('Wednesday', 'Moscow')\n",
        "# количество прослушиваний в Москве по средам"
      ]
    },
    {
      "cell_type": "code",
      "execution_count": null,
      "metadata": {
        "deletable": false,
        "id": "j2y3TAwo_Zcu"
      },
      "outputs": [],
      "source": [
        "number_tracks('Wednesday', 'Saint-Petersburg')\n",
        "# количество прослушиваний в Санкт-Петербурге по средам"
      ]
    },
    {
      "cell_type": "code",
      "execution_count": null,
      "metadata": {
        "deletable": false,
        "id": "vYDw5u_K_Zcu"
      },
      "outputs": [],
      "source": [
        "number_tracks('Friday', 'Moscow')\n",
        "#количество прослушиваний в Москве по пятницам"
      ]
    },
    {
      "cell_type": "code",
      "execution_count": null,
      "metadata": {
        "deletable": false,
        "id": "8_yzFtW3_Zcu"
      },
      "outputs": [],
      "source": [
        "number_tracks('Friday', 'Saint-Petersburg')\n",
        "# количество прослушиваний в Санкт-Петербурге по пятницам"
      ]
    },
    {
      "cell_type": "markdown",
      "metadata": {
        "deletable": false,
        "editable": false,
        "id": "7QXffbO-_Zcu",
        "tags": [
          "start_task"
        ]
      },
      "source": [
        "Создание таблицы с результатами данных"
      ]
    },
    {
      "cell_type": "code",
      "execution_count": null,
      "metadata": {
        "deletable": false,
        "id": "APAcLpOr_Zcu"
      },
      "outputs": [],
      "source": [
        "info = pd.DataFrame(data = [['Москва', 15740, 11056, 15945], ['Санкт-Петербург', 5614, 7003, 5895]],\n",
        "                    columns = ['city', 'monday', 'wednesday', 'friday'])\n",
        "info\n",
        "# Таблица с результатами"
      ]
    },
    {
      "cell_type": "markdown",
      "metadata": {
        "deletable": false,
        "editable": false,
        "id": "-EgPIHYu_Zcu"
      },
      "source": [
        "**Выводы**\n",
        "\n",
        "Данные показывают разницу поведения пользователей:\n",
        "\n",
        "- В Москве пик прослушиваний приходится на понедельник и пятницу, а в среду заметен спад.\n",
        "- В Петербурге, наоборот, больше слушают музыку по средам. Активность в понедельник и пятницу здесь почти в равной мере уступает среде.\n",
        "\n",
        "Значит, данные говорят в пользу первой гипотезы."
      ]
    },
    {
      "cell_type": "markdown",
      "metadata": {
        "deletable": false,
        "editable": false,
        "id": "atZAxtq4_Zcu"
      },
      "source": [
        "### Музыка в начале и в конце недели"
      ]
    },
    {
      "cell_type": "markdown",
      "metadata": {
        "deletable": false,
        "editable": false,
        "id": "eXrQqXFH_Zcu"
      },
      "source": [
        "Проверка второй гипотезе,\n",
        "**утром в понедельник в Москве преобладают одни жанры, а в Петербурге — другие**.\n",
        "\n",
        "Так же и вечером пятницы преобладают разные жанры — в зависимости от города."
      ]
    },
    {
      "cell_type": "code",
      "execution_count": null,
      "metadata": {
        "deletable": false,
        "id": "qeaFfM_P_Zcu"
      },
      "outputs": [],
      "source": [
        "moscow_general = df[df['city'] == 'Moscow']\n",
        "\n"
      ]
    },
    {
      "cell_type": "code",
      "execution_count": null,
      "metadata": {
        "deletable": false,
        "id": "ORaVRKto_Zcu"
      },
      "outputs": [],
      "source": [
        "spb_general = df[df['city'] == 'Saint-Petersburg']\n",
        "\n"
      ]
    },
    {
      "cell_type": "markdown",
      "metadata": {
        "deletable": false,
        "editable": false,
        "id": "MEJV-CX2_Zcu",
        "tags": [
          "start_task"
        ]
      },
      "source": [
        "Создание функции `genre_weekday()`, которая возвращает информацию о топ-10 жанров тех треков, которые прослушивали в указанный день, в промежутке между двумя отметками времени."
      ]
    },
    {
      "cell_type": "code",
      "execution_count": null,
      "metadata": {
        "deletable": false,
        "id": "laJT9BYl_Zcu"
      },
      "outputs": [],
      "source": [
        "def genre_weekday(df, day, time1, time2):\n",
        "    genre_df = df[df['day'] == day]\n",
        "    genre_df = genre_df[genre_df['time'] < time2]\n",
        "    genre_df = genre_df[genre_df['time'] > time1]\n",
        "    genre_df_grouped = genre_df.groupby('genre')['genre'].count()\n",
        "    genre_df_sorted = genre_df_grouped.sort_values(ascending = False)\n",
        "    return genre_df_sorted[:10]"
      ]
    },
    {
      "cell_type": "markdown",
      "metadata": {
        "deletable": false,
        "editable": false,
        "id": "la2s2_PF_Zcu",
        "tags": [
          "start_task"
        ]
      },
      "source": [
        "Сравнение результатов функции `genre_weekday()` для Москвы и Санкт-Петербурга в понедельник утром (с 7:00 до 11:00) и в пятницу вечером (с 17:00 до 23:00):"
      ]
    },
    {
      "cell_type": "code",
      "execution_count": null,
      "metadata": {
        "deletable": false,
        "id": "yz7itPUQ_Zcu"
      },
      "outputs": [],
      "source": [
        "genre_weekday(moscow_general, 'Monday', '07:00', '11:00')\n"
      ]
    },
    {
      "cell_type": "code",
      "execution_count": null,
      "metadata": {
        "deletable": false,
        "id": "kwUcHPdy_Zcu"
      },
      "outputs": [],
      "source": [
        "genre_weekday(spb_general, 'Monday', '07:00', '11:00')"
      ]
    },
    {
      "cell_type": "code",
      "execution_count": null,
      "metadata": {
        "deletable": false,
        "id": "EzXVRE1o_Zcu"
      },
      "outputs": [],
      "source": [
        "genre_weekday(moscow_general, 'Friday', '17:00', '23:00')"
      ]
    },
    {
      "cell_type": "code",
      "execution_count": null,
      "metadata": {
        "deletable": false,
        "id": "JZaEKu5v_Zcu"
      },
      "outputs": [],
      "source": [
        "genre_weekday(spb_general, 'Friday', '17:00', '23:00')"
      ]
    },
    {
      "cell_type": "markdown",
      "metadata": {
        "deletable": false,
        "editable": false,
        "id": "wrCe4MNX_Zcu"
      },
      "source": [
        "**Выводы**\n",
        "\n",
        "Если сравнить топ-10 жанров в понедельник утром, можно сделать такие выводы:\n",
        "\n",
        "1. В Москве и Петербурге слушают похожую музыку. Единственное отличие — в московский рейтинг вошёл жанр “world”, а в петербургский — джаз и классика.\n",
        "\n",
        "2. В Москве пропущенных значений оказалось так много, что значение `'unknown'` заняло десятое место среди самых популярных жанров. Значит, пропущенные значения занимают существенную долю в данных и угрожают достоверности исследования.\n",
        "\n",
        "Вечер пятницы не меняет эту картину. Некоторые жанры поднимаются немного выше, другие спускаются, но в целом топ-10 остаётся тем же самым.\n",
        "\n",
        "Таким образом, вторая гипотеза подтвердилась лишь частично:\n",
        "* Пользователи слушают похожую музыку в начале недели и в конце.\n",
        "* Разница между Москвой и Петербургом не слишком выражена. В Москве чаще слушают русскую популярную музыку, в Петербурге — джаз.\n",
        "\n",
        "Однако пропуски в данных ставят под сомнение этот результат. В Москве их так много, что рейтинг топ-10 мог бы выглядеть иначе, если бы не утерянные  данные о жанрах."
      ]
    },
    {
      "cell_type": "markdown",
      "metadata": {
        "deletable": false,
        "editable": false,
        "id": "JolODAqr_Zcu"
      },
      "source": [
        "### Жанровые предпочтения в Москве и Петербурге\n",
        "\n",
        "Гипотеза: **Петербург — столица рэпа, музыку этого жанра там слушают чаще, чем в Москве.**  А Москва — город контрастов, в котором, тем не менее, преобладает поп-музыка."
      ]
    },
    {
      "cell_type": "code",
      "execution_count": null,
      "metadata": {
        "deletable": false,
        "id": "r19lIPke_Zcu"
      },
      "outputs": [],
      "source": [
        "moscow_genre = moscow_general.groupby('genre')['genre'].count()\n",
        "moscow_genres = moscow_genre.sort_values(ascending = False)"
      ]
    },
    {
      "cell_type": "code",
      "execution_count": null,
      "metadata": {
        "deletable": false,
        "id": "WhCSooF8_Zcv"
      },
      "outputs": [],
      "source": [
        "moscow_genres.head(10)"
      ]
    },
    {
      "cell_type": "code",
      "execution_count": null,
      "metadata": {
        "deletable": false,
        "id": "gluLIpE7_Zcv"
      },
      "outputs": [],
      "source": [
        "spb_genre = spb_general.groupby('genre')['genre'].count()\n",
        "spb_genres = spb_genre.sort_values(ascending = False)"
      ]
    },
    {
      "cell_type": "code",
      "execution_count": null,
      "metadata": {
        "deletable": false,
        "id": "uaGJHjVU_Zcv"
      },
      "outputs": [],
      "source": [
        "spb_genres.head(10)"
      ]
    },
    {
      "cell_type": "markdown",
      "metadata": {
        "deletable": false,
        "editable": false,
        "id": "RY51YJYu_Zcv"
      },
      "source": [
        "**Выводы**"
      ]
    },
    {
      "cell_type": "markdown",
      "metadata": {
        "deletable": false,
        "editable": false,
        "id": "nVhnJEm__Zcv"
      },
      "source": [
        "Гипотеза частично подтвердилась:\n",
        "* Поп-музыка — самый популярный жанр в Москве, как и предполагала гипотеза. Более того, в топ-10 жанров встречается близкий жанр — русская популярная музыка.\n",
        "* Вопреки ожиданиям, рэп одинаково популярен в Москве и Петербурге.\n"
      ]
    },
    {
      "cell_type": "markdown",
      "metadata": {
        "deletable": false,
        "editable": false,
        "id": "ykKQ0N65_Zcv"
      },
      "source": [
        "## Итоги исследования"
      ]
    },
    {
      "cell_type": "markdown",
      "metadata": {
        "deletable": false,
        "editable": false,
        "id": "tjUwbHb3_Zcv"
      },
      "source": [
        "Были проверены три гипотезы и установлено:\n",
        "\n",
        "1. День недели по-разному влияет на активность пользователей в Москве и Петербурге.\n",
        "\n",
        "Первая гипотеза полностью подтвердилась.\n",
        "\n",
        "2. Музыкальные предпочтения не сильно меняются в течение недели — будь то Москва или Петербург. Небольшие различия заметны в начале недели, по понедельникам:\n",
        "* в Москве слушают музыку жанра “world”,\n",
        "* в Петербурге — джаз и классику.\n",
        "\n",
        "Таким образом, вторая гипотеза подтвердилась лишь отчасти. Этот результат мог оказаться иным, если бы не пропуски в данных.\n",
        "\n",
        "3. Во вкусах пользователей Москвы и Петербурга больше общего чем различий. Вопреки ожиданиям, предпочтения жанров в Петербурге напоминают московские.\n",
        "\n",
        "Третья гипотеза не подтвердилась. Если различия в предпочтениях и существуют, на основной массе пользователей они незаметны.\n",
        "\n"
      ]
    }
  ],
  "metadata": {
    "ExecuteTimeLog": [
      {
        "duration": 405,
        "start_time": "2022-10-25T06:38:55.902Z"
      },
      {
        "duration": 228,
        "start_time": "2022-10-25T06:39:49.483Z"
      },
      {
        "duration": 16,
        "start_time": "2022-10-25T06:41:02.040Z"
      },
      {
        "duration": 35,
        "start_time": "2022-10-25T06:41:32.069Z"
      },
      {
        "duration": 2,
        "start_time": "2022-10-25T06:43:53.305Z"
      },
      {
        "duration": 3,
        "start_time": "2022-10-25T06:44:45.591Z"
      },
      {
        "duration": 4,
        "start_time": "2022-10-25T06:45:04.865Z"
      },
      {
        "duration": 10,
        "start_time": "2022-10-25T06:46:45.284Z"
      },
      {
        "duration": 13,
        "start_time": "2022-10-25T06:50:33.047Z"
      },
      {
        "duration": 6,
        "start_time": "2022-10-25T06:50:59.446Z"
      },
      {
        "duration": 22,
        "start_time": "2022-10-25T06:52:54.856Z"
      },
      {
        "duration": 3,
        "start_time": "2022-10-25T06:57:26.695Z"
      },
      {
        "duration": 26,
        "start_time": "2022-10-25T06:59:35.511Z"
      },
      {
        "duration": 16,
        "start_time": "2022-10-25T07:03:28.390Z"
      },
      {
        "duration": 21,
        "start_time": "2022-10-25T07:03:29.722Z"
      },
      {
        "duration": 65,
        "start_time": "2022-10-25T07:03:32.254Z"
      },
      {
        "duration": 61,
        "start_time": "2022-10-25T07:03:33.888Z"
      },
      {
        "duration": 70,
        "start_time": "2022-10-25T07:03:53.370Z"
      },
      {
        "duration": 69,
        "start_time": "2022-10-25T07:04:00.729Z"
      },
      {
        "duration": 74,
        "start_time": "2022-10-25T07:04:10.183Z"
      },
      {
        "duration": 83,
        "start_time": "2022-10-25T07:04:27.087Z"
      },
      {
        "duration": 53,
        "start_time": "2022-10-25T07:04:57.385Z"
      },
      {
        "duration": 5,
        "start_time": "2022-10-25T07:06:24.300Z"
      },
      {
        "duration": 8,
        "start_time": "2022-10-25T07:07:40.780Z"
      },
      {
        "duration": 37,
        "start_time": "2022-10-25T07:08:49.795Z"
      },
      {
        "duration": 10,
        "start_time": "2022-10-25T07:10:41.497Z"
      },
      {
        "duration": 26,
        "start_time": "2022-10-25T07:11:42.032Z"
      },
      {
        "duration": 33,
        "start_time": "2022-10-25T07:13:30.461Z"
      },
      {
        "duration": 43,
        "start_time": "2022-10-25T07:19:23.549Z"
      },
      {
        "duration": 13,
        "start_time": "2022-10-25T07:19:32.032Z"
      },
      {
        "duration": 11,
        "start_time": "2022-10-25T07:20:39.657Z"
      },
      {
        "duration": 4,
        "start_time": "2022-10-25T08:34:48.842Z"
      },
      {
        "duration": 17,
        "start_time": "2022-10-25T08:35:40.466Z"
      },
      {
        "duration": 15,
        "start_time": "2022-10-25T08:35:56.951Z"
      },
      {
        "duration": 16,
        "start_time": "2022-10-25T08:37:00.640Z"
      },
      {
        "duration": 16,
        "start_time": "2022-10-25T08:37:01.662Z"
      },
      {
        "duration": 17,
        "start_time": "2022-10-25T08:37:02.396Z"
      },
      {
        "duration": 15,
        "start_time": "2022-10-25T08:37:02.998Z"
      },
      {
        "duration": 34,
        "start_time": "2022-10-25T08:38:58.959Z"
      },
      {
        "duration": 12,
        "start_time": "2022-10-25T08:40:03.710Z"
      },
      {
        "duration": 9,
        "start_time": "2022-10-25T08:42:25.696Z"
      },
      {
        "duration": 11,
        "start_time": "2022-10-25T08:44:33.559Z"
      },
      {
        "duration": 9,
        "start_time": "2022-10-25T08:44:35.175Z"
      },
      {
        "duration": 6,
        "start_time": "2022-10-25T08:54:26.395Z"
      },
      {
        "duration": 2364,
        "start_time": "2022-10-25T09:01:03.687Z"
      },
      {
        "duration": 4,
        "start_time": "2022-10-25T09:01:16.163Z"
      },
      {
        "duration": 17,
        "start_time": "2022-10-25T09:01:17.994Z"
      },
      {
        "duration": 17,
        "start_time": "2022-10-25T09:02:12.806Z"
      },
      {
        "duration": 13,
        "start_time": "2022-10-25T09:02:14.727Z"
      },
      {
        "duration": 20,
        "start_time": "2022-10-25T09:02:15.872Z"
      },
      {
        "duration": 20,
        "start_time": "2022-10-25T09:02:16.582Z"
      },
      {
        "duration": 8,
        "start_time": "2022-10-25T09:08:48.288Z"
      },
      {
        "duration": 14,
        "start_time": "2022-10-25T09:09:43.027Z"
      },
      {
        "duration": 11,
        "start_time": "2022-10-25T09:09:46.222Z"
      },
      {
        "duration": 5,
        "start_time": "2022-10-25T09:10:27.902Z"
      },
      {
        "duration": 6,
        "start_time": "2022-10-25T09:12:14.213Z"
      },
      {
        "duration": 5,
        "start_time": "2022-10-25T09:12:36.848Z"
      }
    ],
    "colab": {
      "collapsed_sections": [
        "E0vqbgi9ay0H",
        "VUC88oWjTJw2"
      ],
      "provenance": []
    },
    "kernelspec": {
      "display_name": "Python 3 (ipykernel)",
      "language": "python",
      "name": "python3"
    },
    "language_info": {
      "codemirror_mode": {
        "name": "ipython",
        "version": 3
      },
      "file_extension": ".py",
      "mimetype": "text/x-python",
      "name": "python",
      "nbconvert_exporter": "python",
      "pygments_lexer": "ipython3",
      "version": "3.9.12"
    },
    "toc": {
      "base_numbering": 1,
      "nav_menu": {
        "height": "215px",
        "width": "403px"
      },
      "number_sections": true,
      "sideBar": true,
      "skip_h1_title": true,
      "title_cell": "Table of Contents",
      "title_sidebar": "Contents",
      "toc_cell": false,
      "toc_position": {
        "height": "calc(100% - 180px)",
        "left": "10px",
        "top": "150px",
        "width": "285.825px"
      },
      "toc_section_display": true,
      "toc_window_display": false
    }
  },
  "nbformat": 4,
  "nbformat_minor": 0
}